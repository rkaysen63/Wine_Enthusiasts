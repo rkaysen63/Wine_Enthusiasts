{
 "cells": [
  {
   "cell_type": "markdown",
   "id": "f41ce819",
   "metadata": {},
   "source": [
    "# Random Forest Classifier"
   ]
  },
  {
   "cell_type": "code",
   "execution_count": null,
   "id": "713f5153",
   "metadata": {},
   "outputs": [],
   "source": [
    "# Import dependencies for ML\n",
    "import pandas as pd\n",
    "from sklearn.model_selection import train_test_split\n",
    "from sklearn.preprocessing import StandardScaler,OneHotEncoder\n",
    "from sklearn.preprocessing import LabelEncoder\n",
    "from sklearn.ensemble import RandomForestClassifier\n",
    "from sklearn.metrics import confusion_matrix, accuracy_score, classification_report\n"
   ]
  },
  {
   "cell_type": "code",
   "execution_count": 46,
   "id": "573207e1",
   "metadata": {},
   "outputs": [],
   "source": [
    "# Import Dependencies for Database\n",
    "from config import password\n",
    "import sqlalchemy\n",
    "from sqlalchemy.ext.automap import automap_base\n",
    "from sqlalchemy.orm import Session\n",
    "from sqlalchemy import create_engine, func, inspect\n",
    "import psycopg2\n",
    "import pandas as pd"
   ]
  },
  {
   "cell_type": "code",
   "execution_count": 32,
   "id": "022052a7",
   "metadata": {},
   "outputs": [],
   "source": [
    "db_string = f\"postgresql+psycopg2://postgres:\" + password + \"@127.0.0.1:5434/WineEnthusiast\""
   ]
  },
  {
   "cell_type": "code",
   "execution_count": 33,
   "id": "61cafeb1",
   "metadata": {},
   "outputs": [],
   "source": [
    "engine = create_engine(db_string)"
   ]
  },
  {
   "cell_type": "code",
   "execution_count": 34,
   "id": "0ffe3eb1",
   "metadata": {},
   "outputs": [],
   "source": [
    "inspector = inspect(engine)"
   ]
  },
  {
   "cell_type": "code",
   "execution_count": 37,
   "id": "72b05996",
   "metadata": {},
   "outputs": [
    {
     "data": {
      "text/plain": [
       "['winemag', 'wineregions', 'wine']"
      ]
     },
     "execution_count": 37,
     "metadata": {},
     "output_type": "execute_result"
    }
   ],
   "source": [
    "inspector.get_table_names()"
   ]
  },
  {
   "cell_type": "code",
   "execution_count": 44,
   "id": "c1844954",
   "metadata": {},
   "outputs": [],
   "source": [
    "connection = engine.connect"
   ]
  },
  {
   "cell_type": "code",
   "execution_count": 17,
   "id": "bcbf485f",
   "metadata": {},
   "outputs": [],
   "source": [
    "session = Session(engine)"
   ]
  },
  {
   "cell_type": "code",
   "execution_count": 105,
   "id": "86efbd2c",
   "metadata": {},
   "outputs": [
    {
     "data": {
      "text/plain": [
       "<sqlalchemy.engine.result.ResultProxy at 0x7fcfaca993d0>"
      ]
     },
     "execution_count": 105,
     "metadata": {},
     "output_type": "execute_result"
    }
   ],
   "source": [
    "engine.execute(\"SELECT * from wine\")"
   ]
  },
  {
   "cell_type": "code",
   "execution_count": 106,
   "id": "213edd10",
   "metadata": {},
   "outputs": [
    {
     "name": "stdout",
     "output_type": "stream",
     "text": [
      "['index', 'description', 'points', 'price', 'province', 'region_1', 'region_2', 'title', 'variety', 'winery', 'region', 'latitude', 'longitude']\n"
     ]
    }
   ],
   "source": [
    "col_names_list = []\n",
    "\n",
    "#i = 0\n",
    "for i in range(len(inspector.get_columns('wine'))):\n",
    "    col_names_list.append(inspector.get_columns('wine')[i]['name'])\n",
    "    \n",
    "for i in range(len(inspector.get_columns('wineregions'))):\n",
    "    col_names_list.append(inspector.get_columns('wineregions')[i]['name'])\n",
    "    \n",
    "print(col_names_list)"
   ]
  },
  {
   "cell_type": "code",
   "execution_count": 107,
   "id": "6d900784",
   "metadata": {},
   "outputs": [],
   "source": [
    "US_wine_data_df = pd.DataFrame(columns = col_names_list)"
   ]
  },
  {
   "cell_type": "code",
   "execution_count": 108,
   "id": "e1174320",
   "metadata": {},
   "outputs": [],
   "source": [
    "# Inner join for wines and regions\n",
    "import sys\n",
    "join_db = engine.execute(\"SELECT * from wine inner join wineregions on wine.region_1 = wineregions.region\")\n",
    "for record in join_db:\n",
    "    record_series = pd.Series(list(record), index = US_wine_data_df.columns)\n",
    "    \n",
    "    US_wine_data_df = US_wine_data_df.append(record_series, ignore_index=True)\n",
    "    #print(list(record))"
   ]
  },
  {
   "cell_type": "code",
   "execution_count": 110,
   "id": "f598e9bd",
   "metadata": {},
   "outputs": [
    {
     "data": {
      "text/html": [
       "<div>\n",
       "<style scoped>\n",
       "    .dataframe tbody tr th:only-of-type {\n",
       "        vertical-align: middle;\n",
       "    }\n",
       "\n",
       "    .dataframe tbody tr th {\n",
       "        vertical-align: top;\n",
       "    }\n",
       "\n",
       "    .dataframe thead th {\n",
       "        text-align: right;\n",
       "    }\n",
       "</style>\n",
       "<table border=\"1\" class=\"dataframe\">\n",
       "  <thead>\n",
       "    <tr style=\"text-align: right;\">\n",
       "      <th></th>\n",
       "      <th>index</th>\n",
       "      <th>description</th>\n",
       "      <th>points</th>\n",
       "      <th>price</th>\n",
       "      <th>province</th>\n",
       "      <th>region_1</th>\n",
       "      <th>region_2</th>\n",
       "      <th>title</th>\n",
       "      <th>variety</th>\n",
       "      <th>winery</th>\n",
       "      <th>region</th>\n",
       "      <th>latitude</th>\n",
       "      <th>longitude</th>\n",
       "    </tr>\n",
       "  </thead>\n",
       "  <tbody>\n",
       "    <tr>\n",
       "      <th>0</th>\n",
       "      <td>2</td>\n",
       "      <td>Tart and snappy, the flavors of lime flesh and...</td>\n",
       "      <td>87</td>\n",
       "      <td>14.0</td>\n",
       "      <td>Oregon</td>\n",
       "      <td>Willamette Valley</td>\n",
       "      <td>Willamette Valley</td>\n",
       "      <td>Rainstorm 2013 Pinot Gris (Willamette Valley)</td>\n",
       "      <td>Pinot Gris</td>\n",
       "      <td>Rainstorm</td>\n",
       "      <td>Willamette Valley</td>\n",
       "      <td>44.942600</td>\n",
       "      <td>-122.933800</td>\n",
       "    </tr>\n",
       "    <tr>\n",
       "      <th>1</th>\n",
       "      <td>4</td>\n",
       "      <td>Much like the regular bottling from 2012, this...</td>\n",
       "      <td>87</td>\n",
       "      <td>65.0</td>\n",
       "      <td>Oregon</td>\n",
       "      <td>Willamette Valley</td>\n",
       "      <td>Willamette Valley</td>\n",
       "      <td>Sweet Cheeks 2012 Vintner's Reserve Wild Child...</td>\n",
       "      <td>Pinot Noir</td>\n",
       "      <td>Sweet Cheeks</td>\n",
       "      <td>Willamette Valley</td>\n",
       "      <td>44.942600</td>\n",
       "      <td>-122.933800</td>\n",
       "    </tr>\n",
       "    <tr>\n",
       "      <th>2</th>\n",
       "      <td>10</td>\n",
       "      <td>Soft, supple plum envelopes an oaky structure ...</td>\n",
       "      <td>87</td>\n",
       "      <td>19.0</td>\n",
       "      <td>California</td>\n",
       "      <td>Napa Valley</td>\n",
       "      <td>Napa</td>\n",
       "      <td>Kirkland Signature 2011 Mountain Cuvée Caberne...</td>\n",
       "      <td>Cabernet Sauvignon</td>\n",
       "      <td>Kirkland Signature</td>\n",
       "      <td>Napa Valley</td>\n",
       "      <td>38.427400</td>\n",
       "      <td>-122.394300</td>\n",
       "    </tr>\n",
       "    <tr>\n",
       "      <th>3</th>\n",
       "      <td>33</td>\n",
       "      <td>Rustic and dry, this has flavors of berries, c...</td>\n",
       "      <td>86</td>\n",
       "      <td>50.0</td>\n",
       "      <td>California</td>\n",
       "      <td>Dry Creek Valley</td>\n",
       "      <td>Sonoma</td>\n",
       "      <td>Envolve 2010 Puma Springs Vineyard Red (Dry Cr...</td>\n",
       "      <td>Red Blend</td>\n",
       "      <td>Envolve</td>\n",
       "      <td>Dry Creek Valley</td>\n",
       "      <td>38.760182</td>\n",
       "      <td>-122.615263</td>\n",
       "    </tr>\n",
       "    <tr>\n",
       "      <th>4</th>\n",
       "      <td>34</td>\n",
       "      <td>This shows a tart, green gooseberry flavor tha...</td>\n",
       "      <td>86</td>\n",
       "      <td>20.0</td>\n",
       "      <td>California</td>\n",
       "      <td>Sonoma Valley</td>\n",
       "      <td>Sonoma</td>\n",
       "      <td>Envolve 2011 Sauvignon Blanc (Sonoma Valley)</td>\n",
       "      <td>Sauvignon Blanc</td>\n",
       "      <td>Envolve</td>\n",
       "      <td>Sonoma Valley</td>\n",
       "      <td>38.208250</td>\n",
       "      <td>-122.417755</td>\n",
       "    </tr>\n",
       "  </tbody>\n",
       "</table>\n",
       "</div>"
      ],
      "text/plain": [
       "  index                                        description points  price  \\\n",
       "0     2  Tart and snappy, the flavors of lime flesh and...     87   14.0   \n",
       "1     4  Much like the regular bottling from 2012, this...     87   65.0   \n",
       "2    10  Soft, supple plum envelopes an oaky structure ...     87   19.0   \n",
       "3    33  Rustic and dry, this has flavors of berries, c...     86   50.0   \n",
       "4    34  This shows a tart, green gooseberry flavor tha...     86   20.0   \n",
       "\n",
       "     province           region_1           region_2  \\\n",
       "0      Oregon  Willamette Valley  Willamette Valley   \n",
       "1      Oregon  Willamette Valley  Willamette Valley   \n",
       "2  California        Napa Valley               Napa   \n",
       "3  California   Dry Creek Valley             Sonoma   \n",
       "4  California      Sonoma Valley             Sonoma   \n",
       "\n",
       "                                               title             variety  \\\n",
       "0      Rainstorm 2013 Pinot Gris (Willamette Valley)          Pinot Gris   \n",
       "1  Sweet Cheeks 2012 Vintner's Reserve Wild Child...          Pinot Noir   \n",
       "2  Kirkland Signature 2011 Mountain Cuvée Caberne...  Cabernet Sauvignon   \n",
       "3  Envolve 2010 Puma Springs Vineyard Red (Dry Cr...           Red Blend   \n",
       "4       Envolve 2011 Sauvignon Blanc (Sonoma Valley)     Sauvignon Blanc   \n",
       "\n",
       "               winery             region   latitude   longitude  \n",
       "0           Rainstorm  Willamette Valley  44.942600 -122.933800  \n",
       "1        Sweet Cheeks  Willamette Valley  44.942600 -122.933800  \n",
       "2  Kirkland Signature        Napa Valley  38.427400 -122.394300  \n",
       "3             Envolve   Dry Creek Valley  38.760182 -122.615263  \n",
       "4             Envolve      Sonoma Valley  38.208250 -122.417755  "
      ]
     },
     "execution_count": 110,
     "metadata": {},
     "output_type": "execute_result"
    }
   ],
   "source": [
    "US_wine_data_df.head()"
   ]
  },
  {
   "cell_type": "code",
   "execution_count": 111,
   "id": "ec64a70a",
   "metadata": {},
   "outputs": [
    {
     "data": {
      "text/plain": [
       "Index(['index', 'description', 'points', 'price', 'province', 'region_1',\n",
       "       'region_2', 'title', 'variety', 'winery', 'region', 'latitude',\n",
       "       'longitude'],\n",
       "      dtype='object')"
      ]
     },
     "execution_count": 111,
     "metadata": {},
     "output_type": "execute_result"
    }
   ],
   "source": [
    "US_wine_data_df.columns"
   ]
  },
  {
   "cell_type": "code",
   "execution_count": 112,
   "id": "7d500676",
   "metadata": {},
   "outputs": [],
   "source": [
    "US_wine_data_df.drop(columns = 'index', inplace=True)"
   ]
  },
  {
   "cell_type": "code",
   "execution_count": 113,
   "id": "c11b1855",
   "metadata": {},
   "outputs": [
    {
     "data": {
      "text/html": [
       "<div>\n",
       "<style scoped>\n",
       "    .dataframe tbody tr th:only-of-type {\n",
       "        vertical-align: middle;\n",
       "    }\n",
       "\n",
       "    .dataframe tbody tr th {\n",
       "        vertical-align: top;\n",
       "    }\n",
       "\n",
       "    .dataframe thead th {\n",
       "        text-align: right;\n",
       "    }\n",
       "</style>\n",
       "<table border=\"1\" class=\"dataframe\">\n",
       "  <thead>\n",
       "    <tr style=\"text-align: right;\">\n",
       "      <th></th>\n",
       "      <th>description</th>\n",
       "      <th>points</th>\n",
       "      <th>price</th>\n",
       "      <th>province</th>\n",
       "      <th>region_1</th>\n",
       "      <th>region_2</th>\n",
       "      <th>title</th>\n",
       "      <th>variety</th>\n",
       "      <th>winery</th>\n",
       "      <th>region</th>\n",
       "      <th>latitude</th>\n",
       "      <th>longitude</th>\n",
       "    </tr>\n",
       "  </thead>\n",
       "  <tbody>\n",
       "    <tr>\n",
       "      <th>0</th>\n",
       "      <td>Tart and snappy, the flavors of lime flesh and...</td>\n",
       "      <td>87</td>\n",
       "      <td>14.0</td>\n",
       "      <td>Oregon</td>\n",
       "      <td>Willamette Valley</td>\n",
       "      <td>Willamette Valley</td>\n",
       "      <td>Rainstorm 2013 Pinot Gris (Willamette Valley)</td>\n",
       "      <td>Pinot Gris</td>\n",
       "      <td>Rainstorm</td>\n",
       "      <td>Willamette Valley</td>\n",
       "      <td>44.942600</td>\n",
       "      <td>-122.933800</td>\n",
       "    </tr>\n",
       "    <tr>\n",
       "      <th>1</th>\n",
       "      <td>Much like the regular bottling from 2012, this...</td>\n",
       "      <td>87</td>\n",
       "      <td>65.0</td>\n",
       "      <td>Oregon</td>\n",
       "      <td>Willamette Valley</td>\n",
       "      <td>Willamette Valley</td>\n",
       "      <td>Sweet Cheeks 2012 Vintner's Reserve Wild Child...</td>\n",
       "      <td>Pinot Noir</td>\n",
       "      <td>Sweet Cheeks</td>\n",
       "      <td>Willamette Valley</td>\n",
       "      <td>44.942600</td>\n",
       "      <td>-122.933800</td>\n",
       "    </tr>\n",
       "    <tr>\n",
       "      <th>2</th>\n",
       "      <td>Soft, supple plum envelopes an oaky structure ...</td>\n",
       "      <td>87</td>\n",
       "      <td>19.0</td>\n",
       "      <td>California</td>\n",
       "      <td>Napa Valley</td>\n",
       "      <td>Napa</td>\n",
       "      <td>Kirkland Signature 2011 Mountain Cuvée Caberne...</td>\n",
       "      <td>Cabernet Sauvignon</td>\n",
       "      <td>Kirkland Signature</td>\n",
       "      <td>Napa Valley</td>\n",
       "      <td>38.427400</td>\n",
       "      <td>-122.394300</td>\n",
       "    </tr>\n",
       "    <tr>\n",
       "      <th>3</th>\n",
       "      <td>Rustic and dry, this has flavors of berries, c...</td>\n",
       "      <td>86</td>\n",
       "      <td>50.0</td>\n",
       "      <td>California</td>\n",
       "      <td>Dry Creek Valley</td>\n",
       "      <td>Sonoma</td>\n",
       "      <td>Envolve 2010 Puma Springs Vineyard Red (Dry Cr...</td>\n",
       "      <td>Red Blend</td>\n",
       "      <td>Envolve</td>\n",
       "      <td>Dry Creek Valley</td>\n",
       "      <td>38.760182</td>\n",
       "      <td>-122.615263</td>\n",
       "    </tr>\n",
       "    <tr>\n",
       "      <th>4</th>\n",
       "      <td>This shows a tart, green gooseberry flavor tha...</td>\n",
       "      <td>86</td>\n",
       "      <td>20.0</td>\n",
       "      <td>California</td>\n",
       "      <td>Sonoma Valley</td>\n",
       "      <td>Sonoma</td>\n",
       "      <td>Envolve 2011 Sauvignon Blanc (Sonoma Valley)</td>\n",
       "      <td>Sauvignon Blanc</td>\n",
       "      <td>Envolve</td>\n",
       "      <td>Sonoma Valley</td>\n",
       "      <td>38.208250</td>\n",
       "      <td>-122.417755</td>\n",
       "    </tr>\n",
       "  </tbody>\n",
       "</table>\n",
       "</div>"
      ],
      "text/plain": [
       "                                         description points  price  \\\n",
       "0  Tart and snappy, the flavors of lime flesh and...     87   14.0   \n",
       "1  Much like the regular bottling from 2012, this...     87   65.0   \n",
       "2  Soft, supple plum envelopes an oaky structure ...     87   19.0   \n",
       "3  Rustic and dry, this has flavors of berries, c...     86   50.0   \n",
       "4  This shows a tart, green gooseberry flavor tha...     86   20.0   \n",
       "\n",
       "     province           region_1           region_2  \\\n",
       "0      Oregon  Willamette Valley  Willamette Valley   \n",
       "1      Oregon  Willamette Valley  Willamette Valley   \n",
       "2  California        Napa Valley               Napa   \n",
       "3  California   Dry Creek Valley             Sonoma   \n",
       "4  California      Sonoma Valley             Sonoma   \n",
       "\n",
       "                                               title             variety  \\\n",
       "0      Rainstorm 2013 Pinot Gris (Willamette Valley)          Pinot Gris   \n",
       "1  Sweet Cheeks 2012 Vintner's Reserve Wild Child...          Pinot Noir   \n",
       "2  Kirkland Signature 2011 Mountain Cuvée Caberne...  Cabernet Sauvignon   \n",
       "3  Envolve 2010 Puma Springs Vineyard Red (Dry Cr...           Red Blend   \n",
       "4       Envolve 2011 Sauvignon Blanc (Sonoma Valley)     Sauvignon Blanc   \n",
       "\n",
       "               winery             region   latitude   longitude  \n",
       "0           Rainstorm  Willamette Valley  44.942600 -122.933800  \n",
       "1        Sweet Cheeks  Willamette Valley  44.942600 -122.933800  \n",
       "2  Kirkland Signature        Napa Valley  38.427400 -122.394300  \n",
       "3             Envolve   Dry Creek Valley  38.760182 -122.615263  \n",
       "4             Envolve      Sonoma Valley  38.208250 -122.417755  "
      ]
     },
     "execution_count": 113,
     "metadata": {},
     "output_type": "execute_result"
    }
   ],
   "source": [
    "US_wine_data_df.head()"
   ]
  },
  {
   "cell_type": "code",
   "execution_count": 114,
   "id": "3537a5f5",
   "metadata": {},
   "outputs": [],
   "source": [
    "# joined data set with lat long and wine\n",
    "US_wine_data_df.to_sql(name='uswine', con=engine)"
   ]
  },
  {
   "cell_type": "code",
   "execution_count": null,
   "id": "fc08f482",
   "metadata": {},
   "outputs": [],
   "source": [
    "# Cut this out\n",
    "# Import data\n",
    "US_wine_data_df = pd.read_csv(\"Data/US_wine_data.csv\")\n",
    "print(US_wine_data_df.shape)\n",
    "US_wine_data_df.head()"
   ]
  },
  {
   "cell_type": "code",
   "execution_count": 115,
   "id": "91a9e2a9",
   "metadata": {},
   "outputs": [
    {
     "data": {
      "text/plain": [
       "(8642, 12)"
      ]
     },
     "execution_count": 115,
     "metadata": {},
     "output_type": "execute_result"
    }
   ],
   "source": [
    "# Make a copy of the dataframe\n",
    "US_wine_data_df_copy = US_wine_data_df\n",
    "US_wine_data_df_copy.shape"
   ]
  },
  {
   "cell_type": "markdown",
   "id": "6c10bef5",
   "metadata": {},
   "source": [
    "## Pre process for machine learning"
   ]
  },
  {
   "cell_type": "code",
   "execution_count": 116,
   "id": "68ad81ea",
   "metadata": {},
   "outputs": [
    {
     "data": {
      "text/plain": [
       "20.0     412\n",
       "35.0     405\n",
       "50.0     396\n",
       "25.0     385\n",
       "30.0     383\n",
       "        ... \n",
       "179.0      1\n",
       "235.0      1\n",
       "102.0      1\n",
       "450.0      1\n",
       "117.0      1\n",
       "Name: price, Length: 130, dtype: int64"
      ]
     },
     "execution_count": 116,
     "metadata": {},
     "output_type": "execute_result"
    }
   ],
   "source": [
    "# Group wine price into bins.\n",
    "price_counts = US_wine_data_df.price.value_counts()\n",
    "price_counts"
   ]
  },
  {
   "cell_type": "code",
   "execution_count": 117,
   "id": "5c9bbdc3",
   "metadata": {},
   "outputs": [
    {
     "data": {
      "text/plain": [
       "<AxesSubplot:ylabel='Density'>"
      ]
     },
     "execution_count": 117,
     "metadata": {},
     "output_type": "execute_result"
    },
    {
     "data": {
      "image/png": "[encoded data removed]",
      "text/plain": [
       "<Figure size 432x288 with 1 Axes>"
      ]
     },
     "metadata": {
      "needs_background": "light"
     },
     "output_type": "display_data"
    }
   ],
   "source": [
    "price_counts.plot.density()"
   ]
  },
  {
   "cell_type": "code",
   "execution_count": 118,
   "id": "f3faa96b",
   "metadata": {},
   "outputs": [
    {
     "data": {
      "text/html": [
       "<div>\n",
       "<style scoped>\n",
       "    .dataframe tbody tr th:only-of-type {\n",
       "        vertical-align: middle;\n",
       "    }\n",
       "\n",
       "    .dataframe tbody tr th {\n",
       "        vertical-align: top;\n",
       "    }\n",
       "\n",
       "    .dataframe thead th {\n",
       "        text-align: right;\n",
       "    }\n",
       "</style>\n",
       "<table border=\"1\" class=\"dataframe\">\n",
       "  <thead>\n",
       "    <tr style=\"text-align: right;\">\n",
       "      <th></th>\n",
       "      <th>description</th>\n",
       "      <th>points</th>\n",
       "      <th>price</th>\n",
       "      <th>province</th>\n",
       "      <th>region_1</th>\n",
       "      <th>region_2</th>\n",
       "      <th>title</th>\n",
       "      <th>variety</th>\n",
       "      <th>winery</th>\n",
       "      <th>region</th>\n",
       "      <th>latitude</th>\n",
       "      <th>longitude</th>\n",
       "      <th>price_bins</th>\n",
       "    </tr>\n",
       "  </thead>\n",
       "  <tbody>\n",
       "    <tr>\n",
       "      <th>8637</th>\n",
       "      <td>Aged entirely in stainless steel, this combine...</td>\n",
       "      <td>91</td>\n",
       "      <td>30.0</td>\n",
       "      <td>California</td>\n",
       "      <td>Napa Valley</td>\n",
       "      <td>Napa</td>\n",
       "      <td>Paraduxx 2015 Proprietary White (Napa Valley)</td>\n",
       "      <td>White Blend</td>\n",
       "      <td>Paraduxx</td>\n",
       "      <td>Napa Valley</td>\n",
       "      <td>38.427400</td>\n",
       "      <td>-122.394300</td>\n",
       "      <td>$15-30</td>\n",
       "    </tr>\n",
       "    <tr>\n",
       "      <th>8638</th>\n",
       "      <td>Pencil shaving and graphite notes lend a class...</td>\n",
       "      <td>91</td>\n",
       "      <td>35.0</td>\n",
       "      <td>California</td>\n",
       "      <td>Napa Valley</td>\n",
       "      <td>Napa</td>\n",
       "      <td>Conn Creek 2013 Cabernet Sauvignon (Napa Valley)</td>\n",
       "      <td>Cabernet Sauvignon</td>\n",
       "      <td>Conn Creek</td>\n",
       "      <td>Napa Valley</td>\n",
       "      <td>38.427400</td>\n",
       "      <td>-122.394300</td>\n",
       "      <td>$30-60</td>\n",
       "    </tr>\n",
       "    <tr>\n",
       "      <th>8639</th>\n",
       "      <td>Fritz has made tremendous progress with Cab ov...</td>\n",
       "      <td>91</td>\n",
       "      <td>35.0</td>\n",
       "      <td>California</td>\n",
       "      <td>Dry Creek Valley</td>\n",
       "      <td>Sonoma</td>\n",
       "      <td>Fritz 2005 Cabernet Sauvignon (Dry Creek Valley)</td>\n",
       "      <td>Cabernet Sauvignon</td>\n",
       "      <td>Fritz</td>\n",
       "      <td>Dry Creek Valley</td>\n",
       "      <td>38.760182</td>\n",
       "      <td>-122.615263</td>\n",
       "      <td>$30-60</td>\n",
       "    </tr>\n",
       "    <tr>\n",
       "      <th>8640</th>\n",
       "      <td>There's no bones about the use of oak in this ...</td>\n",
       "      <td>90</td>\n",
       "      <td>35.0</td>\n",
       "      <td>California</td>\n",
       "      <td>Napa Valley</td>\n",
       "      <td>Napa</td>\n",
       "      <td>Flora Springs 2013 Barrel Fermented Chardonnay...</td>\n",
       "      <td>Chardonnay</td>\n",
       "      <td>Flora Springs</td>\n",
       "      <td>Napa Valley</td>\n",
       "      <td>38.427400</td>\n",
       "      <td>-122.394300</td>\n",
       "      <td>$30-60</td>\n",
       "    </tr>\n",
       "    <tr>\n",
       "      <th>8641</th>\n",
       "      <td>This opens with herbaceous dollops of thyme an...</td>\n",
       "      <td>90</td>\n",
       "      <td>35.0</td>\n",
       "      <td>California</td>\n",
       "      <td>Napa Valley</td>\n",
       "      <td>Napa</td>\n",
       "      <td>Hendry 2012 Blocks 7 &amp; 22 Zinfandel (Napa Valley)</td>\n",
       "      <td>Zinfandel</td>\n",
       "      <td>Hendry</td>\n",
       "      <td>Napa Valley</td>\n",
       "      <td>38.427400</td>\n",
       "      <td>-122.394300</td>\n",
       "      <td>$30-60</td>\n",
       "    </tr>\n",
       "  </tbody>\n",
       "</table>\n",
       "</div>"
      ],
      "text/plain": [
       "                                            description points  price  \\\n",
       "8637  Aged entirely in stainless steel, this combine...     91   30.0   \n",
       "8638  Pencil shaving and graphite notes lend a class...     91   35.0   \n",
       "8639  Fritz has made tremendous progress with Cab ov...     91   35.0   \n",
       "8640  There's no bones about the use of oak in this ...     90   35.0   \n",
       "8641  This opens with herbaceous dollops of thyme an...     90   35.0   \n",
       "\n",
       "        province          region_1 region_2  \\\n",
       "8637  California       Napa Valley     Napa   \n",
       "8638  California       Napa Valley     Napa   \n",
       "8639  California  Dry Creek Valley   Sonoma   \n",
       "8640  California       Napa Valley     Napa   \n",
       "8641  California       Napa Valley     Napa   \n",
       "\n",
       "                                                  title             variety  \\\n",
       "8637      Paraduxx 2015 Proprietary White (Napa Valley)         White Blend   \n",
       "8638   Conn Creek 2013 Cabernet Sauvignon (Napa Valley)  Cabernet Sauvignon   \n",
       "8639   Fritz 2005 Cabernet Sauvignon (Dry Creek Valley)  Cabernet Sauvignon   \n",
       "8640  Flora Springs 2013 Barrel Fermented Chardonnay...          Chardonnay   \n",
       "8641  Hendry 2012 Blocks 7 & 22 Zinfandel (Napa Valley)           Zinfandel   \n",
       "\n",
       "             winery            region   latitude   longitude price_bins  \n",
       "8637       Paraduxx       Napa Valley  38.427400 -122.394300     $15-30  \n",
       "8638     Conn Creek       Napa Valley  38.427400 -122.394300     $30-60  \n",
       "8639          Fritz  Dry Creek Valley  38.760182 -122.615263     $30-60  \n",
       "8640  Flora Springs       Napa Valley  38.427400 -122.394300     $30-60  \n",
       "8641         Hendry       Napa Valley  38.427400 -122.394300     $30-60  "
      ]
     },
     "execution_count": 118,
     "metadata": {},
     "output_type": "execute_result"
    }
   ],
   "source": [
    "# Create price bins\n",
    "price_bins = [0, 15, 30, 60, 100, 500, 5000]\n",
    "US_wine_data_df.groupby(pd.cut(US_wine_data_df[\"price\"], price_bins)).count()\n",
    "\n",
    "price_bins_names = [\"<$15\",\"$15-30\",\"$30-60\",\"$60-100\", \"100-500\",\"too much\"]\n",
    "\n",
    "# Make a new column in dataframe for price bins.\n",
    "US_wine_data_df[\"price_bins\"] = pd.cut(US_wine_data_df[\"price\"], price_bins, labels=price_bins_names)\n",
    "\n",
    "# Check dataframe\n",
    "US_wine_data_df.tail()"
   ]
  },
  {
   "cell_type": "code",
   "execution_count": 119,
   "id": "6f2c1762",
   "metadata": {},
   "outputs": [
    {
     "name": "stdout",
     "output_type": "stream",
     "text": [
      "(8642, 9)\n"
     ]
    },
    {
     "data": {
      "text/html": [
       "<div>\n",
       "<style scoped>\n",
       "    .dataframe tbody tr th:only-of-type {\n",
       "        vertical-align: middle;\n",
       "    }\n",
       "\n",
       "    .dataframe tbody tr th {\n",
       "        vertical-align: top;\n",
       "    }\n",
       "\n",
       "    .dataframe thead th {\n",
       "        text-align: right;\n",
       "    }\n",
       "</style>\n",
       "<table border=\"1\" class=\"dataframe\">\n",
       "  <thead>\n",
       "    <tr style=\"text-align: right;\">\n",
       "      <th></th>\n",
       "      <th>description</th>\n",
       "      <th>price</th>\n",
       "      <th>province</th>\n",
       "      <th>region_2</th>\n",
       "      <th>title</th>\n",
       "      <th>winery</th>\n",
       "      <th>region</th>\n",
       "      <th>latitude</th>\n",
       "      <th>longitude</th>\n",
       "    </tr>\n",
       "  </thead>\n",
       "  <tbody>\n",
       "    <tr>\n",
       "      <th>0</th>\n",
       "      <td>Tart and snappy, the flavors of lime flesh and...</td>\n",
       "      <td>14.0</td>\n",
       "      <td>Oregon</td>\n",
       "      <td>Willamette Valley</td>\n",
       "      <td>Rainstorm 2013 Pinot Gris (Willamette Valley)</td>\n",
       "      <td>Rainstorm</td>\n",
       "      <td>Willamette Valley</td>\n",
       "      <td>44.942600</td>\n",
       "      <td>-122.933800</td>\n",
       "    </tr>\n",
       "    <tr>\n",
       "      <th>1</th>\n",
       "      <td>Much like the regular bottling from 2012, this...</td>\n",
       "      <td>65.0</td>\n",
       "      <td>Oregon</td>\n",
       "      <td>Willamette Valley</td>\n",
       "      <td>Sweet Cheeks 2012 Vintner's Reserve Wild Child...</td>\n",
       "      <td>Sweet Cheeks</td>\n",
       "      <td>Willamette Valley</td>\n",
       "      <td>44.942600</td>\n",
       "      <td>-122.933800</td>\n",
       "    </tr>\n",
       "    <tr>\n",
       "      <th>2</th>\n",
       "      <td>Soft, supple plum envelopes an oaky structure ...</td>\n",
       "      <td>19.0</td>\n",
       "      <td>California</td>\n",
       "      <td>Napa</td>\n",
       "      <td>Kirkland Signature 2011 Mountain Cuvée Caberne...</td>\n",
       "      <td>Kirkland Signature</td>\n",
       "      <td>Napa Valley</td>\n",
       "      <td>38.427400</td>\n",
       "      <td>-122.394300</td>\n",
       "    </tr>\n",
       "    <tr>\n",
       "      <th>3</th>\n",
       "      <td>Rustic and dry, this has flavors of berries, c...</td>\n",
       "      <td>50.0</td>\n",
       "      <td>California</td>\n",
       "      <td>Sonoma</td>\n",
       "      <td>Envolve 2010 Puma Springs Vineyard Red (Dry Cr...</td>\n",
       "      <td>Envolve</td>\n",
       "      <td>Dry Creek Valley</td>\n",
       "      <td>38.760182</td>\n",
       "      <td>-122.615263</td>\n",
       "    </tr>\n",
       "    <tr>\n",
       "      <th>4</th>\n",
       "      <td>This shows a tart, green gooseberry flavor tha...</td>\n",
       "      <td>20.0</td>\n",
       "      <td>California</td>\n",
       "      <td>Sonoma</td>\n",
       "      <td>Envolve 2011 Sauvignon Blanc (Sonoma Valley)</td>\n",
       "      <td>Envolve</td>\n",
       "      <td>Sonoma Valley</td>\n",
       "      <td>38.208250</td>\n",
       "      <td>-122.417755</td>\n",
       "    </tr>\n",
       "  </tbody>\n",
       "</table>\n",
       "</div>"
      ],
      "text/plain": [
       "                                         description  price    province  \\\n",
       "0  Tart and snappy, the flavors of lime flesh and...   14.0      Oregon   \n",
       "1  Much like the regular bottling from 2012, this...   65.0      Oregon   \n",
       "2  Soft, supple plum envelopes an oaky structure ...   19.0  California   \n",
       "3  Rustic and dry, this has flavors of berries, c...   50.0  California   \n",
       "4  This shows a tart, green gooseberry flavor tha...   20.0  California   \n",
       "\n",
       "            region_2                                              title  \\\n",
       "0  Willamette Valley      Rainstorm 2013 Pinot Gris (Willamette Valley)   \n",
       "1  Willamette Valley  Sweet Cheeks 2012 Vintner's Reserve Wild Child...   \n",
       "2               Napa  Kirkland Signature 2011 Mountain Cuvée Caberne...   \n",
       "3             Sonoma  Envolve 2010 Puma Springs Vineyard Red (Dry Cr...   \n",
       "4             Sonoma       Envolve 2011 Sauvignon Blanc (Sonoma Valley)   \n",
       "\n",
       "               winery             region   latitude   longitude  \n",
       "0           Rainstorm  Willamette Valley  44.942600 -122.933800  \n",
       "1        Sweet Cheeks  Willamette Valley  44.942600 -122.933800  \n",
       "2  Kirkland Signature        Napa Valley  38.427400 -122.394300  \n",
       "3             Envolve   Dry Creek Valley  38.760182 -122.615263  \n",
       "4             Envolve      Sonoma Valley  38.208250 -122.417755  "
      ]
     },
     "execution_count": 119,
     "metadata": {},
     "output_type": "execute_result"
    }
   ],
   "source": [
    "# Create a DataFrame to hold columns (\"description\", \"price\", \"province\", \"region_2\", \"title\", \"winery\")\n",
    "# that won't be used in machine learning in case we want them later.\n",
    "US_wine_data_title_df = US_wine_data_df.drop(columns=[\"points\", \"region_1\", \"variety\",\"price_bins\"], axis=1)\n",
    "print(US_wine_data_title_df.shape)\n",
    "US_wine_data_title_df.head()"
   ]
  },
  {
   "cell_type": "code",
   "execution_count": 121,
   "id": "b2ec213f",
   "metadata": {},
   "outputs": [],
   "source": [
    "# Export data with price bins\n",
    "# Save cleaned columns (\"description\", \"price\", \"province\", \"region_2\", \"title\", \"winery\",\"latitude\", \"longitude\")\n",
    "US_wine_data_title_df.to_sql(name='winedata', con=engine)"
   ]
  },
  {
   "cell_type": "code",
   "execution_count": null,
   "id": "518eb3ca",
   "metadata": {},
   "outputs": [],
   "source": [
    "# Save cleaned columns (\"description\", \"price\", \"province\", \"region_2\", \"title\", \"winery\")\n",
    "# in case we want to load into database later.\n",
    "US_wine_data_title_df.to_csv(\"Data/US_wine_data_title.csv\", index=False)"
   ]
  },
  {
   "cell_type": "code",
   "execution_count": 123,
   "id": "11890a9d",
   "metadata": {},
   "outputs": [
    {
     "name": "stdout",
     "output_type": "stream",
     "text": [
      "(8642, 5)\n"
     ]
    },
    {
     "data": {
      "text/html": [
       "<div>\n",
       "<style scoped>\n",
       "    .dataframe tbody tr th:only-of-type {\n",
       "        vertical-align: middle;\n",
       "    }\n",
       "\n",
       "    .dataframe tbody tr th {\n",
       "        vertical-align: top;\n",
       "    }\n",
       "\n",
       "    .dataframe thead th {\n",
       "        text-align: right;\n",
       "    }\n",
       "</style>\n",
       "<table border=\"1\" class=\"dataframe\">\n",
       "  <thead>\n",
       "    <tr style=\"text-align: right;\">\n",
       "      <th></th>\n",
       "      <th>points</th>\n",
       "      <th>region_1</th>\n",
       "      <th>variety</th>\n",
       "      <th>region</th>\n",
       "      <th>price_bins</th>\n",
       "    </tr>\n",
       "  </thead>\n",
       "  <tbody>\n",
       "    <tr>\n",
       "      <th>0</th>\n",
       "      <td>87</td>\n",
       "      <td>Willamette Valley</td>\n",
       "      <td>Pinot Gris</td>\n",
       "      <td>Willamette Valley</td>\n",
       "      <td>&lt;$15</td>\n",
       "    </tr>\n",
       "    <tr>\n",
       "      <th>1</th>\n",
       "      <td>87</td>\n",
       "      <td>Willamette Valley</td>\n",
       "      <td>Pinot Noir</td>\n",
       "      <td>Willamette Valley</td>\n",
       "      <td>$60-100</td>\n",
       "    </tr>\n",
       "    <tr>\n",
       "      <th>2</th>\n",
       "      <td>87</td>\n",
       "      <td>Napa Valley</td>\n",
       "      <td>Cabernet Sauvignon</td>\n",
       "      <td>Napa Valley</td>\n",
       "      <td>$15-30</td>\n",
       "    </tr>\n",
       "    <tr>\n",
       "      <th>3</th>\n",
       "      <td>86</td>\n",
       "      <td>Dry Creek Valley</td>\n",
       "      <td>Red Blend</td>\n",
       "      <td>Dry Creek Valley</td>\n",
       "      <td>$30-60</td>\n",
       "    </tr>\n",
       "    <tr>\n",
       "      <th>4</th>\n",
       "      <td>86</td>\n",
       "      <td>Sonoma Valley</td>\n",
       "      <td>Sauvignon Blanc</td>\n",
       "      <td>Sonoma Valley</td>\n",
       "      <td>$15-30</td>\n",
       "    </tr>\n",
       "  </tbody>\n",
       "</table>\n",
       "</div>"
      ],
      "text/plain": [
       "  points           region_1             variety             region price_bins\n",
       "0     87  Willamette Valley          Pinot Gris  Willamette Valley       <$15\n",
       "1     87  Willamette Valley          Pinot Noir  Willamette Valley    $60-100\n",
       "2     87        Napa Valley  Cabernet Sauvignon        Napa Valley     $15-30\n",
       "3     86   Dry Creek Valley           Red Blend   Dry Creek Valley     $30-60\n",
       "4     86      Sonoma Valley     Sauvignon Blanc      Sonoma Valley     $15-30"
      ]
     },
     "execution_count": 123,
     "metadata": {},
     "output_type": "execute_result"
    }
   ],
   "source": [
    "# Create DataFrame for machine learning model. Drop: \"description\" - of flavors, i.e. tart and snappy, \n",
    "# oaky, etc., price, province, region_2, \"title\" - name on the bottle, winery.\n",
    "# Dropped lat and long\n",
    "\n",
    "US_wine_data_df_ml = US_wine_data_df.drop(columns=[\"description\", \"price\", \"province\", \"region_2\", \"title\", \"winery\", \"latitude\", \"longitude\"], axis=1)\n",
    "print(US_wine_data_df_ml.shape)\n",
    "US_wine_data_df_ml.head()"
   ]
  },
  {
   "cell_type": "code",
   "execution_count": null,
   "id": "66032f8a",
   "metadata": {},
   "outputs": [],
   "source": [
    "# Delete This \n",
    "#Save preprocessed dataframe (columns for machine learning: \"points\",\"region_1\",\"\"variety\",\"price_bins\")\n",
    "US_wine_data_df_ml.to_csv(\"Data/US_wine_data_ml.csv\", index=False)"
   ]
  },
  {
   "cell_type": "code",
   "execution_count": 124,
   "id": "e02342d0",
   "metadata": {},
   "outputs": [],
   "source": [
    "# Export data for ML: (columns for machine learning: \"points\",\"region_1\",\"\"variety\",\"price_bins\")\n",
    "US_wine_data_df_ml.to_sql(name='winedata_ml', con=engine)"
   ]
  },
  {
   "cell_type": "markdown",
   "id": "fd241be8",
   "metadata": {},
   "source": [
    "### Checkpoint"
   ]
  },
  {
   "cell_type": "code",
   "execution_count": null,
   "id": "1a84497c",
   "metadata": {},
   "outputs": [],
   "source": [
    "# Import data\n",
    "US_wine_data_df_ml = pd.read_csv(\"Data/US_wine_data_ml.csv\")\n",
    "print(US_wine_data_df_ml.shape)\n",
    "US_wine_data_df_ml.head()"
   ]
  },
  {
   "cell_type": "code",
   "execution_count": null,
   "id": "9f5dc3a3",
   "metadata": {},
   "outputs": [],
   "source": [
    "# Look at unique values to see if categorical data requires binning\n",
    "US_wine_data_df_ml.nunique()"
   ]
  },
  {
   "cell_type": "code",
   "execution_count": null,
   "id": "bf0a9bc8",
   "metadata": {},
   "outputs": [],
   "source": [
    "# Determine value_counts for binning\n",
    "variety_counts = US_wine_data_df_ml.variety.value_counts()\n",
    "variety_counts"
   ]
  },
  {
   "cell_type": "code",
   "execution_count": null,
   "id": "b561ee89",
   "metadata": {},
   "outputs": [],
   "source": [
    "# Visualize the value counts of variety\n",
    "variety_counts.plot.density()"
   ]
  },
  {
   "cell_type": "code",
   "execution_count": null,
   "id": "60ae8572",
   "metadata": {},
   "outputs": [],
   "source": [
    "# Determine which values to replace.  Per the plot, we tried <500 but after looking\n",
    "# results we decided that we wanted to be more inclusive since some mainstream wines\n",
    "# would be binned in \"other\".  Therefore we lowered the threshold for other to 300.\n",
    "replace_variety = list(variety_counts[variety_counts <= 300].index)\n",
    "\n",
    "# Replace in dataframe\n",
    "for variety in replace_variety:\n",
    "    US_wine_data_df_ml.variety = US_wine_data_df_ml.variety.replace(variety,\"Other\")\n",
    "    \n",
    "# Check to make sure binning was successful\n",
    "US_wine_data_df_ml.variety.value_counts()"
   ]
  },
  {
   "cell_type": "code",
   "execution_count": null,
   "id": "e8a2fe11",
   "metadata": {},
   "outputs": [],
   "source": [
    "# Determine value_counts for binning\n",
    "region_1_counts = US_wine_data_df_ml.region_1.value_counts()\n",
    "region_1_counts"
   ]
  },
  {
   "cell_type": "code",
   "execution_count": null,
   "id": "05e7df07",
   "metadata": {},
   "outputs": [],
   "source": [
    "# Visualize the value counts of region_1\n",
    "region_1_counts.plot.density()"
   ]
  },
  {
   "cell_type": "code",
   "execution_count": null,
   "id": "4f2d7d00",
   "metadata": {},
   "outputs": [],
   "source": [
    "# From the plot the curve breaks around 500.\n",
    "replace_region_1 = list(region_1_counts[region_1_counts <= 300].index)\n",
    "\n",
    "# Replace in dataframe\n",
    "for region_1 in replace_region_1:\n",
    "    US_wine_data_df_ml.region_1 = US_wine_data_df_ml.region_1.replace(region_1,\"Other\")\n",
    "    \n",
    "# Check to make sure binning was successful\n",
    "US_wine_data_df_ml.region_1.value_counts()"
   ]
  },
  {
   "cell_type": "markdown",
   "id": "85220002",
   "metadata": {},
   "source": [
    "### Encode categorical data"
   ]
  },
  {
   "cell_type": "code",
   "execution_count": null,
   "id": "c2b253f0",
   "metadata": {},
   "outputs": [],
   "source": [
    "# Create variable to hold categorical columns for OneHotEncoder\n",
    "wine_cat = [\"variety\", \"region_1\"]"
   ]
  },
  {
   "cell_type": "code",
   "execution_count": null,
   "id": "e0035408",
   "metadata": {},
   "outputs": [],
   "source": [
    "# from sklearn.preprocessing import OneHotEncoder\n",
    "# Create a OneHotEncoder instance\n",
    "enc = OneHotEncoder(sparse=False)\n",
    "\n",
    "# Fit and transform the OneHotEncoder using the categorical variable list\n",
    "encode_df = pd.DataFrame(enc.fit_transform(US_wine_data_df_ml[wine_cat]))\n",
    "\n",
    "# Add the encoded variable names to the dataframe\n",
    "encode_df.columns = enc.get_feature_names(wine_cat)\n",
    "encode_df.shape\n",
    "encode_df.head()"
   ]
  },
  {
   "cell_type": "code",
   "execution_count": null,
   "id": "5fbbd582",
   "metadata": {},
   "outputs": [],
   "source": [
    "# Merge one-hot encoded features and drop the originals\n",
    "US_wine_data_df_ml = US_wine_data_df_ml.merge(encode_df,left_index=True, right_index=True)\n",
    "US_wine_data_df_ml = US_wine_data_df_ml.drop(wine_cat,axis=1)\n",
    "print(US_wine_data_df_ml.shape)\n",
    "US_wine_data_df_ml.head()"
   ]
  },
  {
   "cell_type": "code",
   "execution_count": null,
   "id": "98ad2059",
   "metadata": {},
   "outputs": [],
   "source": [
    "# Save preprocessed dataframe to csv for future reference.\n",
    "US_wine_data_df_ml.to_csv(\"Data/US_wine_data_enc.csv\", index=False)"
   ]
  },
  {
   "cell_type": "code",
   "execution_count": null,
   "id": "cbe6904f",
   "metadata": {},
   "outputs": [],
   "source": [
    "# Import data\n",
    "US_wine_data_df_ml = pd.read_csv(\"Data/US_wine_data_enc.csv\")"
   ]
  },
  {
   "cell_type": "markdown",
   "id": "bd60e628",
   "metadata": {},
   "source": [
    "### Split preprocessed data "
   ]
  },
  {
   "cell_type": "code",
   "execution_count": null,
   "id": "057677bd",
   "metadata": {},
   "outputs": [],
   "source": [
    "# from sklearn.model_selection import train_test_split\n",
    "# Split preprocessed data into our features and target arrays\n",
    "#  Target\n",
    "y = US_wine_data_df_ml[\"price_bins\"].values\n",
    "# Features\n",
    "X = US_wine_data_df_ml.drop([\"price_bins\"],axis=1).values"
   ]
  },
  {
   "cell_type": "code",
   "execution_count": null,
   "id": "18f9c718",
   "metadata": {},
   "outputs": [],
   "source": [
    "# Split the preprocessed data into a training and testing dataset\n",
    "X_train, X_test, y_train, y_test = train_test_split(X, y, random_state=42)"
   ]
  },
  {
   "cell_type": "code",
   "execution_count": null,
   "id": "79ebf28b",
   "metadata": {},
   "outputs": [],
   "source": [
    "# from sklearn.preprocessing import StandardScaler\n",
    "# Create a StandardScaler instances\n",
    "scaler = StandardScaler()\n",
    "\n",
    "# Fit the StandardScaler\n",
    "X_scaler = scaler.fit(X_train)\n",
    "\n",
    "# Scale the data\n",
    "X_train_scaled = X_scaler.transform(X_train)\n",
    "X_test_scaled = X_scaler.transform(X_test)"
   ]
  },
  {
   "cell_type": "code",
   "execution_count": null,
   "id": "0860e2e8",
   "metadata": {},
   "outputs": [],
   "source": [
    "print(X_train_scaled [0:5])"
   ]
  },
  {
   "cell_type": "markdown",
   "id": "be7b06d2",
   "metadata": {},
   "source": [
    "## Machine Learning"
   ]
  },
  {
   "cell_type": "markdown",
   "id": "4639872d",
   "metadata": {},
   "source": [
    "### Try RandomForestClassifier"
   ]
  },
  {
   "cell_type": "code",
   "execution_count": null,
   "id": "96725af9",
   "metadata": {},
   "outputs": [],
   "source": [
    "# from sklearn.ensemble import RandomForestClassifier\n",
    "# from sklearn.metrics import confusion_matrix, accuracy_score, classification_report\n",
    "# Create a random forest classifier. \n",
    "rf_model = RandomForestClassifier(n_estimators=500, random_state=1) "
   ]
  },
  {
   "cell_type": "code",
   "execution_count": null,
   "id": "8f8e6a88",
   "metadata": {},
   "outputs": [],
   "source": [
    "# Fitting the model\n",
    "rf_model = rf_model.fit(X_train_scaled, y_train)"
   ]
  },
  {
   "cell_type": "code",
   "execution_count": null,
   "id": "630f55b5",
   "metadata": {},
   "outputs": [],
   "source": [
    "# Making predictions using the testing data.\n",
    "y_pred = rf_model.predict(X_test_scaled)"
   ]
  },
  {
   "cell_type": "code",
   "execution_count": null,
   "id": "76b48cfe",
   "metadata": {},
   "outputs": [],
   "source": [
    "# Display the confustion matrix\n",
    "# from sklearn.metrics import confusion_matrix\n",
    "confusion_matrix(y_test, y_pred)"
   ]
  },
  {
   "cell_type": "code",
   "execution_count": null,
   "id": "05c66834",
   "metadata": {},
   "outputs": [],
   "source": [
    "# Calculate the accuracy score\n",
    "# from sklearn.metrics import accuracy_score, classification_report\n",
    "acc_score = accuracy_score(y_test, y_pred)"
   ]
  },
  {
   "cell_type": "code",
   "execution_count": null,
   "id": "e44aaf5c",
   "metadata": {},
   "outputs": [],
   "source": [
    "# Displaying results\n",
    "print(f\"Accuracy Score : {acc_score}\")\n",
    "print(\"Classification Report\")\n",
    "print(classification_report(y_test, y_pred))"
   ]
  },
  {
   "cell_type": "code",
   "execution_count": null,
   "id": "e574bb53",
   "metadata": {},
   "outputs": [],
   "source": []
  },
  {
   "cell_type": "code",
   "execution_count": null,
   "id": "18bf65e6",
   "metadata": {},
   "outputs": [],
   "source": []
  }
 ],
 "metadata": {
  "kernelspec": {
   "display_name": "PythonData",
   "language": "python",
   "name": "pythondata"
  },
  "language_info": {
   "codemirror_mode": {
    "name": "ipython",
    "version": 3
   },
   "file_extension": ".py",
   "mimetype": "text/x-python",
   "name": "python",
   "nbconvert_exporter": "python",
   "pygments_lexer": "ipython3",
   "version": "3.8.5"
  }
 },
 "nbformat": 4,
 "nbformat_minor": 5
}
