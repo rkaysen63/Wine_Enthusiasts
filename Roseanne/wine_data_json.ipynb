{
 "cells": [
  {
   "cell_type": "markdown",
   "id": "b8066c3f",
   "metadata": {},
   "source": [
    "# Wine_data_json"
   ]
  },
  {
   "cell_type": "code",
   "execution_count": 1,
   "id": "1aeca89c",
   "metadata": {},
   "outputs": [],
   "source": [
    "# Import dependencies\n",
    "import pandas as pd\n",
    "import json"
   ]
  },
  {
   "cell_type": "code",
   "execution_count": 2,
   "id": "7f2fde3e",
   "metadata": {},
   "outputs": [
    {
     "name": "stdout",
     "output_type": "stream",
     "text": [
      "(35430, 12)\n"
     ]
    },
    {
     "data": {
      "text/html": [
       "<div>\n",
       "<style scoped>\n",
       "    .dataframe tbody tr th:only-of-type {\n",
       "        vertical-align: middle;\n",
       "    }\n",
       "\n",
       "    .dataframe tbody tr th {\n",
       "        vertical-align: top;\n",
       "    }\n",
       "\n",
       "    .dataframe thead th {\n",
       "        text-align: right;\n",
       "    }\n",
       "</style>\n",
       "<table border=\"1\" class=\"dataframe\">\n",
       "  <thead>\n",
       "    <tr style=\"text-align: right;\">\n",
       "      <th></th>\n",
       "      <th>province</th>\n",
       "      <th>region</th>\n",
       "      <th>Latitude</th>\n",
       "      <th>Longitude</th>\n",
       "      <th>winery</th>\n",
       "      <th>variety</th>\n",
       "      <th>type</th>\n",
       "      <th>title</th>\n",
       "      <th>points</th>\n",
       "      <th>price</th>\n",
       "      <th>price_bins</th>\n",
       "      <th>description</th>\n",
       "    </tr>\n",
       "  </thead>\n",
       "  <tbody>\n",
       "    <tr>\n",
       "      <th>0</th>\n",
       "      <td>Oregon</td>\n",
       "      <td>Willamette Valley</td>\n",
       "      <td>44.942554</td>\n",
       "      <td>-122.933762</td>\n",
       "      <td>Rainstorm</td>\n",
       "      <td>Pinot Gris</td>\n",
       "      <td>White</td>\n",
       "      <td>Rainstorm 2013 Pinot Gris</td>\n",
       "      <td>87</td>\n",
       "      <td>14</td>\n",
       "      <td>&lt;$15</td>\n",
       "      <td>Tart and snappy, the flavors of lime flesh and...</td>\n",
       "    </tr>\n",
       "    <tr>\n",
       "      <th>1</th>\n",
       "      <td>Oregon</td>\n",
       "      <td>Willamette Valley</td>\n",
       "      <td>44.942554</td>\n",
       "      <td>-122.933762</td>\n",
       "      <td>Sweet Cheeks</td>\n",
       "      <td>Pinot Noir</td>\n",
       "      <td>Red</td>\n",
       "      <td>Sweet Cheeks 2012 Vintner's Reserve Wild Child...</td>\n",
       "      <td>87</td>\n",
       "      <td>65</td>\n",
       "      <td>$60-100</td>\n",
       "      <td>Much like the regular bottling from 2012, this...</td>\n",
       "    </tr>\n",
       "    <tr>\n",
       "      <th>2</th>\n",
       "      <td>California</td>\n",
       "      <td>Napa Valley</td>\n",
       "      <td>38.502469</td>\n",
       "      <td>-122.265389</td>\n",
       "      <td>Kirkland Signature</td>\n",
       "      <td>Cabernet Sauvignon</td>\n",
       "      <td>Red</td>\n",
       "      <td>Kirkland Signature 2011 Mountain Cuvee Caberne...</td>\n",
       "      <td>87</td>\n",
       "      <td>19</td>\n",
       "      <td>$15-30</td>\n",
       "      <td>Soft, supple plum envelopes an oaky structure ...</td>\n",
       "    </tr>\n",
       "    <tr>\n",
       "      <th>3</th>\n",
       "      <td>California</td>\n",
       "      <td>Alexander Valley</td>\n",
       "      <td>38.612965</td>\n",
       "      <td>-122.769435</td>\n",
       "      <td>Louis M. Martini</td>\n",
       "      <td>Cabernet Sauvignon</td>\n",
       "      <td>Red</td>\n",
       "      <td>Louis M. Martini 2012 Cabernet Sauvignon</td>\n",
       "      <td>87</td>\n",
       "      <td>34</td>\n",
       "      <td>$30-60</td>\n",
       "      <td>Slightly reduced, this wine offers a chalky, t...</td>\n",
       "    </tr>\n",
       "    <tr>\n",
       "      <th>4</th>\n",
       "      <td>California</td>\n",
       "      <td>Central Coast</td>\n",
       "      <td>40.783448</td>\n",
       "      <td>-124.140008</td>\n",
       "      <td>Mirassou</td>\n",
       "      <td>Chardonnay</td>\n",
       "      <td>White</td>\n",
       "      <td>Mirassou 2012 Chardonnay</td>\n",
       "      <td>87</td>\n",
       "      <td>12</td>\n",
       "      <td>&lt;$15</td>\n",
       "      <td>Building on 150 years and six generations of w...</td>\n",
       "    </tr>\n",
       "  </tbody>\n",
       "</table>\n",
       "</div>"
      ],
      "text/plain": [
       "     province             region   Latitude   Longitude              winery  \\\n",
       "0      Oregon  Willamette Valley  44.942554 -122.933762           Rainstorm   \n",
       "1      Oregon  Willamette Valley  44.942554 -122.933762        Sweet Cheeks   \n",
       "2  California        Napa Valley  38.502469 -122.265389  Kirkland Signature   \n",
       "3  California   Alexander Valley  38.612965 -122.769435    Louis M. Martini   \n",
       "4  California      Central Coast  40.783448 -124.140008            Mirassou   \n",
       "\n",
       "              variety   type  \\\n",
       "0          Pinot Gris  White   \n",
       "1          Pinot Noir    Red   \n",
       "2  Cabernet Sauvignon    Red   \n",
       "3  Cabernet Sauvignon    Red   \n",
       "4          Chardonnay  White   \n",
       "\n",
       "                                               title  points  price  \\\n",
       "0                         Rainstorm 2013 Pinot Gris       87     14   \n",
       "1  Sweet Cheeks 2012 Vintner's Reserve Wild Child...      87     65   \n",
       "2  Kirkland Signature 2011 Mountain Cuvee Caberne...      87     19   \n",
       "3          Louis M. Martini 2012 Cabernet Sauvignon       87     34   \n",
       "4                          Mirassou 2012 Chardonnay       87     12   \n",
       "\n",
       "  price_bins                                        description  \n",
       "0       <$15  Tart and snappy, the flavors of lime flesh and...  \n",
       "1    $60-100  Much like the regular bottling from 2012, this...  \n",
       "2     $15-30  Soft, supple plum envelopes an oaky structure ...  \n",
       "3     $30-60  Slightly reduced, this wine offers a chalky, t...  \n",
       "4       <$15  Building on 150 years and six generations of w...  "
      ]
     },
     "execution_count": 2,
     "metadata": {},
     "output_type": "execute_result"
    }
   ],
   "source": [
    "# Import cleaned US data reduced by regions and varieties w <= 300 value counts\n",
    "dashboard_wine_data_df = pd.read_csv(\"Data/US_Wine_PriceBins.csv\")\n",
    "print(dashboard_wine_data_df.shape)\n",
    "dashboard_wine_data_df.head()"
   ]
  },
  {
   "cell_type": "code",
   "execution_count": 3,
   "id": "67277ee2",
   "metadata": {},
   "outputs": [
    {
     "name": "stdout",
     "output_type": "stream",
     "text": [
      "(35430, 9)\n"
     ]
    },
    {
     "data": {
      "text/html": [
       "<div>\n",
       "<style scoped>\n",
       "    .dataframe tbody tr th:only-of-type {\n",
       "        vertical-align: middle;\n",
       "    }\n",
       "\n",
       "    .dataframe tbody tr th {\n",
       "        vertical-align: top;\n",
       "    }\n",
       "\n",
       "    .dataframe thead th {\n",
       "        text-align: right;\n",
       "    }\n",
       "</style>\n",
       "<table border=\"1\" class=\"dataframe\">\n",
       "  <thead>\n",
       "    <tr style=\"text-align: right;\">\n",
       "      <th></th>\n",
       "      <th>province</th>\n",
       "      <th>region</th>\n",
       "      <th>winery</th>\n",
       "      <th>variety</th>\n",
       "      <th>type</th>\n",
       "      <th>title</th>\n",
       "      <th>points</th>\n",
       "      <th>price</th>\n",
       "      <th>description</th>\n",
       "    </tr>\n",
       "  </thead>\n",
       "  <tbody>\n",
       "    <tr>\n",
       "      <th>0</th>\n",
       "      <td>Oregon</td>\n",
       "      <td>Willamette Valley</td>\n",
       "      <td>Rainstorm</td>\n",
       "      <td>Pinot Gris</td>\n",
       "      <td>White</td>\n",
       "      <td>Rainstorm 2013 Pinot Gris</td>\n",
       "      <td>87</td>\n",
       "      <td>14</td>\n",
       "      <td>Tart and snappy, the flavors of lime flesh and...</td>\n",
       "    </tr>\n",
       "  </tbody>\n",
       "</table>\n",
       "</div>"
      ],
      "text/plain": [
       "  province             region     winery     variety   type  \\\n",
       "0   Oregon  Willamette Valley  Rainstorm  Pinot Gris  White   \n",
       "\n",
       "                        title  points  price  \\\n",
       "0  Rainstorm 2013 Pinot Gris       87     14   \n",
       "\n",
       "                                         description  \n",
       "0  Tart and snappy, the flavors of lime flesh and...  "
      ]
     },
     "execution_count": 3,
     "metadata": {},
     "output_type": "execute_result"
    }
   ],
   "source": [
    "# For \"wine picker\" drop columns\n",
    "dashboard_wine_data_df = dashboard_wine_data_df.drop([\"Latitude\", \"Longitude\", \"price_bins\"], axis=1)\n",
    "print(dashboard_wine_data_df.shape)\n",
    "dashboard_wine_data_df.head(1)"
   ]
  },
  {
   "cell_type": "markdown",
   "id": "b2d132ae",
   "metadata": {},
   "source": [
    "## Create json file"
   ]
  },
  {
   "cell_type": "code",
   "execution_count": 4,
   "id": "7f129e87",
   "metadata": {},
   "outputs": [],
   "source": [
    "# Export Pandas DataFrame to JSON File\n",
    "# https://datatofish.com/export-pandas-dataframe-json/\n",
    "dashboard_wine_data_df.to_json(r'static\\json\\data.json', orient='records')"
   ]
  },
  {
   "cell_type": "code",
   "execution_count": null,
   "id": "6d232dba",
   "metadata": {},
   "outputs": [],
   "source": []
  }
 ],
 "metadata": {
  "kernelspec": {
   "display_name": "mlenv",
   "language": "python",
   "name": "mlenv"
  },
  "language_info": {
   "codemirror_mode": {
    "name": "ipython",
    "version": 3
   },
   "file_extension": ".py",
   "mimetype": "text/x-python",
   "name": "python",
   "nbconvert_exporter": "python",
   "pygments_lexer": "ipython3",
   "version": "3.7.10"
  }
 },
 "nbformat": 4,
 "nbformat_minor": 5
}
