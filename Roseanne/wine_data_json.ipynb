{
 "cells": [
  {
   "cell_type": "markdown",
   "id": "f41ce819",
   "metadata": {},
   "source": [
    "# Wine_data_json"
   ]
  },
  {
   "cell_type": "code",
   "execution_count": 1,
   "id": "713f5153",
   "metadata": {},
   "outputs": [],
   "source": [
    "# Import dependencies\n",
    "import pandas as pd\n",
    "import json"
   ]
  },
  {
   "cell_type": "code",
   "execution_count": 2,
   "id": "cbe6904f",
   "metadata": {},
   "outputs": [
    {
     "name": "stdout",
     "output_type": "stream",
     "text": [
      "(54265, 9)\n"
     ]
    },
    {
     "data": {
      "text/html": [
       "<div>\n",
       "<style scoped>\n",
       "    .dataframe tbody tr th:only-of-type {\n",
       "        vertical-align: middle;\n",
       "    }\n",
       "\n",
       "    .dataframe tbody tr th {\n",
       "        vertical-align: top;\n",
       "    }\n",
       "\n",
       "    .dataframe thead th {\n",
       "        text-align: right;\n",
       "    }\n",
       "</style>\n",
       "<table border=\"1\" class=\"dataframe\">\n",
       "  <thead>\n",
       "    <tr style=\"text-align: right;\">\n",
       "      <th></th>\n",
       "      <th>description</th>\n",
       "      <th>points</th>\n",
       "      <th>price</th>\n",
       "      <th>province</th>\n",
       "      <th>region_1</th>\n",
       "      <th>region_2</th>\n",
       "      <th>title</th>\n",
       "      <th>variety</th>\n",
       "      <th>winery</th>\n",
       "    </tr>\n",
       "  </thead>\n",
       "  <tbody>\n",
       "    <tr>\n",
       "      <th>0</th>\n",
       "      <td>Tart and snappy, the flavors of lime flesh and...</td>\n",
       "      <td>87</td>\n",
       "      <td>14.0</td>\n",
       "      <td>Oregon</td>\n",
       "      <td>Willamette Valley</td>\n",
       "      <td>Willamette Valley</td>\n",
       "      <td>Rainstorm 2013 Pinot Gris (Willamette Valley)</td>\n",
       "      <td>Pinot Gris</td>\n",
       "      <td>Rainstorm</td>\n",
       "    </tr>\n",
       "    <tr>\n",
       "      <th>1</th>\n",
       "      <td>Pineapple rind, lemon pith and orange blossom ...</td>\n",
       "      <td>87</td>\n",
       "      <td>13.0</td>\n",
       "      <td>Michigan</td>\n",
       "      <td>Lake Michigan Shore</td>\n",
       "      <td>Lake Michigan Shore</td>\n",
       "      <td>St. Julian 2013 Reserve Late Harvest Riesling ...</td>\n",
       "      <td>Riesling</td>\n",
       "      <td>St. Julian</td>\n",
       "    </tr>\n",
       "    <tr>\n",
       "      <th>2</th>\n",
       "      <td>Much like the regular bottling from 2012, this...</td>\n",
       "      <td>87</td>\n",
       "      <td>65.0</td>\n",
       "      <td>Oregon</td>\n",
       "      <td>Willamette Valley</td>\n",
       "      <td>Willamette Valley</td>\n",
       "      <td>Sweet Cheeks 2012 Vintner's Reserve Wild Child...</td>\n",
       "      <td>Pinot Noir</td>\n",
       "      <td>Sweet Cheeks</td>\n",
       "    </tr>\n",
       "    <tr>\n",
       "      <th>3</th>\n",
       "      <td>Soft, supple plum envelopes an oaky structure ...</td>\n",
       "      <td>87</td>\n",
       "      <td>19.0</td>\n",
       "      <td>California</td>\n",
       "      <td>Napa Valley</td>\n",
       "      <td>Napa</td>\n",
       "      <td>Kirkland Signature 2011 Mountain Cuvée Caberne...</td>\n",
       "      <td>Cabernet Sauvignon</td>\n",
       "      <td>Kirkland Signature</td>\n",
       "    </tr>\n",
       "    <tr>\n",
       "      <th>4</th>\n",
       "      <td>Slightly reduced, this wine offers a chalky, t...</td>\n",
       "      <td>87</td>\n",
       "      <td>34.0</td>\n",
       "      <td>California</td>\n",
       "      <td>Alexander Valley</td>\n",
       "      <td>Sonoma</td>\n",
       "      <td>Louis M. Martini 2012 Cabernet Sauvignon (Alex...</td>\n",
       "      <td>Cabernet Sauvignon</td>\n",
       "      <td>Louis M. Martini</td>\n",
       "    </tr>\n",
       "  </tbody>\n",
       "</table>\n",
       "</div>"
      ],
      "text/plain": [
       "                                         description  points  price  \\\n",
       "0  Tart and snappy, the flavors of lime flesh and...      87   14.0   \n",
       "1  Pineapple rind, lemon pith and orange blossom ...      87   13.0   \n",
       "2  Much like the regular bottling from 2012, this...      87   65.0   \n",
       "3  Soft, supple plum envelopes an oaky structure ...      87   19.0   \n",
       "4  Slightly reduced, this wine offers a chalky, t...      87   34.0   \n",
       "\n",
       "     province             region_1             region_2  \\\n",
       "0      Oregon    Willamette Valley    Willamette Valley   \n",
       "1    Michigan  Lake Michigan Shore  Lake Michigan Shore   \n",
       "2      Oregon    Willamette Valley    Willamette Valley   \n",
       "3  California          Napa Valley                 Napa   \n",
       "4  California     Alexander Valley               Sonoma   \n",
       "\n",
       "                                               title             variety  \\\n",
       "0      Rainstorm 2013 Pinot Gris (Willamette Valley)          Pinot Gris   \n",
       "1  St. Julian 2013 Reserve Late Harvest Riesling ...            Riesling   \n",
       "2  Sweet Cheeks 2012 Vintner's Reserve Wild Child...          Pinot Noir   \n",
       "3  Kirkland Signature 2011 Mountain Cuvée Caberne...  Cabernet Sauvignon   \n",
       "4  Louis M. Martini 2012 Cabernet Sauvignon (Alex...  Cabernet Sauvignon   \n",
       "\n",
       "               winery  \n",
       "0           Rainstorm  \n",
       "1          St. Julian  \n",
       "2        Sweet Cheeks  \n",
       "3  Kirkland Signature  \n",
       "4    Louis M. Martini  "
      ]
     },
     "execution_count": 2,
     "metadata": {},
     "output_type": "execute_result"
    }
   ],
   "source": [
    "# Import cleaned US data\n",
    "US_wine_data_df = pd.read_csv(\"Data/US_wine_data.csv\")\n",
    "print(US_wine_data_df.shape)\n",
    "US_wine_data_df.head()"
   ]
  },
  {
   "cell_type": "code",
   "execution_count": 3,
   "id": "7a1aa196",
   "metadata": {},
   "outputs": [
    {
     "name": "stdout",
     "output_type": "stream",
     "text": [
      "(54265, 8)\n"
     ]
    },
    {
     "data": {
      "text/html": [
       "<div>\n",
       "<style scoped>\n",
       "    .dataframe tbody tr th:only-of-type {\n",
       "        vertical-align: middle;\n",
       "    }\n",
       "\n",
       "    .dataframe tbody tr th {\n",
       "        vertical-align: top;\n",
       "    }\n",
       "\n",
       "    .dataframe thead th {\n",
       "        text-align: right;\n",
       "    }\n",
       "</style>\n",
       "<table border=\"1\" class=\"dataframe\">\n",
       "  <thead>\n",
       "    <tr style=\"text-align: right;\">\n",
       "      <th></th>\n",
       "      <th>description</th>\n",
       "      <th>points</th>\n",
       "      <th>price</th>\n",
       "      <th>province</th>\n",
       "      <th>region_1</th>\n",
       "      <th>title</th>\n",
       "      <th>variety</th>\n",
       "      <th>winery</th>\n",
       "    </tr>\n",
       "  </thead>\n",
       "  <tbody>\n",
       "    <tr>\n",
       "      <th>0</th>\n",
       "      <td>Tart and snappy, the flavors of lime flesh and...</td>\n",
       "      <td>87</td>\n",
       "      <td>14.0</td>\n",
       "      <td>Oregon</td>\n",
       "      <td>Willamette Valley</td>\n",
       "      <td>Rainstorm 2013 Pinot Gris (Willamette Valley)</td>\n",
       "      <td>Pinot Gris</td>\n",
       "      <td>Rainstorm</td>\n",
       "    </tr>\n",
       "  </tbody>\n",
       "</table>\n",
       "</div>"
      ],
      "text/plain": [
       "                                         description  points  price province  \\\n",
       "0  Tart and snappy, the flavors of lime flesh and...      87   14.0   Oregon   \n",
       "\n",
       "            region_1                                          title  \\\n",
       "0  Willamette Valley  Rainstorm 2013 Pinot Gris (Willamette Valley)   \n",
       "\n",
       "      variety     winery  \n",
       "0  Pinot Gris  Rainstorm  "
      ]
     },
     "execution_count": 3,
     "metadata": {},
     "output_type": "execute_result"
    }
   ],
   "source": [
    "# Drop region_2. Most often this column is the same as region_1.\n",
    "US_wine_data_df = US_wine_data_df.drop([\"region_2\"], axis=1)\n",
    "print(US_wine_data_df.shape)\n",
    "US_wine_data_df.head(1)"
   ]
  },
  {
   "cell_type": "code",
   "execution_count": 5,
   "id": "5c324ea2",
   "metadata": {},
   "outputs": [
    {
     "name": "stdout",
     "output_type": "stream",
     "text": [
      "(54265, 8)\n"
     ]
    },
    {
     "data": {
      "text/html": [
       "<div>\n",
       "<style scoped>\n",
       "    .dataframe tbody tr th:only-of-type {\n",
       "        vertical-align: middle;\n",
       "    }\n",
       "\n",
       "    .dataframe tbody tr th {\n",
       "        vertical-align: top;\n",
       "    }\n",
       "\n",
       "    .dataframe thead th {\n",
       "        text-align: right;\n",
       "    }\n",
       "</style>\n",
       "<table border=\"1\" class=\"dataframe\">\n",
       "  <thead>\n",
       "    <tr style=\"text-align: right;\">\n",
       "      <th></th>\n",
       "      <th>province</th>\n",
       "      <th>region_1</th>\n",
       "      <th>winery</th>\n",
       "      <th>variety</th>\n",
       "      <th>title</th>\n",
       "      <th>points</th>\n",
       "      <th>price</th>\n",
       "      <th>description</th>\n",
       "    </tr>\n",
       "  </thead>\n",
       "  <tbody>\n",
       "    <tr>\n",
       "      <th>0</th>\n",
       "      <td>Oregon</td>\n",
       "      <td>Willamette Valley</td>\n",
       "      <td>Rainstorm</td>\n",
       "      <td>Pinot Gris</td>\n",
       "      <td>Rainstorm 2013 Pinot Gris (Willamette Valley)</td>\n",
       "      <td>87</td>\n",
       "      <td>14.0</td>\n",
       "      <td>Tart and snappy, the flavors of lime flesh and...</td>\n",
       "    </tr>\n",
       "  </tbody>\n",
       "</table>\n",
       "</div>"
      ],
      "text/plain": [
       "  province           region_1     winery     variety  \\\n",
       "0   Oregon  Willamette Valley  Rainstorm  Pinot Gris   \n",
       "\n",
       "                                           title  points  price  \\\n",
       "0  Rainstorm 2013 Pinot Gris (Willamette Valley)      87   14.0   \n",
       "\n",
       "                                         description  \n",
       "0  Tart and snappy, the flavors of lime flesh and...  "
      ]
     },
     "execution_count": 5,
     "metadata": {},
     "output_type": "execute_result"
    }
   ],
   "source": [
    "# Re-arrange column order for wine finder display.\n",
    "US_wine_data_df = US_wine_data_df[['province', 'region_1', 'winery', 'variety', 'title', 'points', 'price', 'description']]\n",
    "print(US_wine_data_df.shape)\n",
    "US_wine_data_df.head(1)"
   ]
  },
  {
   "cell_type": "markdown",
   "id": "be7b06d2",
   "metadata": {},
   "source": [
    "## Create json file"
   ]
  },
  {
   "cell_type": "code",
   "execution_count": null,
   "id": "838a72ab",
   "metadata": {},
   "outputs": [],
   "source": [
    "# Export Pandas DataFrame to JSON File\n",
    "# https://datatofish.com/export-pandas-dataframe-json/\n",
    "# US_wine_data_df.to_json(r'Data\\US_wine_data.json', orient='records')"
   ]
  },
  {
   "cell_type": "code",
   "execution_count": 6,
   "id": "4763fc1f",
   "metadata": {},
   "outputs": [
    {
     "name": "stdout",
     "output_type": "stream",
     "text": [
      "(20, 8)\n"
     ]
    },
    {
     "data": {
      "text/html": [
       "<div>\n",
       "<style scoped>\n",
       "    .dataframe tbody tr th:only-of-type {\n",
       "        vertical-align: middle;\n",
       "    }\n",
       "\n",
       "    .dataframe tbody tr th {\n",
       "        vertical-align: top;\n",
       "    }\n",
       "\n",
       "    .dataframe thead th {\n",
       "        text-align: right;\n",
       "    }\n",
       "</style>\n",
       "<table border=\"1\" class=\"dataframe\">\n",
       "  <thead>\n",
       "    <tr style=\"text-align: right;\">\n",
       "      <th></th>\n",
       "      <th>province</th>\n",
       "      <th>region_1</th>\n",
       "      <th>winery</th>\n",
       "      <th>variety</th>\n",
       "      <th>title</th>\n",
       "      <th>points</th>\n",
       "      <th>price</th>\n",
       "      <th>description</th>\n",
       "    </tr>\n",
       "  </thead>\n",
       "  <tbody>\n",
       "    <tr>\n",
       "      <th>13024</th>\n",
       "      <td>Oregon</td>\n",
       "      <td>Oregon</td>\n",
       "      <td>Rainstorm</td>\n",
       "      <td>Pinot Noir</td>\n",
       "      <td>Rainstorm 2011 Pinot Noir (Oregon)</td>\n",
       "      <td>87</td>\n",
       "      <td>17.0</td>\n",
       "      <td>There is a dusty aspect to the aromas and text...</td>\n",
       "    </tr>\n",
       "    <tr>\n",
       "      <th>30544</th>\n",
       "      <td>Oregon</td>\n",
       "      <td>Oregon</td>\n",
       "      <td>Rainstorm</td>\n",
       "      <td>Pinot Gris</td>\n",
       "      <td>Rainstorm 2016 Pinot Gris (Oregon)</td>\n",
       "      <td>88</td>\n",
       "      <td>14.0</td>\n",
       "      <td>Supple and seamless, this lightly spicy wine i...</td>\n",
       "    </tr>\n",
       "    <tr>\n",
       "      <th>44981</th>\n",
       "      <td>Oregon</td>\n",
       "      <td>Oregon</td>\n",
       "      <td>Rainstorm</td>\n",
       "      <td>Pinot Noir</td>\n",
       "      <td>Rainstorm 2010 Pinot Noir (Oregon)</td>\n",
       "      <td>88</td>\n",
       "      <td>17.0</td>\n",
       "      <td>The second vintage of Rainstorm is smooth and ...</td>\n",
       "    </tr>\n",
       "  </tbody>\n",
       "</table>\n",
       "</div>"
      ],
      "text/plain": [
       "      province region_1     winery     variety  \\\n",
       "13024   Oregon   Oregon  Rainstorm  Pinot Noir   \n",
       "30544   Oregon   Oregon  Rainstorm  Pinot Gris   \n",
       "44981   Oregon   Oregon  Rainstorm  Pinot Noir   \n",
       "\n",
       "                                    title  points  price  \\\n",
       "13024  Rainstorm 2011 Pinot Noir (Oregon)      87   17.0   \n",
       "30544  Rainstorm 2016 Pinot Gris (Oregon)      88   14.0   \n",
       "44981  Rainstorm 2010 Pinot Noir (Oregon)      88   17.0   \n",
       "\n",
       "                                             description  \n",
       "13024  There is a dusty aspect to the aromas and text...  \n",
       "30544  Supple and seamless, this lightly spicy wine i...  \n",
       "44981  The second vintage of Rainstorm is smooth and ...  "
      ]
     },
     "execution_count": 6,
     "metadata": {},
     "output_type": "execute_result"
    }
   ],
   "source": [
    "# create small test set for website testing\n",
    "US_wine_data_test_df = pd.DataFrame(US_wine_data_df, index =[0,1,2,3,4,100,200,300,400,\n",
    "                                                             500,6000,6624,7000,8000,\n",
    "                                                             9000,9273,12000,13024,30544,\n",
    "                                                             44981])\n",
    "print(US_wine_data_test_df.shape)\n",
    "US_wine_data_test_df.tail(3)"
   ]
  },
  {
   "cell_type": "code",
   "execution_count": 8,
   "id": "34478ca0",
   "metadata": {},
   "outputs": [],
   "source": [
    "US_wine_data_test_df.to_json(r'static\\json\\data.json', orient='records')"
   ]
  },
  {
   "cell_type": "code",
   "execution_count": null,
   "id": "1c4f1d93",
   "metadata": {},
   "outputs": [],
   "source": []
  }
 ],
 "metadata": {
  "kernelspec": {
   "display_name": "mlenv",
   "language": "python",
   "name": "mlenv"
  },
  "language_info": {
   "codemirror_mode": {
    "name": "ipython",
    "version": 3
   },
   "file_extension": ".py",
   "mimetype": "text/x-python",
   "name": "python",
   "nbconvert_exporter": "python",
   "pygments_lexer": "ipython3",
   "version": "3.7.10"
  }
 },
 "nbformat": 4,
 "nbformat_minor": 5
}
