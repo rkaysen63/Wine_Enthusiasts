{
 "cells": [
  {
   "cell_type": "code",
   "execution_count": 29,
   "metadata": {},
   "outputs": [],
   "source": [
    "# Dependencies to pull API\n",
    "import requests\n",
    "import json\n",
    "# Google developer API key\n",
    "from config import gkey"
   ]
  },
  {
   "cell_type": "code",
   "execution_count": 32,
   "metadata": {},
   "outputs": [],
   "source": [
    "# Import Dependencies for Database\n",
    "from config import password\n",
    "import sqlalchemy\n",
    "from sqlalchemy.ext.automap import automap_base\n",
    "from sqlalchemy.orm import Session\n",
    "from sqlalchemy import create_engine, func, inspect\n",
    "import psycopg2\n",
    "import pandas as pd"
   ]
  },
  {
   "cell_type": "code",
   "execution_count": 31,
   "metadata": {},
   "outputs": [],
   "source": [
    "db_string = f\"postgresql+psycopg2://postgres:\" + password + \"@127.0.0.1:5434/WineEnthusiast\""
   ]
  },
  {
   "cell_type": "code",
   "execution_count": 11,
   "metadata": {},
   "outputs": [
    {
     "data": {
      "text/plain": [
       "['winemag', 'wineregions', 'wine', 'uswine', 'winedata', 'winedata_ml']"
      ]
     },
     "execution_count": 11,
     "metadata": {},
     "output_type": "execute_result"
    }
   ],
   "source": [
    "engine = create_engine(db_string)\n",
    "inspector = inspect(engine)\n",
    "inspector.get_table_names()"
   ]
  },
  {
   "cell_type": "code",
   "execution_count": 5,
   "metadata": {},
   "outputs": [
    {
     "data": {
      "text/plain": [
       "<sqlalchemy.engine.result.ResultProxy at 0x7fa0c5764e50>"
      ]
     },
     "execution_count": 5,
     "metadata": {},
     "output_type": "execute_result"
    }
   ],
   "source": [
    "connection = engine.connect\n",
    "session = Session(engine)\n",
    "engine.execute(\"SELECT * from wine\")"
   ]
  },
  {
   "cell_type": "code",
   "execution_count": 6,
   "metadata": {},
   "outputs": [
    {
     "name": "stdout",
     "output_type": "stream",
     "text": [
      "['index', 'description', 'points', 'price', 'province', 'region_1', 'region_2', 'title', 'variety', 'winery']\n"
     ]
    }
   ],
   "source": [
    "col_names_list = []\n",
    "\n",
    "for i in range(len(inspector.get_columns('wine'))):\n",
    "    col_names_list.append(inspector.get_columns('wine')[i]['name'])\n",
    "    \n",
    "print(col_names_list)"
   ]
  },
  {
   "cell_type": "code",
   "execution_count": 12,
   "metadata": {},
   "outputs": [
    {
     "data": {
      "text/plain": [
       "'region_1'"
      ]
     },
     "execution_count": 12,
     "metadata": {},
     "output_type": "execute_result"
    }
   ],
   "source": [
    "col_names = inspector.get_columns('wine')[5]['name']\n",
    "col_names"
   ]
  },
  {
   "cell_type": "code",
   "execution_count": 13,
   "metadata": {},
   "outputs": [],
   "source": [
    "location_wine_df = pd.DataFrame(columns = col_names_list)"
   ]
  },
  {
   "cell_type": "code",
   "execution_count": 14,
   "metadata": {},
   "outputs": [],
   "source": [
    "# Inner join for wines and regions\n",
    "import sys\n",
    "join_db = engine.execute(\"SELECT region_1 from wine\")\n",
    "for record in join_db:\n",
    "    record_series = pd.Series((record), index = location_wine_df.columns)\n",
    "    \n",
    "    location_wine_df = location_wine_df.append(record_series, ignore_index=True, verify_integrity = True).drop_duplicates()"
   ]
  },
  {
   "cell_type": "code",
   "execution_count": 15,
   "metadata": {},
   "outputs": [
    {
     "data": {
      "text/plain": [
       "Index(['index', 'description', 'points', 'price', 'province', 'region_1',\n",
       "       'region_2', 'title', 'variety', 'winery'],\n",
       "      dtype='object')"
      ]
     },
     "execution_count": 15,
     "metadata": {},
     "output_type": "execute_result"
    }
   ],
   "source": [
    "location_wine_df.columns"
   ]
  },
  {
   "cell_type": "code",
   "execution_count": 16,
   "metadata": {},
   "outputs": [
    {
     "data": {
      "text/html": [
       "<div>\n",
       "<style scoped>\n",
       "    .dataframe tbody tr th:only-of-type {\n",
       "        vertical-align: middle;\n",
       "    }\n",
       "\n",
       "    .dataframe tbody tr th {\n",
       "        vertical-align: top;\n",
       "    }\n",
       "\n",
       "    .dataframe thead th {\n",
       "        text-align: right;\n",
       "    }\n",
       "</style>\n",
       "<table border=\"1\" class=\"dataframe\">\n",
       "  <thead>\n",
       "    <tr style=\"text-align: right;\">\n",
       "      <th></th>\n",
       "      <th>region_1</th>\n",
       "    </tr>\n",
       "  </thead>\n",
       "  <tbody>\n",
       "    <tr>\n",
       "      <th>0</th>\n",
       "      <td>Willamette Valley</td>\n",
       "    </tr>\n",
       "    <tr>\n",
       "      <th>1</th>\n",
       "      <td>Lake Michigan Shore</td>\n",
       "    </tr>\n",
       "    <tr>\n",
       "      <th>2</th>\n",
       "      <td>Napa Valley</td>\n",
       "    </tr>\n",
       "    <tr>\n",
       "      <th>3</th>\n",
       "      <td>Alexander Valley</td>\n",
       "    </tr>\n",
       "    <tr>\n",
       "      <th>4</th>\n",
       "      <td>Central Coast</td>\n",
       "    </tr>\n",
       "    <tr>\n",
       "      <th>...</th>\n",
       "      <td>...</td>\n",
       "    </tr>\n",
       "    <tr>\n",
       "      <th>261</th>\n",
       "      <td>Monterey County-Napa County</td>\n",
       "    </tr>\n",
       "    <tr>\n",
       "      <th>262</th>\n",
       "      <td>San Diego County</td>\n",
       "    </tr>\n",
       "    <tr>\n",
       "      <th>263</th>\n",
       "      <td>Niagara Escarpment</td>\n",
       "    </tr>\n",
       "    <tr>\n",
       "      <th>264</th>\n",
       "      <td>Sonoma-Napa-Lake</td>\n",
       "    </tr>\n",
       "    <tr>\n",
       "      <th>265</th>\n",
       "      <td>Sonoma County-Santa Barbara County</td>\n",
       "    </tr>\n",
       "  </tbody>\n",
       "</table>\n",
       "<p>266 rows × 1 columns</p>\n",
       "</div>"
      ],
      "text/plain": [
       "                               region_1\n",
       "0                     Willamette Valley\n",
       "1                   Lake Michigan Shore\n",
       "2                           Napa Valley\n",
       "3                      Alexander Valley\n",
       "4                         Central Coast\n",
       "..                                  ...\n",
       "261         Monterey County-Napa County\n",
       "262                    San Diego County\n",
       "263                  Niagara Escarpment\n",
       "264                    Sonoma-Napa-Lake\n",
       "265  Sonoma County-Santa Barbara County\n",
       "\n",
       "[266 rows x 1 columns]"
      ]
     },
     "execution_count": 16,
     "metadata": {},
     "output_type": "execute_result"
    }
   ],
   "source": [
    "region_df = location_wine_df.drop(columns = ['index', 'description', 'points', 'price', 'province',\n",
    "       'region_2', 'title', 'variety', 'winery'], axis = 1)\n",
    "region_df"
   ]
  },
  {
   "cell_type": "code",
   "execution_count": 43,
   "metadata": {},
   "outputs": [],
   "source": [
    "# Target valley\n",
    "region = \"Lodi\"\n",
    "\n",
    "# Build the endpoint URL\n",
    "valley_url = ('https://maps.googleapis.com/maps/api/place/findplacefromtext/json?'\n",
    "    'input={0}&key={1}&inputtype=textquery').format(region, gkey)"
   ]
  },
  {
   "cell_type": "code",
   "execution_count": 44,
   "metadata": {
    "scrolled": true
   },
   "outputs": [
    {
     "name": "stdout",
     "output_type": "stream",
     "text": [
      "{'candidates': [{'place_id': 'ChIJNTjFJtmhmoARRuhsu5jkrY4'}], 'status': 'OK'}\n"
     ]
    }
   ],
   "source": [
    "# Run a request to endpoint and convert result to json\n",
    "geo_data = requests.get(valley_url).json()\n",
    "\n",
    "# Print the json\n",
    "print(geo_data)"
   ]
  },
  {
   "cell_type": "code",
   "execution_count": 45,
   "metadata": {},
   "outputs": [
    {
     "data": {
      "text/plain": [
       "'ChIJNTjFJtmhmoARRuhsu5jkrY4'"
      ]
     },
     "execution_count": 45,
     "metadata": {},
     "output_type": "execute_result"
    }
   ],
   "source": [
    "place_id = geo_data['candidates'][0]['place_id']\n",
    "place_id"
   ]
  },
  {
   "cell_type": "code",
   "execution_count": 46,
   "metadata": {},
   "outputs": [],
   "source": [
    "place_url = ('https://maps.googleapis.com/maps/api/place/details/json?place_id=ChIJNTjFJtmhmoARRuhsu5jkrY4&key='+ gkey)"
   ]
  },
  {
   "cell_type": "code",
   "execution_count": 47,
   "metadata": {},
   "outputs": [
    {
     "name": "stdout",
     "output_type": "stream",
     "text": [
      "{'html_attributions': [], 'result': {'address_components': [{'long_name': 'Lodi', 'short_name': 'Lodi', 'types': ['locality', 'political']}, {'long_name': 'San Joaquin County', 'short_name': 'San Joaquin County', 'types': ['administrative_area_level_2', 'political']}, {'long_name': 'California', 'short_name': 'CA', 'types': ['administrative_area_level_1', 'political']}, {'long_name': 'United States', 'short_name': 'US', 'types': ['country', 'political']}], 'adr_address': '<span class=\"locality\">Lodi</span>, <span class=\"region\">CA</span>, <span class=\"country-name\">USA</span>', 'formatted_address': 'Lodi, CA, USA', 'geometry': {'location': {'lat': 38.1341477, 'lng': -121.2722194}, 'viewport': {'northeast': {'lat': 38.15494201474051, 'lng': -121.2413109180588}, 'southwest': {'lat': 38.08245401935762, 'lng': -121.4052700246796}}}, 'icon': 'https://maps.gstatic.com/mapfiles/place_api/icons/v1/png_71/geocode-71.png', 'icon_background_color': '#7B9EB0', 'icon_mask_base_uri': 'https://maps.gstatic.com/mapfiles/place_api/icons/v1/png_71/generic_pinlet', 'name': 'Lodi', 'photos': [{'height': 3024, 'html_attributions': ['<a href=\"https://maps.google.com/maps/contrib/111007459724078383770\">Raghu Sharma</a>'], 'photo_reference': 'Aap_uEAM6Gw2B9BBiiL0NMBbld6BgWJJHwXk2XQskTf22DuvWGkUP9rK-VQ8JBeC5ICY-YTof8Gfv6TidhXQjAt85S0aY947xw8SkLYL0Lv5aFp75PbQ6M0w0glZYkWvdUyTGjL9GiWCLt2DtOU0mfDmsQjYq7EwjVxxfYnLD_ivt1rcq5A2', 'width': 4032}, {'height': 4032, 'html_attributions': ['<a href=\"https://maps.google.com/maps/contrib/101580070492939978025\">Elizabeth B.</a>'], 'photo_reference': 'Aap_uEB6lBx5KPeFrJUst9p1ByGNzp0VZoK2NfudrOWmeXV_iN_qvBQTbVNcLLWeBiYYOsq9DN9nlKhjn3zLYLrubOos6Fi4OV5QJpwtMBVrUXbJD9sHDvKBKFolI6wM3a6-1IiF_ESc1s9zH0EN_wrFAnXJmo6ee5XIZ1cHzTDY_vrhsIHM', 'width': 3024}, {'height': 3472, 'html_attributions': ['<a href=\"https://maps.google.com/maps/contrib/113223740402964500583\">Danielle Allman</a>'], 'photo_reference': 'Aap_uEANQM3IT1zDZU5vd0sk30Bmy2dwspyPreOBlSZm42L0p2rqFyVo3aldhy-BKuqRMsSX_5wn0S89F5zRlgM3kVQKQYhLH4TSQvo2eg3XwF8HYxLt9o4AjjCVZFAV_DpVltmavp5jtWCESAVdS4l15ZUozx7Bmp3rtKVwD7el0htQ018p', 'width': 4624}, {'height': 4624, 'html_attributions': ['<a href=\"https://maps.google.com/maps/contrib/100132917208443587597\">Jenny N</a>'], 'photo_reference': 'Aap_uEA9qvB71pXMD5dzyFr4iH30QIRFN5TKULkYAeEbEsSiPecfpRdaw6h40iEx-oFfg-us8V7qMmkPpTlY3dD3jFMU0-DfPzqWDkVlWEgiiGLTOjjH_sdhRA0IONADQib1iYBvaWu8xGkHogy-RydOQX7Jaa2akzibOj_LIEscSmLs6xLy', 'width': 3468}, {'height': 4032, 'html_attributions': ['<a href=\"https://maps.google.com/maps/contrib/113042563689030833631\">Marie Miglietta</a>'], 'photo_reference': 'Aap_uEBp3fYQDw4JN4MUz7E1ExW7C7w1qeT4n1MTrhsBO9bXHvstcFNtSg4OVAJYEUu6FimEJZ98tbB9eTTpSdQVTiwY4O9j1eznGIiWa7_EdW6BN5_oire6aaILu-lKPL9J1-F2U89WryAP9AwdKipje972l-dQp-XW69S8UtHGbQPijjxC', 'width': 3024}, {'height': 4008, 'html_attributions': ['<a href=\"https://maps.google.com/maps/contrib/103145431707773308843\">Caitlin Bindner</a>'], 'photo_reference': 'Aap_uEBxuWKF8fv7bfePMyEs2x2rH-AJ6hDDJe5hKKec3AW2yysYPAuOO01NDmDuPpKJeXGZdaxzy2sJmBsaFgLLRl6IY9bId2GRz62aQBX9izB2CT_g02bDQRzly2byEeuIXrJ2R1g-QZjbWespu2RlmjDE_TE3nHjVmDOypA0C46tbCjNV', 'width': 5344}, {'height': 5344, 'html_attributions': ['<a href=\"https://maps.google.com/maps/contrib/103145431707773308843\">Caitlin Bindner</a>'], 'photo_reference': 'Aap_uEDZ7cDxO6_YM9kAJ0ARrlVFf3BkGohMEJqQXh7WyRDuh-gT4-IdG1mCU9uJtBRpEKwq4eIByXLkgWJmWuX26EAdeeOevJR_pV6PZG63OziV0fZBz79JY0Ibr9w7ZAw_jcBFt86qGlelMzIZQ-3_clynSOLzTlv-THsl-4bfnShcDDkj', 'width': 4008}, {'height': 3024, 'html_attributions': ['<a href=\"https://maps.google.com/maps/contrib/107369998101403950975\">jose lourenco</a>'], 'photo_reference': 'Aap_uECMd_-ZW6Z8ryXWcl4q7w2vFjoSp-L_9yTud7EwOLoBV4dmN4TQLkUh5oo7QieFbYlfawGFdvw4Rh7DykQ4YCbQyoSlMKQwotIqaFV-Ct-qrFTw9J-ox56xNWh2ooA-YROodt56wIL1tkE35yqcC9LfaFR5QhBMSseZ5SDYqv8fDaHc', 'width': 4032}, {'height': 3264, 'html_attributions': ['<a href=\"https://maps.google.com/maps/contrib/108481542724957208903\">Kevin Stevens</a>'], 'photo_reference': 'Aap_uEAm4hhg8n7ftN3USyzo0hTh1FVjmrvmUWY3hTbmZ7N1qyrWbX3Tp_5idlHXBVhyian9G_lm9vgKBieFOnYOVpBlV54zygA4Vmgrm-4WKm0e2eKFIRyO0YAS48DaqdOUj_P_3tKxPxUNh8SXhh0xK8wZ_QIwf1lVcz8yNNFMeRLKr740', 'width': 1836}, {'height': 1080, 'html_attributions': ['<a href=\"https://maps.google.com/maps/contrib/116628017237318634822\">Joseph Nguyen</a>'], 'photo_reference': 'Aap_uEA-6rZPhcSQTOG3cqfXx1ZOVwHe-wWsHWfFES6-4Np4ZV_Yt8yWYa1nTpDNtN8l0BeUAAUzL-BQJ_154IMOAH-UBF2PLbt0Uvl-U3Y2hECSagtEl7SeK1mmlgR1zIHaJn-1Is51WwpieUwt1Ar4bsCZFOOop6Iy6hmQc2lpbYk6gO5G', 'width': 1620}], 'place_id': 'ChIJNTjFJtmhmoARRuhsu5jkrY4', 'reference': 'ChIJNTjFJtmhmoARRuhsu5jkrY4', 'types': ['locality', 'political'], 'url': 'https://maps.google.com/?q=Lodi,+CA,+USA&ftid=0x809aa1d926c53835:0x8eade498bb6ce846', 'utc_offset': -420, 'vicinity': 'Lodi', 'website': 'http://www.lodi.gov/'}, 'status': 'OK'}\n"
     ]
    }
   ],
   "source": [
    "place_data = requests.get(place_url).json()\n",
    "print(place_data)"
   ]
  },
  {
   "cell_type": "code",
   "execution_count": 48,
   "metadata": {},
   "outputs": [
    {
     "data": {
      "text/plain": [
       "38.1341477"
      ]
     },
     "execution_count": 48,
     "metadata": {},
     "output_type": "execute_result"
    }
   ],
   "source": [
    "latitude = place_data['result']['geometry']['location']['lat']\n",
    "latitude\n"
   ]
  },
  {
   "cell_type": "code",
   "execution_count": 49,
   "metadata": {},
   "outputs": [
    {
     "data": {
      "text/plain": [
       "-121.2722194"
      ]
     },
     "execution_count": 49,
     "metadata": {},
     "output_type": "execute_result"
    }
   ],
   "source": [
    "longitude = place_data['result']['geometry']['location']['lng']\n",
    "longitude"
   ]
  }
 ],
 "metadata": {
  "kernelspec": {
   "display_name": "PythonData",
   "language": "python",
   "name": "pythondata"
  },
  "language_info": {
   "codemirror_mode": {
    "name": "ipython",
    "version": 3
   },
   "file_extension": ".py",
   "mimetype": "text/x-python",
   "name": "python",
   "nbconvert_exporter": "python",
   "pygments_lexer": "ipython3",
   "version": "3.8.5"
  }
 },
 "nbformat": 4,
 "nbformat_minor": 5
}
