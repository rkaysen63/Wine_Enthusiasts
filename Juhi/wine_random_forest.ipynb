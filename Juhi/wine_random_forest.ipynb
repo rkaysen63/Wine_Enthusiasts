{
 "cells": [
  {
   "cell_type": "markdown",
   "metadata": {},
   "source": [
    "# Random Forest Classifier"
   ]
  },
  {
   "cell_type": "code",
   "execution_count": 1,
   "metadata": {},
   "outputs": [],
   "source": [
    "# Import dependencies for ML\n",
    "import pandas as pd\n",
    "from sklearn.model_selection import train_test_split\n",
    "from sklearn.preprocessing import StandardScaler,OneHotEncoder\n",
    "from sklearn.preprocessing import LabelEncoder\n",
    "from sklearn.ensemble import RandomForestClassifier\n",
    "from sklearn.metrics import confusion_matrix, accuracy_score, classification_report\n"
   ]
  },
  {
   "cell_type": "code",
   "execution_count": 2,
   "metadata": {},
   "outputs": [
    {
     "name": "stderr",
     "output_type": "stream",
     "text": [
      "/Users/juhiaggarwal/opt/anaconda3/envs/mlenv/lib/python3.7/site-packages/psycopg2/__init__.py:144: UserWarning: The psycopg2 wheel package will be renamed from release 2.8; in order to keep installing from binary please use \"pip install psycopg2-binary\" instead. For details see: <http://initd.org/psycopg/docs/install.html#binary-install-from-pypi>.\n",
      "  \"\"\")\n"
     ]
    }
   ],
   "source": [
    "# Import Dependencies for Database\n",
    "from config import password\n",
    "import sqlalchemy\n",
    "from sqlalchemy.ext.automap import automap_base\n",
    "from sqlalchemy.orm import Session\n",
    "from sqlalchemy import create_engine, func, inspect\n",
    "import psycopg2\n",
    "import pandas as pd"
   ]
  },
  {
   "cell_type": "code",
   "execution_count": 3,
   "metadata": {},
   "outputs": [],
   "source": [
    "db_string = f\"postgresql+psycopg2://postgres:\" + password + \"@127.0.0.1:5434/WineEnthusiast\""
   ]
  },
  {
   "cell_type": "code",
   "execution_count": 4,
   "metadata": {},
   "outputs": [],
   "source": [
    "engine = create_engine(db_string)"
   ]
  },
  {
   "cell_type": "code",
   "execution_count": 5,
   "metadata": {},
   "outputs": [],
   "source": [
    "inspector = inspect(engine)"
   ]
  },
  {
   "cell_type": "code",
   "execution_count": 6,
   "metadata": {},
   "outputs": [
    {
     "data": {
      "text/plain": [
       "['wine', 'uswine', 'wineregions', 'winedata_ml']"
      ]
     },
     "execution_count": 6,
     "metadata": {},
     "output_type": "execute_result"
    }
   ],
   "source": [
    "inspector.get_table_names()"
   ]
  },
  {
   "cell_type": "code",
   "execution_count": 7,
   "metadata": {},
   "outputs": [],
   "source": [
    "connection = engine.connect"
   ]
  },
  {
   "cell_type": "code",
   "execution_count": 8,
   "metadata": {},
   "outputs": [],
   "source": [
    "session = Session(engine)"
   ]
  },
  {
   "cell_type": "code",
   "execution_count": 9,
   "metadata": {},
   "outputs": [
    {
     "data": {
      "text/plain": [
       "<sqlalchemy.engine.cursor.LegacyCursorResult at 0x7fba96964310>"
      ]
     },
     "execution_count": 9,
     "metadata": {},
     "output_type": "execute_result"
    }
   ],
   "source": [
    "engine.execute(\"SELECT * from uswine\")"
   ]
  },
  {
   "cell_type": "code",
   "execution_count": 10,
   "metadata": {},
   "outputs": [
    {
     "name": "stdout",
     "output_type": "stream",
     "text": [
      "['index', 'description', 'points', 'price', 'province', 'region', 'title', 'variety', 'winery', 'index', 'region', 'Latitude', 'Longitude']\n"
     ]
    }
   ],
   "source": [
    "col_names_list = []\n",
    "\n",
    "#i = 0\n",
    "for i in range(len(inspector.get_columns('uswine'))):\n",
    "    col_names_list.append(inspector.get_columns('uswine')[i]['name'])\n",
    "    \n",
    "for i in range(len(inspector.get_columns('wineregions'))):\n",
    "    col_names_list.append(inspector.get_columns('wineregions')[i]['name'])\n",
    "    \n",
    "print(col_names_list)"
   ]
  },
  {
   "cell_type": "code",
   "execution_count": 11,
   "metadata": {},
   "outputs": [],
   "source": [
    "US_wine_data_df = pd.DataFrame(columns = col_names_list)"
   ]
  },
  {
   "cell_type": "code",
   "execution_count": 12,
   "metadata": {},
   "outputs": [],
   "source": [
    "# Inner join for wines and regions\n",
    "import sys\n",
    "join_db = engine.execute(\"SELECT * from uswine inner join wineregions on uswine.region = wineregions.region\")\n",
    "for record in join_db:\n",
    "    record_series = pd.Series(list(record), index = US_wine_data_df.columns)\n",
    "    \n",
    "    US_wine_data_df = US_wine_data_df.append(record_series, ignore_index=True)\n",
    "    #print(list(record))"
   ]
  },
  {
   "cell_type": "code",
   "execution_count": 18,
   "metadata": {},
   "outputs": [
    {
     "data": {
      "text/html": [
       "<div>\n",
       "<style scoped>\n",
       "    .dataframe tbody tr th:only-of-type {\n",
       "        vertical-align: middle;\n",
       "    }\n",
       "\n",
       "    .dataframe tbody tr th {\n",
       "        vertical-align: top;\n",
       "    }\n",
       "\n",
       "    .dataframe thead th {\n",
       "        text-align: right;\n",
       "    }\n",
       "</style>\n",
       "<table border=\"1\" class=\"dataframe\">\n",
       "  <thead>\n",
       "    <tr style=\"text-align: right;\">\n",
       "      <th></th>\n",
       "      <th>description</th>\n",
       "      <th>points</th>\n",
       "      <th>price</th>\n",
       "      <th>province</th>\n",
       "      <th>region</th>\n",
       "      <th>title</th>\n",
       "      <th>variety</th>\n",
       "      <th>winery</th>\n",
       "      <th>region</th>\n",
       "      <th>Latitude</th>\n",
       "      <th>Longitude</th>\n",
       "    </tr>\n",
       "  </thead>\n",
       "  <tbody>\n",
       "    <tr>\n",
       "      <th>0</th>\n",
       "      <td>Tart and snappy, the flavors of lime flesh and...</td>\n",
       "      <td>87</td>\n",
       "      <td>14.0</td>\n",
       "      <td>Oregon</td>\n",
       "      <td>Willamette Valley</td>\n",
       "      <td>Rainstorm 2013 Pinot Gris</td>\n",
       "      <td>Pinot Gris</td>\n",
       "      <td>Rainstorm</td>\n",
       "      <td>Willamette Valley</td>\n",
       "      <td>44.942554</td>\n",
       "      <td>-122.933762</td>\n",
       "    </tr>\n",
       "    <tr>\n",
       "      <th>1</th>\n",
       "      <td>Much like the regular bottling from 2012, this...</td>\n",
       "      <td>87</td>\n",
       "      <td>65.0</td>\n",
       "      <td>Oregon</td>\n",
       "      <td>Willamette Valley</td>\n",
       "      <td>Sweet Cheeks 2012 Vintner's Reserve Wild Child...</td>\n",
       "      <td>Pinot Noir</td>\n",
       "      <td>Sweet Cheeks</td>\n",
       "      <td>Willamette Valley</td>\n",
       "      <td>44.942554</td>\n",
       "      <td>-122.933762</td>\n",
       "    </tr>\n",
       "    <tr>\n",
       "      <th>2</th>\n",
       "      <td>Soft, supple plum envelopes an oaky structure ...</td>\n",
       "      <td>87</td>\n",
       "      <td>19.0</td>\n",
       "      <td>California</td>\n",
       "      <td>Napa Valley</td>\n",
       "      <td>Kirkland Signature 2011 Mountain Cuvée Caberne...</td>\n",
       "      <td>Cabernet Sauvignon</td>\n",
       "      <td>Kirkland Signature</td>\n",
       "      <td>Napa Valley</td>\n",
       "      <td>38.502469</td>\n",
       "      <td>-122.265389</td>\n",
       "    </tr>\n",
       "    <tr>\n",
       "      <th>3</th>\n",
       "      <td>Slightly reduced, this wine offers a chalky, t...</td>\n",
       "      <td>87</td>\n",
       "      <td>34.0</td>\n",
       "      <td>California</td>\n",
       "      <td>Alexander Valley</td>\n",
       "      <td>Louis M. Martini 2012 Cabernet Sauvignon</td>\n",
       "      <td>Cabernet Sauvignon</td>\n",
       "      <td>Louis M. Martini</td>\n",
       "      <td>Alexander Valley</td>\n",
       "      <td>38.612965</td>\n",
       "      <td>-122.769435</td>\n",
       "    </tr>\n",
       "    <tr>\n",
       "      <th>4</th>\n",
       "      <td>Building on 150 years and six generations of w...</td>\n",
       "      <td>87</td>\n",
       "      <td>12.0</td>\n",
       "      <td>California</td>\n",
       "      <td>Central Coast</td>\n",
       "      <td>Mirassou 2012 Chardonnay</td>\n",
       "      <td>Chardonnay</td>\n",
       "      <td>Mirassou</td>\n",
       "      <td>Central Coast</td>\n",
       "      <td>29.703827</td>\n",
       "      <td>-95.571320</td>\n",
       "    </tr>\n",
       "  </tbody>\n",
       "</table>\n",
       "</div>"
      ],
      "text/plain": [
       "                                         description points  price  \\\n",
       "0  Tart and snappy, the flavors of lime flesh and...     87   14.0   \n",
       "1  Much like the regular bottling from 2012, this...     87   65.0   \n",
       "2  Soft, supple plum envelopes an oaky structure ...     87   19.0   \n",
       "3  Slightly reduced, this wine offers a chalky, t...     87   34.0   \n",
       "4  Building on 150 years and six generations of w...     87   12.0   \n",
       "\n",
       "     province             region  \\\n",
       "0      Oregon  Willamette Valley   \n",
       "1      Oregon  Willamette Valley   \n",
       "2  California        Napa Valley   \n",
       "3  California   Alexander Valley   \n",
       "4  California      Central Coast   \n",
       "\n",
       "                                               title             variety  \\\n",
       "0                         Rainstorm 2013 Pinot Gris           Pinot Gris   \n",
       "1  Sweet Cheeks 2012 Vintner's Reserve Wild Child...          Pinot Noir   \n",
       "2  Kirkland Signature 2011 Mountain Cuvée Caberne...  Cabernet Sauvignon   \n",
       "3          Louis M. Martini 2012 Cabernet Sauvignon   Cabernet Sauvignon   \n",
       "4                          Mirassou 2012 Chardonnay           Chardonnay   \n",
       "\n",
       "               winery             region   Latitude   Longitude  \n",
       "0           Rainstorm  Willamette Valley  44.942554 -122.933762  \n",
       "1        Sweet Cheeks  Willamette Valley  44.942554 -122.933762  \n",
       "2  Kirkland Signature        Napa Valley  38.502469 -122.265389  \n",
       "3    Louis M. Martini   Alexander Valley  38.612965 -122.769435  \n",
       "4            Mirassou      Central Coast  29.703827  -95.571320  "
      ]
     },
     "execution_count": 18,
     "metadata": {},
     "output_type": "execute_result"
    }
   ],
   "source": [
    "US_wine_data_df.head()"
   ]
  },
  {
   "cell_type": "code",
   "execution_count": 19,
   "metadata": {},
   "outputs": [
    {
     "data": {
      "text/plain": [
       "Index(['description', 'points', 'price', 'province', 'region', 'title',\n",
       "       'variety', 'winery', 'region', 'Latitude', 'Longitude'],\n",
       "      dtype='object')"
      ]
     },
     "execution_count": 19,
     "metadata": {},
     "output_type": "execute_result"
    }
   ],
   "source": [
    "US_wine_data_df.columns"
   ]
  },
  {
   "cell_type": "code",
   "execution_count": 21,
   "metadata": {},
   "outputs": [
    {
     "ename": "SyntaxError",
     "evalue": "positional argument follows keyword argument (<ipython-input-21-1fcb1ce7909e>, line 1)",
     "output_type": "error",
     "traceback": [
      "\u001b[0;36m  File \u001b[0;32m\"<ipython-input-21-1fcb1ce7909e>\"\u001b[0;36m, line \u001b[0;32m1\u001b[0m\n\u001b[0;31m    US_wine_data_drop_df = US_wine_data_df.drop(columns = 'index', 'region', inplace=True)\u001b[0m\n\u001b[0m                                                                  ^\u001b[0m\n\u001b[0;31mSyntaxError\u001b[0m\u001b[0;31m:\u001b[0m positional argument follows keyword argument\n"
     ]
    }
   ],
   "source": [
    "US_wine_data_drop_df = US_wine_data_df.drop(columns = 'index', 'region', inplace=True)"
   ]
  },
  {
   "cell_type": "code",
   "execution_count": 16,
   "metadata": {},
   "outputs": [
    {
     "data": {
      "text/html": [
       "<div>\n",
       "<style scoped>\n",
       "    .dataframe tbody tr th:only-of-type {\n",
       "        vertical-align: middle;\n",
       "    }\n",
       "\n",
       "    .dataframe tbody tr th {\n",
       "        vertical-align: top;\n",
       "    }\n",
       "\n",
       "    .dataframe thead th {\n",
       "        text-align: right;\n",
       "    }\n",
       "</style>\n",
       "<table border=\"1\" class=\"dataframe\">\n",
       "  <thead>\n",
       "    <tr style=\"text-align: right;\">\n",
       "      <th></th>\n",
       "      <th>description</th>\n",
       "      <th>points</th>\n",
       "      <th>price</th>\n",
       "      <th>province</th>\n",
       "      <th>region</th>\n",
       "      <th>title</th>\n",
       "      <th>variety</th>\n",
       "      <th>winery</th>\n",
       "      <th>region</th>\n",
       "      <th>Latitude</th>\n",
       "      <th>Longitude</th>\n",
       "    </tr>\n",
       "  </thead>\n",
       "  <tbody>\n",
       "    <tr>\n",
       "      <th>0</th>\n",
       "      <td>Tart and snappy, the flavors of lime flesh and...</td>\n",
       "      <td>87</td>\n",
       "      <td>14.0</td>\n",
       "      <td>Oregon</td>\n",
       "      <td>Willamette Valley</td>\n",
       "      <td>Rainstorm 2013 Pinot Gris</td>\n",
       "      <td>Pinot Gris</td>\n",
       "      <td>Rainstorm</td>\n",
       "      <td>Willamette Valley</td>\n",
       "      <td>44.942554</td>\n",
       "      <td>-122.933762</td>\n",
       "    </tr>\n",
       "    <tr>\n",
       "      <th>1</th>\n",
       "      <td>Much like the regular bottling from 2012, this...</td>\n",
       "      <td>87</td>\n",
       "      <td>65.0</td>\n",
       "      <td>Oregon</td>\n",
       "      <td>Willamette Valley</td>\n",
       "      <td>Sweet Cheeks 2012 Vintner's Reserve Wild Child...</td>\n",
       "      <td>Pinot Noir</td>\n",
       "      <td>Sweet Cheeks</td>\n",
       "      <td>Willamette Valley</td>\n",
       "      <td>44.942554</td>\n",
       "      <td>-122.933762</td>\n",
       "    </tr>\n",
       "    <tr>\n",
       "      <th>2</th>\n",
       "      <td>Soft, supple plum envelopes an oaky structure ...</td>\n",
       "      <td>87</td>\n",
       "      <td>19.0</td>\n",
       "      <td>California</td>\n",
       "      <td>Napa Valley</td>\n",
       "      <td>Kirkland Signature 2011 Mountain Cuvée Caberne...</td>\n",
       "      <td>Cabernet Sauvignon</td>\n",
       "      <td>Kirkland Signature</td>\n",
       "      <td>Napa Valley</td>\n",
       "      <td>38.502469</td>\n",
       "      <td>-122.265389</td>\n",
       "    </tr>\n",
       "    <tr>\n",
       "      <th>3</th>\n",
       "      <td>Slightly reduced, this wine offers a chalky, t...</td>\n",
       "      <td>87</td>\n",
       "      <td>34.0</td>\n",
       "      <td>California</td>\n",
       "      <td>Alexander Valley</td>\n",
       "      <td>Louis M. Martini 2012 Cabernet Sauvignon</td>\n",
       "      <td>Cabernet Sauvignon</td>\n",
       "      <td>Louis M. Martini</td>\n",
       "      <td>Alexander Valley</td>\n",
       "      <td>38.612965</td>\n",
       "      <td>-122.769435</td>\n",
       "    </tr>\n",
       "    <tr>\n",
       "      <th>4</th>\n",
       "      <td>Building on 150 years and six generations of w...</td>\n",
       "      <td>87</td>\n",
       "      <td>12.0</td>\n",
       "      <td>California</td>\n",
       "      <td>Central Coast</td>\n",
       "      <td>Mirassou 2012 Chardonnay</td>\n",
       "      <td>Chardonnay</td>\n",
       "      <td>Mirassou</td>\n",
       "      <td>Central Coast</td>\n",
       "      <td>29.703827</td>\n",
       "      <td>-95.571320</td>\n",
       "    </tr>\n",
       "  </tbody>\n",
       "</table>\n",
       "</div>"
      ],
      "text/plain": [
       "                                         description points  price  \\\n",
       "0  Tart and snappy, the flavors of lime flesh and...     87   14.0   \n",
       "1  Much like the regular bottling from 2012, this...     87   65.0   \n",
       "2  Soft, supple plum envelopes an oaky structure ...     87   19.0   \n",
       "3  Slightly reduced, this wine offers a chalky, t...     87   34.0   \n",
       "4  Building on 150 years and six generations of w...     87   12.0   \n",
       "\n",
       "     province             region  \\\n",
       "0      Oregon  Willamette Valley   \n",
       "1      Oregon  Willamette Valley   \n",
       "2  California        Napa Valley   \n",
       "3  California   Alexander Valley   \n",
       "4  California      Central Coast   \n",
       "\n",
       "                                               title             variety  \\\n",
       "0                         Rainstorm 2013 Pinot Gris           Pinot Gris   \n",
       "1  Sweet Cheeks 2012 Vintner's Reserve Wild Child...          Pinot Noir   \n",
       "2  Kirkland Signature 2011 Mountain Cuvée Caberne...  Cabernet Sauvignon   \n",
       "3          Louis M. Martini 2012 Cabernet Sauvignon   Cabernet Sauvignon   \n",
       "4                          Mirassou 2012 Chardonnay           Chardonnay   \n",
       "\n",
       "               winery             region   Latitude   Longitude  \n",
       "0           Rainstorm  Willamette Valley  44.942554 -122.933762  \n",
       "1        Sweet Cheeks  Willamette Valley  44.942554 -122.933762  \n",
       "2  Kirkland Signature        Napa Valley  38.502469 -122.265389  \n",
       "3    Louis M. Martini   Alexander Valley  38.612965 -122.769435  \n",
       "4            Mirassou      Central Coast  29.703827  -95.571320  "
      ]
     },
     "execution_count": 16,
     "metadata": {},
     "output_type": "execute_result"
    }
   ],
   "source": [
    "US_wine_data_df.head()"
   ]
  },
  {
   "cell_type": "code",
   "execution_count": 22,
   "metadata": {},
   "outputs": [
    {
     "ename": "TypeError",
     "evalue": "execute_values() got an unexpected keyword argument 'fetch'",
     "output_type": "error",
     "traceback": [
      "\u001b[0;31m---------------------------------------------------------------------------\u001b[0m",
      "\u001b[0;31mTypeError\u001b[0m                                 Traceback (most recent call last)",
      "\u001b[0;32m<ipython-input-22-16e0ce830e05>\u001b[0m in \u001b[0;36m<module>\u001b[0;34m\u001b[0m\n\u001b[1;32m      1\u001b[0m \u001b[0;31m# joined data set with lat long and wine\u001b[0m\u001b[0;34m\u001b[0m\u001b[0;34m\u001b[0m\u001b[0;34m\u001b[0m\u001b[0m\n\u001b[0;32m----> 2\u001b[0;31m \u001b[0mUS_wine_data_df\u001b[0m\u001b[0;34m.\u001b[0m\u001b[0mto_sql\u001b[0m\u001b[0;34m(\u001b[0m\u001b[0mname\u001b[0m\u001b[0;34m=\u001b[0m\u001b[0;34m'uswine_db'\u001b[0m\u001b[0;34m,\u001b[0m \u001b[0mcon\u001b[0m\u001b[0;34m=\u001b[0m\u001b[0mengine\u001b[0m\u001b[0;34m)\u001b[0m\u001b[0;34m\u001b[0m\u001b[0;34m\u001b[0m\u001b[0m\n\u001b[0m",
      "\u001b[0;32m~/opt/anaconda3/envs/mlenv/lib/python3.7/site-packages/pandas/core/generic.py\u001b[0m in \u001b[0;36mto_sql\u001b[0;34m(self, name, con, schema, if_exists, index, index_label, chunksize, dtype, method)\u001b[0m\n\u001b[1;32m   2787\u001b[0m             \u001b[0mchunksize\u001b[0m\u001b[0;34m=\u001b[0m\u001b[0mchunksize\u001b[0m\u001b[0;34m,\u001b[0m\u001b[0;34m\u001b[0m\u001b[0;34m\u001b[0m\u001b[0m\n\u001b[1;32m   2788\u001b[0m             \u001b[0mdtype\u001b[0m\u001b[0;34m=\u001b[0m\u001b[0mdtype\u001b[0m\u001b[0;34m,\u001b[0m\u001b[0;34m\u001b[0m\u001b[0;34m\u001b[0m\u001b[0m\n\u001b[0;32m-> 2789\u001b[0;31m             \u001b[0mmethod\u001b[0m\u001b[0;34m=\u001b[0m\u001b[0mmethod\u001b[0m\u001b[0;34m,\u001b[0m\u001b[0;34m\u001b[0m\u001b[0;34m\u001b[0m\u001b[0m\n\u001b[0m\u001b[1;32m   2790\u001b[0m         )\n\u001b[1;32m   2791\u001b[0m \u001b[0;34m\u001b[0m\u001b[0m\n",
      "\u001b[0;32m~/opt/anaconda3/envs/mlenv/lib/python3.7/site-packages/pandas/io/sql.py\u001b[0m in \u001b[0;36mto_sql\u001b[0;34m(frame, name, con, schema, if_exists, index, index_label, chunksize, dtype, method)\u001b[0m\n\u001b[1;32m    608\u001b[0m         \u001b[0mchunksize\u001b[0m\u001b[0;34m=\u001b[0m\u001b[0mchunksize\u001b[0m\u001b[0;34m,\u001b[0m\u001b[0;34m\u001b[0m\u001b[0;34m\u001b[0m\u001b[0m\n\u001b[1;32m    609\u001b[0m         \u001b[0mdtype\u001b[0m\u001b[0;34m=\u001b[0m\u001b[0mdtype\u001b[0m\u001b[0;34m,\u001b[0m\u001b[0;34m\u001b[0m\u001b[0;34m\u001b[0m\u001b[0m\n\u001b[0;32m--> 610\u001b[0;31m         \u001b[0mmethod\u001b[0m\u001b[0;34m=\u001b[0m\u001b[0mmethod\u001b[0m\u001b[0;34m,\u001b[0m\u001b[0;34m\u001b[0m\u001b[0;34m\u001b[0m\u001b[0m\n\u001b[0m\u001b[1;32m    611\u001b[0m     )\n\u001b[1;32m    612\u001b[0m \u001b[0;34m\u001b[0m\u001b[0m\n",
      "\u001b[0;32m~/opt/anaconda3/envs/mlenv/lib/python3.7/site-packages/pandas/io/sql.py\u001b[0m in \u001b[0;36mto_sql\u001b[0;34m(self, frame, name, if_exists, index, index_label, schema, chunksize, dtype, method)\u001b[0m\n\u001b[1;32m   1409\u001b[0m \u001b[0;34m\u001b[0m\u001b[0m\n\u001b[1;32m   1410\u001b[0m         \u001b[0;32mtry\u001b[0m\u001b[0;34m:\u001b[0m\u001b[0;34m\u001b[0m\u001b[0;34m\u001b[0m\u001b[0m\n\u001b[0;32m-> 1411\u001b[0;31m             \u001b[0mtable\u001b[0m\u001b[0;34m.\u001b[0m\u001b[0minsert\u001b[0m\u001b[0;34m(\u001b[0m\u001b[0mchunksize\u001b[0m\u001b[0;34m,\u001b[0m \u001b[0mmethod\u001b[0m\u001b[0;34m=\u001b[0m\u001b[0mmethod\u001b[0m\u001b[0;34m)\u001b[0m\u001b[0;34m\u001b[0m\u001b[0;34m\u001b[0m\u001b[0m\n\u001b[0m\u001b[1;32m   1412\u001b[0m         \u001b[0;32mexcept\u001b[0m \u001b[0mexc\u001b[0m\u001b[0;34m.\u001b[0m\u001b[0mSQLAlchemyError\u001b[0m \u001b[0;32mas\u001b[0m \u001b[0merr\u001b[0m\u001b[0;34m:\u001b[0m\u001b[0;34m\u001b[0m\u001b[0;34m\u001b[0m\u001b[0m\n\u001b[1;32m   1413\u001b[0m             \u001b[0;31m# GH34431\u001b[0m\u001b[0;34m\u001b[0m\u001b[0;34m\u001b[0m\u001b[0;34m\u001b[0m\u001b[0m\n",
      "\u001b[0;32m~/opt/anaconda3/envs/mlenv/lib/python3.7/site-packages/pandas/io/sql.py\u001b[0m in \u001b[0;36minsert\u001b[0;34m(self, chunksize, method)\u001b[0m\n\u001b[1;32m    843\u001b[0m \u001b[0;34m\u001b[0m\u001b[0m\n\u001b[1;32m    844\u001b[0m                 \u001b[0mchunk_iter\u001b[0m \u001b[0;34m=\u001b[0m \u001b[0mzip\u001b[0m\u001b[0;34m(\u001b[0m\u001b[0;34m*\u001b[0m\u001b[0;34m[\u001b[0m\u001b[0marr\u001b[0m\u001b[0;34m[\u001b[0m\u001b[0mstart_i\u001b[0m\u001b[0;34m:\u001b[0m\u001b[0mend_i\u001b[0m\u001b[0;34m]\u001b[0m \u001b[0;32mfor\u001b[0m \u001b[0marr\u001b[0m \u001b[0;32min\u001b[0m \u001b[0mdata_list\u001b[0m\u001b[0;34m]\u001b[0m\u001b[0;34m)\u001b[0m\u001b[0;34m\u001b[0m\u001b[0;34m\u001b[0m\u001b[0m\n\u001b[0;32m--> 845\u001b[0;31m                 \u001b[0mexec_insert\u001b[0m\u001b[0;34m(\u001b[0m\u001b[0mconn\u001b[0m\u001b[0;34m,\u001b[0m \u001b[0mkeys\u001b[0m\u001b[0;34m,\u001b[0m \u001b[0mchunk_iter\u001b[0m\u001b[0;34m)\u001b[0m\u001b[0;34m\u001b[0m\u001b[0;34m\u001b[0m\u001b[0m\n\u001b[0m\u001b[1;32m    846\u001b[0m \u001b[0;34m\u001b[0m\u001b[0m\n\u001b[1;32m    847\u001b[0m     def _query_iterator(\n",
      "\u001b[0;32m~/opt/anaconda3/envs/mlenv/lib/python3.7/site-packages/pandas/io/sql.py\u001b[0m in \u001b[0;36m_execute_insert\u001b[0;34m(self, conn, keys, data_iter)\u001b[0m\n\u001b[1;32m    760\u001b[0m         \"\"\"\n\u001b[1;32m    761\u001b[0m         \u001b[0mdata\u001b[0m \u001b[0;34m=\u001b[0m \u001b[0;34m[\u001b[0m\u001b[0mdict\u001b[0m\u001b[0;34m(\u001b[0m\u001b[0mzip\u001b[0m\u001b[0;34m(\u001b[0m\u001b[0mkeys\u001b[0m\u001b[0;34m,\u001b[0m \u001b[0mrow\u001b[0m\u001b[0;34m)\u001b[0m\u001b[0;34m)\u001b[0m \u001b[0;32mfor\u001b[0m \u001b[0mrow\u001b[0m \u001b[0;32min\u001b[0m \u001b[0mdata_iter\u001b[0m\u001b[0;34m]\u001b[0m\u001b[0;34m\u001b[0m\u001b[0;34m\u001b[0m\u001b[0m\n\u001b[0;32m--> 762\u001b[0;31m         \u001b[0mconn\u001b[0m\u001b[0;34m.\u001b[0m\u001b[0mexecute\u001b[0m\u001b[0;34m(\u001b[0m\u001b[0mself\u001b[0m\u001b[0;34m.\u001b[0m\u001b[0mtable\u001b[0m\u001b[0;34m.\u001b[0m\u001b[0minsert\u001b[0m\u001b[0;34m(\u001b[0m\u001b[0;34m)\u001b[0m\u001b[0;34m,\u001b[0m \u001b[0mdata\u001b[0m\u001b[0;34m)\u001b[0m\u001b[0;34m\u001b[0m\u001b[0;34m\u001b[0m\u001b[0m\n\u001b[0m\u001b[1;32m    763\u001b[0m \u001b[0;34m\u001b[0m\u001b[0m\n\u001b[1;32m    764\u001b[0m     \u001b[0;32mdef\u001b[0m \u001b[0m_execute_insert_multi\u001b[0m\u001b[0;34m(\u001b[0m\u001b[0mself\u001b[0m\u001b[0;34m,\u001b[0m \u001b[0mconn\u001b[0m\u001b[0;34m,\u001b[0m \u001b[0mkeys\u001b[0m\u001b[0;34m,\u001b[0m \u001b[0mdata_iter\u001b[0m\u001b[0;34m)\u001b[0m\u001b[0;34m:\u001b[0m\u001b[0;34m\u001b[0m\u001b[0;34m\u001b[0m\u001b[0m\n",
      "\u001b[0;32m~/opt/anaconda3/envs/mlenv/lib/python3.7/site-packages/sqlalchemy/engine/base.py\u001b[0m in \u001b[0;36mexecute\u001b[0;34m(self, statement, *multiparams, **params)\u001b[0m\n\u001b[1;32m   1198\u001b[0m             )\n\u001b[1;32m   1199\u001b[0m         \u001b[0;32melse\u001b[0m\u001b[0;34m:\u001b[0m\u001b[0;34m\u001b[0m\u001b[0;34m\u001b[0m\u001b[0m\n\u001b[0;32m-> 1200\u001b[0;31m             \u001b[0;32mreturn\u001b[0m \u001b[0mmeth\u001b[0m\u001b[0;34m(\u001b[0m\u001b[0mself\u001b[0m\u001b[0;34m,\u001b[0m \u001b[0mmultiparams\u001b[0m\u001b[0;34m,\u001b[0m \u001b[0mparams\u001b[0m\u001b[0;34m,\u001b[0m \u001b[0m_EMPTY_EXECUTION_OPTS\u001b[0m\u001b[0;34m)\u001b[0m\u001b[0;34m\u001b[0m\u001b[0;34m\u001b[0m\u001b[0m\n\u001b[0m\u001b[1;32m   1201\u001b[0m \u001b[0;34m\u001b[0m\u001b[0m\n\u001b[1;32m   1202\u001b[0m     \u001b[0;32mdef\u001b[0m \u001b[0m_execute_function\u001b[0m\u001b[0;34m(\u001b[0m\u001b[0mself\u001b[0m\u001b[0;34m,\u001b[0m \u001b[0mfunc\u001b[0m\u001b[0;34m,\u001b[0m \u001b[0mmultiparams\u001b[0m\u001b[0;34m,\u001b[0m \u001b[0mparams\u001b[0m\u001b[0;34m,\u001b[0m \u001b[0mexecution_options\u001b[0m\u001b[0;34m)\u001b[0m\u001b[0;34m:\u001b[0m\u001b[0;34m\u001b[0m\u001b[0;34m\u001b[0m\u001b[0m\n",
      "\u001b[0;32m~/opt/anaconda3/envs/mlenv/lib/python3.7/site-packages/sqlalchemy/sql/elements.py\u001b[0m in \u001b[0;36m_execute_on_connection\u001b[0;34m(self, connection, multiparams, params, execution_options, _force)\u001b[0m\n\u001b[1;32m    312\u001b[0m         \u001b[0;32mif\u001b[0m \u001b[0m_force\u001b[0m \u001b[0;32mor\u001b[0m \u001b[0mself\u001b[0m\u001b[0;34m.\u001b[0m\u001b[0msupports_execution\u001b[0m\u001b[0;34m:\u001b[0m\u001b[0;34m\u001b[0m\u001b[0;34m\u001b[0m\u001b[0m\n\u001b[1;32m    313\u001b[0m             return connection._execute_clauseelement(\n\u001b[0;32m--> 314\u001b[0;31m                 \u001b[0mself\u001b[0m\u001b[0;34m,\u001b[0m \u001b[0mmultiparams\u001b[0m\u001b[0;34m,\u001b[0m \u001b[0mparams\u001b[0m\u001b[0;34m,\u001b[0m \u001b[0mexecution_options\u001b[0m\u001b[0;34m\u001b[0m\u001b[0;34m\u001b[0m\u001b[0m\n\u001b[0m\u001b[1;32m    315\u001b[0m             )\n\u001b[1;32m    316\u001b[0m         \u001b[0;32melse\u001b[0m\u001b[0;34m:\u001b[0m\u001b[0;34m\u001b[0m\u001b[0;34m\u001b[0m\u001b[0m\n",
      "\u001b[0;32m~/opt/anaconda3/envs/mlenv/lib/python3.7/site-packages/sqlalchemy/engine/base.py\u001b[0m in \u001b[0;36m_execute_clauseelement\u001b[0;34m(self, elem, multiparams, params, execution_options)\u001b[0m\n\u001b[1;32m   1397\u001b[0m             \u001b[0melem\u001b[0m\u001b[0;34m,\u001b[0m\u001b[0;34m\u001b[0m\u001b[0;34m\u001b[0m\u001b[0m\n\u001b[1;32m   1398\u001b[0m             \u001b[0mextracted_params\u001b[0m\u001b[0;34m,\u001b[0m\u001b[0;34m\u001b[0m\u001b[0;34m\u001b[0m\u001b[0m\n\u001b[0;32m-> 1399\u001b[0;31m             \u001b[0mcache_hit\u001b[0m\u001b[0;34m=\u001b[0m\u001b[0mcache_hit\u001b[0m\u001b[0;34m,\u001b[0m\u001b[0;34m\u001b[0m\u001b[0;34m\u001b[0m\u001b[0m\n\u001b[0m\u001b[1;32m   1400\u001b[0m         )\n\u001b[1;32m   1401\u001b[0m         \u001b[0;32mif\u001b[0m \u001b[0mhas_events\u001b[0m\u001b[0;34m:\u001b[0m\u001b[0;34m\u001b[0m\u001b[0;34m\u001b[0m\u001b[0m\n",
      "\u001b[0;32m~/opt/anaconda3/envs/mlenv/lib/python3.7/site-packages/sqlalchemy/engine/base.py\u001b[0m in \u001b[0;36m_execute_context\u001b[0;34m(self, dialect, constructor, statement, parameters, execution_options, *args, **kw)\u001b[0m\n\u001b[1;32m   1747\u001b[0m         \u001b[0;32mexcept\u001b[0m \u001b[0mBaseException\u001b[0m \u001b[0;32mas\u001b[0m \u001b[0me\u001b[0m\u001b[0;34m:\u001b[0m\u001b[0;34m\u001b[0m\u001b[0;34m\u001b[0m\u001b[0m\n\u001b[1;32m   1748\u001b[0m             self._handle_dbapi_exception(\n\u001b[0;32m-> 1749\u001b[0;31m                 \u001b[0me\u001b[0m\u001b[0;34m,\u001b[0m \u001b[0mstatement\u001b[0m\u001b[0;34m,\u001b[0m \u001b[0mparameters\u001b[0m\u001b[0;34m,\u001b[0m \u001b[0mcursor\u001b[0m\u001b[0;34m,\u001b[0m \u001b[0mcontext\u001b[0m\u001b[0;34m\u001b[0m\u001b[0;34m\u001b[0m\u001b[0m\n\u001b[0m\u001b[1;32m   1750\u001b[0m             )\n\u001b[1;32m   1751\u001b[0m \u001b[0;34m\u001b[0m\u001b[0m\n",
      "\u001b[0;32m~/opt/anaconda3/envs/mlenv/lib/python3.7/site-packages/sqlalchemy/engine/base.py\u001b[0m in \u001b[0;36m_handle_dbapi_exception\u001b[0;34m(self, e, statement, parameters, cursor, context)\u001b[0m\n\u001b[1;32m   1931\u001b[0m                 )\n\u001b[1;32m   1932\u001b[0m             \u001b[0;32melse\u001b[0m\u001b[0;34m:\u001b[0m\u001b[0;34m\u001b[0m\u001b[0;34m\u001b[0m\u001b[0m\n\u001b[0;32m-> 1933\u001b[0;31m                 \u001b[0mutil\u001b[0m\u001b[0;34m.\u001b[0m\u001b[0mraise_\u001b[0m\u001b[0;34m(\u001b[0m\u001b[0mexc_info\u001b[0m\u001b[0;34m[\u001b[0m\u001b[0;36m1\u001b[0m\u001b[0;34m]\u001b[0m\u001b[0;34m,\u001b[0m \u001b[0mwith_traceback\u001b[0m\u001b[0;34m=\u001b[0m\u001b[0mexc_info\u001b[0m\u001b[0;34m[\u001b[0m\u001b[0;36m2\u001b[0m\u001b[0;34m]\u001b[0m\u001b[0;34m)\u001b[0m\u001b[0;34m\u001b[0m\u001b[0;34m\u001b[0m\u001b[0m\n\u001b[0m\u001b[1;32m   1934\u001b[0m \u001b[0;34m\u001b[0m\u001b[0m\n\u001b[1;32m   1935\u001b[0m         \u001b[0;32mfinally\u001b[0m\u001b[0;34m:\u001b[0m\u001b[0;34m\u001b[0m\u001b[0;34m\u001b[0m\u001b[0m\n",
      "\u001b[0;32m~/opt/anaconda3/envs/mlenv/lib/python3.7/site-packages/sqlalchemy/util/compat.py\u001b[0m in \u001b[0;36mraise_\u001b[0;34m(***failed resolving arguments***)\u001b[0m\n\u001b[1;32m    209\u001b[0m \u001b[0;34m\u001b[0m\u001b[0m\n\u001b[1;32m    210\u001b[0m         \u001b[0;32mtry\u001b[0m\u001b[0;34m:\u001b[0m\u001b[0;34m\u001b[0m\u001b[0;34m\u001b[0m\u001b[0m\n\u001b[0;32m--> 211\u001b[0;31m             \u001b[0;32mraise\u001b[0m \u001b[0mexception\u001b[0m\u001b[0;34m\u001b[0m\u001b[0;34m\u001b[0m\u001b[0m\n\u001b[0m\u001b[1;32m    212\u001b[0m         \u001b[0;32mfinally\u001b[0m\u001b[0;34m:\u001b[0m\u001b[0;34m\u001b[0m\u001b[0;34m\u001b[0m\u001b[0m\n\u001b[1;32m    213\u001b[0m             \u001b[0;31m# credit to\u001b[0m\u001b[0;34m\u001b[0m\u001b[0;34m\u001b[0m\u001b[0;34m\u001b[0m\u001b[0m\n",
      "\u001b[0;32m~/opt/anaconda3/envs/mlenv/lib/python3.7/site-packages/sqlalchemy/engine/base.py\u001b[0m in \u001b[0;36m_execute_context\u001b[0;34m(self, dialect, constructor, statement, parameters, execution_options, *args, **kw)\u001b[0m\n\u001b[1;32m   1684\u001b[0m                 \u001b[0;32mif\u001b[0m \u001b[0;32mnot\u001b[0m \u001b[0mevt_handled\u001b[0m\u001b[0;34m:\u001b[0m\u001b[0;34m\u001b[0m\u001b[0;34m\u001b[0m\u001b[0m\n\u001b[1;32m   1685\u001b[0m                     self.dialect.do_executemany(\n\u001b[0;32m-> 1686\u001b[0;31m                         \u001b[0mcursor\u001b[0m\u001b[0;34m,\u001b[0m \u001b[0mstatement\u001b[0m\u001b[0;34m,\u001b[0m \u001b[0mparameters\u001b[0m\u001b[0;34m,\u001b[0m \u001b[0mcontext\u001b[0m\u001b[0;34m\u001b[0m\u001b[0;34m\u001b[0m\u001b[0m\n\u001b[0m\u001b[1;32m   1687\u001b[0m                     )\n\u001b[1;32m   1688\u001b[0m             \u001b[0;32melif\u001b[0m \u001b[0;32mnot\u001b[0m \u001b[0mparameters\u001b[0m \u001b[0;32mand\u001b[0m \u001b[0mcontext\u001b[0m\u001b[0;34m.\u001b[0m\u001b[0mno_parameters\u001b[0m\u001b[0;34m:\u001b[0m\u001b[0;34m\u001b[0m\u001b[0;34m\u001b[0m\u001b[0m\n",
      "\u001b[0;32m~/opt/anaconda3/envs/mlenv/lib/python3.7/site-packages/sqlalchemy/dialects/postgresql/psycopg2.py\u001b[0m in \u001b[0;36mdo_executemany\u001b[0;34m(self, cursor, statement, parameters, context)\u001b[0m\n\u001b[1;32m    907\u001b[0m                 \u001b[0mtemplate\u001b[0m\u001b[0;34m=\u001b[0m\u001b[0mexecutemany_values\u001b[0m\u001b[0;34m,\u001b[0m\u001b[0;34m\u001b[0m\u001b[0;34m\u001b[0m\u001b[0m\n\u001b[1;32m    908\u001b[0m                 \u001b[0mfetch\u001b[0m\u001b[0;34m=\u001b[0m\u001b[0mbool\u001b[0m\u001b[0;34m(\u001b[0m\u001b[0mcontext\u001b[0m\u001b[0;34m.\u001b[0m\u001b[0mcompiled\u001b[0m\u001b[0;34m.\u001b[0m\u001b[0mreturning\u001b[0m\u001b[0;34m)\u001b[0m\u001b[0;34m,\u001b[0m\u001b[0;34m\u001b[0m\u001b[0;34m\u001b[0m\u001b[0m\n\u001b[0;32m--> 909\u001b[0;31m                 \u001b[0;34m**\u001b[0m\u001b[0mkwargs\u001b[0m\u001b[0;34m\u001b[0m\u001b[0;34m\u001b[0m\u001b[0m\n\u001b[0m\u001b[1;32m    910\u001b[0m             )\n\u001b[1;32m    911\u001b[0m \u001b[0;34m\u001b[0m\u001b[0m\n",
      "\u001b[0;31mTypeError\u001b[0m: execute_values() got an unexpected keyword argument 'fetch'"
     ]
    }
   ],
   "source": [
    "# joined data set with lat long and wine\n",
    "US_wine_data_df.to_sql(name='uswine_db', con=engine, method='multi')"
   ]
  },
  {
   "cell_type": "code",
   "execution_count": 23,
   "metadata": {},
   "outputs": [],
   "source": [
    "# # Cut this out\n",
    "#Export data to csv\n",
    "US_wine_data_df.to_csv(\"Data/US_Wine_Join.csv\", index=False)"
   ]
  },
  {
   "cell_type": "code",
   "execution_count": 19,
   "metadata": {},
   "outputs": [
    {
     "data": {
      "text/plain": [
       "(52668, 13)"
      ]
     },
     "execution_count": 19,
     "metadata": {},
     "output_type": "execute_result"
    }
   ],
   "source": [
    "# Make a copy of the dataframe\n",
    "US_wine_data_df_copy = US_wine_data_df\n",
    "US_wine_data_df_copy.shape"
   ]
  },
  {
   "cell_type": "markdown",
   "metadata": {},
   "source": [
    "## Pre process for machine learning"
   ]
  },
  {
   "cell_type": "code",
   "execution_count": 20,
   "metadata": {},
   "outputs": [
    {
     "data": {
      "text/plain": [
       "25.0     2773\n",
       "20.0     2657\n",
       "30.0     2502\n",
       "35.0     2160\n",
       "40.0     2083\n",
       "         ... \n",
       "230.0       1\n",
       "215.0       1\n",
       "168.0       1\n",
       "350.0       1\n",
       "335.0       1\n",
       "Name: price, Length: 160, dtype: int64"
      ]
     },
     "execution_count": 20,
     "metadata": {},
     "output_type": "execute_result"
    }
   ],
   "source": [
    "# Group wine price into bins.\n",
    "price_counts = US_wine_data_df.price.value_counts()\n",
    "price_counts"
   ]
  },
  {
   "cell_type": "code",
   "execution_count": 21,
   "metadata": {},
   "outputs": [
    {
     "data": {
      "text/plain": [
       "<AxesSubplot:ylabel='Density'>"
      ]
     },
     "execution_count": 21,
     "metadata": {},
     "output_type": "execute_result"
    },
    {
     "data": {
      "image/png": "[encoded data removed]",
      "text/plain": [
       "<Figure size 432x288 with 1 Axes>"
      ]
     },
     "metadata": {
      "needs_background": "light"
     },
     "output_type": "display_data"
    }
   ],
   "source": [
    "price_counts.plot.density()"
   ]
  },
  {
   "cell_type": "code",
   "execution_count": 22,
   "metadata": {},
   "outputs": [
    {
     "data": {
      "text/html": [
       "<div>\n",
       "<style scoped>\n",
       "    .dataframe tbody tr th:only-of-type {\n",
       "        vertical-align: middle;\n",
       "    }\n",
       "\n",
       "    .dataframe tbody tr th {\n",
       "        vertical-align: top;\n",
       "    }\n",
       "\n",
       "    .dataframe thead th {\n",
       "        text-align: right;\n",
       "    }\n",
       "</style>\n",
       "<table border=\"1\" class=\"dataframe\">\n",
       "  <thead>\n",
       "    <tr style=\"text-align: right;\">\n",
       "      <th></th>\n",
       "      <th>description</th>\n",
       "      <th>points</th>\n",
       "      <th>price</th>\n",
       "      <th>province</th>\n",
       "      <th>region_1</th>\n",
       "      <th>region_2</th>\n",
       "      <th>title</th>\n",
       "      <th>variety</th>\n",
       "      <th>winery</th>\n",
       "      <th>region</th>\n",
       "      <th>Place_id</th>\n",
       "      <th>Latitude</th>\n",
       "      <th>Longitude</th>\n",
       "      <th>price_bins</th>\n",
       "    </tr>\n",
       "  </thead>\n",
       "  <tbody>\n",
       "    <tr>\n",
       "      <th>52663</th>\n",
       "      <td>Hailing from one of the more popular vineyards...</td>\n",
       "      <td>90</td>\n",
       "      <td>20.0</td>\n",
       "      <td>California</td>\n",
       "      <td>Santa Ynez Valley</td>\n",
       "      <td>Central Coast</td>\n",
       "      <td>Birichino 2013 Jurassic Park Vineyard Old Vine...</td>\n",
       "      <td>Chenin Blanc</td>\n",
       "      <td>Birichino</td>\n",
       "      <td>Santa Ynez Valley</td>\n",
       "      <td>ChIJH3v79pZT6YAR-MXTvZmd134</td>\n",
       "      <td>34.584154</td>\n",
       "      <td>-120.097369</td>\n",
       "      <td>$15-30</td>\n",
       "    </tr>\n",
       "    <tr>\n",
       "      <th>52664</th>\n",
       "      <td>There's no bones about the use of oak in this ...</td>\n",
       "      <td>90</td>\n",
       "      <td>35.0</td>\n",
       "      <td>California</td>\n",
       "      <td>Napa Valley</td>\n",
       "      <td>Napa</td>\n",
       "      <td>Flora Springs 2013 Barrel Fermented Chardonnay...</td>\n",
       "      <td>Chardonnay</td>\n",
       "      <td>Flora Springs</td>\n",
       "      <td>Napa Valley</td>\n",
       "      <td>ChIJMU8qI_lPhIARfMUQoxvSFP4</td>\n",
       "      <td>38.502469</td>\n",
       "      <td>-122.265389</td>\n",
       "      <td>$30-60</td>\n",
       "    </tr>\n",
       "    <tr>\n",
       "      <th>52665</th>\n",
       "      <td>This opens with herbaceous dollops of thyme an...</td>\n",
       "      <td>90</td>\n",
       "      <td>35.0</td>\n",
       "      <td>California</td>\n",
       "      <td>Napa Valley</td>\n",
       "      <td>Napa</td>\n",
       "      <td>Hendry 2012 Blocks 7 &amp; 22 Zinfandel (Napa Valley)</td>\n",
       "      <td>Zinfandel</td>\n",
       "      <td>Hendry</td>\n",
       "      <td>Napa Valley</td>\n",
       "      <td>ChIJMU8qI_lPhIARfMUQoxvSFP4</td>\n",
       "      <td>38.502469</td>\n",
       "      <td>-122.265389</td>\n",
       "      <td>$30-60</td>\n",
       "    </tr>\n",
       "    <tr>\n",
       "      <th>52666</th>\n",
       "      <td>This Zinfandel from the eastern section of Nap...</td>\n",
       "      <td>90</td>\n",
       "      <td>22.0</td>\n",
       "      <td>California</td>\n",
       "      <td>Chiles Valley</td>\n",
       "      <td>Napa</td>\n",
       "      <td>Houdini 2011 Zinfandel (Chiles Valley)</td>\n",
       "      <td>Zinfandel</td>\n",
       "      <td>Houdini</td>\n",
       "      <td>Chiles Valley</td>\n",
       "      <td>ChIJA5vomRzLRIYRd4u7z-L03go</td>\n",
       "      <td>30.345737</td>\n",
       "      <td>-97.773145</td>\n",
       "      <td>$15-30</td>\n",
       "    </tr>\n",
       "    <tr>\n",
       "      <th>52667</th>\n",
       "      <td>Citation is given as much as a decade of bottl...</td>\n",
       "      <td>90</td>\n",
       "      <td>75.0</td>\n",
       "      <td>Oregon</td>\n",
       "      <td>Oregon</td>\n",
       "      <td>Oregon Other</td>\n",
       "      <td>Citation 2004 Pinot Noir (Oregon)</td>\n",
       "      <td>Pinot Noir</td>\n",
       "      <td>Citation</td>\n",
       "      <td>Oregon</td>\n",
       "      <td>ChIJVWqfm3xuk1QRdrgLettlTH0</td>\n",
       "      <td>43.804133</td>\n",
       "      <td>-120.554201</td>\n",
       "      <td>$60-100</td>\n",
       "    </tr>\n",
       "  </tbody>\n",
       "</table>\n",
       "</div>"
      ],
      "text/plain": [
       "                                             description points  price  \\\n",
       "52663  Hailing from one of the more popular vineyards...     90   20.0   \n",
       "52664  There's no bones about the use of oak in this ...     90   35.0   \n",
       "52665  This opens with herbaceous dollops of thyme an...     90   35.0   \n",
       "52666  This Zinfandel from the eastern section of Nap...     90   22.0   \n",
       "52667  Citation is given as much as a decade of bottl...     90   75.0   \n",
       "\n",
       "         province           region_1       region_2  \\\n",
       "52663  California  Santa Ynez Valley  Central Coast   \n",
       "52664  California        Napa Valley           Napa   \n",
       "52665  California        Napa Valley           Napa   \n",
       "52666  California      Chiles Valley           Napa   \n",
       "52667      Oregon             Oregon   Oregon Other   \n",
       "\n",
       "                                                   title       variety  \\\n",
       "52663  Birichino 2013 Jurassic Park Vineyard Old Vine...  Chenin Blanc   \n",
       "52664  Flora Springs 2013 Barrel Fermented Chardonnay...    Chardonnay   \n",
       "52665  Hendry 2012 Blocks 7 & 22 Zinfandel (Napa Valley)     Zinfandel   \n",
       "52666             Houdini 2011 Zinfandel (Chiles Valley)     Zinfandel   \n",
       "52667                  Citation 2004 Pinot Noir (Oregon)    Pinot Noir   \n",
       "\n",
       "              winery             region                     Place_id  \\\n",
       "52663      Birichino  Santa Ynez Valley  ChIJH3v79pZT6YAR-MXTvZmd134   \n",
       "52664  Flora Springs        Napa Valley  ChIJMU8qI_lPhIARfMUQoxvSFP4   \n",
       "52665         Hendry        Napa Valley  ChIJMU8qI_lPhIARfMUQoxvSFP4   \n",
       "52666        Houdini      Chiles Valley  ChIJA5vomRzLRIYRd4u7z-L03go   \n",
       "52667       Citation             Oregon  ChIJVWqfm3xuk1QRdrgLettlTH0   \n",
       "\n",
       "        Latitude   Longitude price_bins  \n",
       "52663  34.584154 -120.097369     $15-30  \n",
       "52664  38.502469 -122.265389     $30-60  \n",
       "52665  38.502469 -122.265389     $30-60  \n",
       "52666  30.345737  -97.773145     $15-30  \n",
       "52667  43.804133 -120.554201    $60-100  "
      ]
     },
     "execution_count": 22,
     "metadata": {},
     "output_type": "execute_result"
    }
   ],
   "source": [
    "# Create price bins\n",
    "price_bins = [0, 15, 30, 60, 100, 500, 5000]\n",
    "US_wine_data_df.groupby(pd.cut(US_wine_data_df[\"price\"], price_bins)).count()\n",
    "\n",
    "price_bins_names = [\"<$15\",\"$15-30\",\"$30-60\",\"$60-100\", \"100-500\",\"too much\"]\n",
    "\n",
    "# Make a new column in dataframe for price bins.\n",
    "US_wine_data_df[\"price_bins\"] = pd.cut(US_wine_data_df[\"price\"], price_bins, labels=price_bins_names)\n",
    "\n",
    "# Check dataframe\n",
    "US_wine_data_df.tail()"
   ]
  },
  {
   "cell_type": "code",
   "execution_count": 23,
   "metadata": {},
   "outputs": [
    {
     "name": "stdout",
     "output_type": "stream",
     "text": [
      "(52668, 10)\n"
     ]
    },
    {
     "data": {
      "text/html": [
       "<div>\n",
       "<style scoped>\n",
       "    .dataframe tbody tr th:only-of-type {\n",
       "        vertical-align: middle;\n",
       "    }\n",
       "\n",
       "    .dataframe tbody tr th {\n",
       "        vertical-align: top;\n",
       "    }\n",
       "\n",
       "    .dataframe thead th {\n",
       "        text-align: right;\n",
       "    }\n",
       "</style>\n",
       "<table border=\"1\" class=\"dataframe\">\n",
       "  <thead>\n",
       "    <tr style=\"text-align: right;\">\n",
       "      <th></th>\n",
       "      <th>description</th>\n",
       "      <th>price</th>\n",
       "      <th>province</th>\n",
       "      <th>region_2</th>\n",
       "      <th>title</th>\n",
       "      <th>winery</th>\n",
       "      <th>region</th>\n",
       "      <th>Place_id</th>\n",
       "      <th>Latitude</th>\n",
       "      <th>Longitude</th>\n",
       "    </tr>\n",
       "  </thead>\n",
       "  <tbody>\n",
       "    <tr>\n",
       "      <th>0</th>\n",
       "      <td>Tart and snappy, the flavors of lime flesh and...</td>\n",
       "      <td>14.0</td>\n",
       "      <td>Oregon</td>\n",
       "      <td>Willamette Valley</td>\n",
       "      <td>Rainstorm 2013 Pinot Gris (Willamette Valley)</td>\n",
       "      <td>Rainstorm</td>\n",
       "      <td>Willamette Valley</td>\n",
       "      <td>ChIJbezwJP6hlVQRBDL4exvIWSo</td>\n",
       "      <td>44.942554</td>\n",
       "      <td>-122.933762</td>\n",
       "    </tr>\n",
       "    <tr>\n",
       "      <th>1</th>\n",
       "      <td>Pineapple rind, lemon pith and orange blossom ...</td>\n",
       "      <td>13.0</td>\n",
       "      <td>Michigan</td>\n",
       "      <td>Lake Michigan Shore</td>\n",
       "      <td>St. Julian 2013 Reserve Late Harvest Riesling ...</td>\n",
       "      <td>St. Julian</td>\n",
       "      <td>Lake Michigan Shore</td>\n",
       "      <td>ChIJbWjISvi2EIgR-XXUbfv_U1k</td>\n",
       "      <td>42.220870</td>\n",
       "      <td>-86.369469</td>\n",
       "    </tr>\n",
       "    <tr>\n",
       "      <th>2</th>\n",
       "      <td>Much like the regular bottling from 2012, this...</td>\n",
       "      <td>65.0</td>\n",
       "      <td>Oregon</td>\n",
       "      <td>Willamette Valley</td>\n",
       "      <td>Sweet Cheeks 2012 Vintner's Reserve Wild Child...</td>\n",
       "      <td>Sweet Cheeks</td>\n",
       "      <td>Willamette Valley</td>\n",
       "      <td>ChIJbezwJP6hlVQRBDL4exvIWSo</td>\n",
       "      <td>44.942554</td>\n",
       "      <td>-122.933762</td>\n",
       "    </tr>\n",
       "    <tr>\n",
       "      <th>3</th>\n",
       "      <td>Soft, supple plum envelopes an oaky structure ...</td>\n",
       "      <td>19.0</td>\n",
       "      <td>California</td>\n",
       "      <td>Napa</td>\n",
       "      <td>Kirkland Signature 2011 Mountain Cuvée Caberne...</td>\n",
       "      <td>Kirkland Signature</td>\n",
       "      <td>Napa Valley</td>\n",
       "      <td>ChIJMU8qI_lPhIARfMUQoxvSFP4</td>\n",
       "      <td>38.502469</td>\n",
       "      <td>-122.265389</td>\n",
       "    </tr>\n",
       "    <tr>\n",
       "      <th>4</th>\n",
       "      <td>Slightly reduced, this wine offers a chalky, t...</td>\n",
       "      <td>34.0</td>\n",
       "      <td>California</td>\n",
       "      <td>Sonoma</td>\n",
       "      <td>Louis M. Martini 2012 Cabernet Sauvignon (Alex...</td>\n",
       "      <td>Louis M. Martini</td>\n",
       "      <td>Alexander Valley</td>\n",
       "      <td>ChIJD2TljFMUhIARBOZe4vCoE7o</td>\n",
       "      <td>38.612965</td>\n",
       "      <td>-122.769435</td>\n",
       "    </tr>\n",
       "  </tbody>\n",
       "</table>\n",
       "</div>"
      ],
      "text/plain": [
       "                                         description  price    province  \\\n",
       "0  Tart and snappy, the flavors of lime flesh and...   14.0      Oregon   \n",
       "1  Pineapple rind, lemon pith and orange blossom ...   13.0    Michigan   \n",
       "2  Much like the regular bottling from 2012, this...   65.0      Oregon   \n",
       "3  Soft, supple plum envelopes an oaky structure ...   19.0  California   \n",
       "4  Slightly reduced, this wine offers a chalky, t...   34.0  California   \n",
       "\n",
       "              region_2                                              title  \\\n",
       "0    Willamette Valley      Rainstorm 2013 Pinot Gris (Willamette Valley)   \n",
       "1  Lake Michigan Shore  St. Julian 2013 Reserve Late Harvest Riesling ...   \n",
       "2    Willamette Valley  Sweet Cheeks 2012 Vintner's Reserve Wild Child...   \n",
       "3                 Napa  Kirkland Signature 2011 Mountain Cuvée Caberne...   \n",
       "4               Sonoma  Louis M. Martini 2012 Cabernet Sauvignon (Alex...   \n",
       "\n",
       "               winery               region                     Place_id  \\\n",
       "0           Rainstorm    Willamette Valley  ChIJbezwJP6hlVQRBDL4exvIWSo   \n",
       "1          St. Julian  Lake Michigan Shore  ChIJbWjISvi2EIgR-XXUbfv_U1k   \n",
       "2        Sweet Cheeks    Willamette Valley  ChIJbezwJP6hlVQRBDL4exvIWSo   \n",
       "3  Kirkland Signature          Napa Valley  ChIJMU8qI_lPhIARfMUQoxvSFP4   \n",
       "4    Louis M. Martini     Alexander Valley  ChIJD2TljFMUhIARBOZe4vCoE7o   \n",
       "\n",
       "    Latitude   Longitude  \n",
       "0  44.942554 -122.933762  \n",
       "1  42.220870  -86.369469  \n",
       "2  44.942554 -122.933762  \n",
       "3  38.502469 -122.265389  \n",
       "4  38.612965 -122.769435  "
      ]
     },
     "execution_count": 23,
     "metadata": {},
     "output_type": "execute_result"
    }
   ],
   "source": [
    "# Create a DataFrame to hold columns (\"description\", \"price\", \"province\", \"region_2\", \"title\", \"winery\")\n",
    "# that won't be used in machine learning in case we want them later.\n",
    "US_wine_data_title_df = US_wine_data_df.drop(columns=[\"points\", \"region_1\", \"variety\",\"price_bins\"], axis=1)\n",
    "print(US_wine_data_title_df.shape)\n",
    "US_wine_data_title_df.head()"
   ]
  },
  {
   "cell_type": "code",
   "execution_count": 24,
   "metadata": {},
   "outputs": [],
   "source": [
    "# Export data with price bins\n",
    "# Save cleaned columns (\"description\", \"price\", \"province\", \"region_2\", \"title\", \"winery\",\"latitude\", \"longitude\")\n",
    "US_wine_data_title_df.to_sql(name='winedata', con=engine)"
   ]
  },
  {
   "cell_type": "code",
   "execution_count": 25,
   "metadata": {},
   "outputs": [],
   "source": [
    "# Save cleaned columns (\"description\", \"price\", \"province\", \"region_2\", \"title\", \"winery\")\n",
    "# in case we want to load into database later.\n",
    "US_wine_data_title_df.to_csv(\"Data/US_wine_data_title.csv\", index=False)"
   ]
  },
  {
   "cell_type": "code",
   "execution_count": 85,
   "metadata": {},
   "outputs": [
    {
     "name": "stdout",
     "output_type": "stream",
     "text": [
      "(52668, 4)\n"
     ]
    },
    {
     "data": {
      "text/html": [
       "<div>\n",
       "<style scoped>\n",
       "    .dataframe tbody tr th:only-of-type {\n",
       "        vertical-align: middle;\n",
       "    }\n",
       "\n",
       "    .dataframe tbody tr th {\n",
       "        vertical-align: top;\n",
       "    }\n",
       "\n",
       "    .dataframe thead th {\n",
       "        text-align: right;\n",
       "    }\n",
       "</style>\n",
       "<table border=\"1\" class=\"dataframe\">\n",
       "  <thead>\n",
       "    <tr style=\"text-align: right;\">\n",
       "      <th></th>\n",
       "      <th>points</th>\n",
       "      <th>region_1</th>\n",
       "      <th>variety</th>\n",
       "      <th>price_bins</th>\n",
       "    </tr>\n",
       "  </thead>\n",
       "  <tbody>\n",
       "    <tr>\n",
       "      <th>0</th>\n",
       "      <td>87</td>\n",
       "      <td>Willamette Valley</td>\n",
       "      <td>Pinot Gris</td>\n",
       "      <td>&lt;$15</td>\n",
       "    </tr>\n",
       "    <tr>\n",
       "      <th>1</th>\n",
       "      <td>87</td>\n",
       "      <td>Lake Michigan Shore</td>\n",
       "      <td>Riesling</td>\n",
       "      <td>&lt;$15</td>\n",
       "    </tr>\n",
       "    <tr>\n",
       "      <th>2</th>\n",
       "      <td>87</td>\n",
       "      <td>Willamette Valley</td>\n",
       "      <td>Pinot Noir</td>\n",
       "      <td>$60-100</td>\n",
       "    </tr>\n",
       "    <tr>\n",
       "      <th>3</th>\n",
       "      <td>87</td>\n",
       "      <td>Napa Valley</td>\n",
       "      <td>Cabernet Sauvignon</td>\n",
       "      <td>$15-30</td>\n",
       "    </tr>\n",
       "    <tr>\n",
       "      <th>4</th>\n",
       "      <td>87</td>\n",
       "      <td>Alexander Valley</td>\n",
       "      <td>Cabernet Sauvignon</td>\n",
       "      <td>$30-60</td>\n",
       "    </tr>\n",
       "  </tbody>\n",
       "</table>\n",
       "</div>"
      ],
      "text/plain": [
       "  points             region_1             variety price_bins\n",
       "0     87    Willamette Valley          Pinot Gris       <$15\n",
       "1     87  Lake Michigan Shore            Riesling       <$15\n",
       "2     87    Willamette Valley          Pinot Noir    $60-100\n",
       "3     87          Napa Valley  Cabernet Sauvignon     $15-30\n",
       "4     87     Alexander Valley  Cabernet Sauvignon     $30-60"
      ]
     },
     "execution_count": 85,
     "metadata": {},
     "output_type": "execute_result"
    }
   ],
   "source": [
    "# Create DataFrame for machine learning model. Drop: \"description\" - of flavors, i.e. tart and snappy, \n",
    "# oaky, etc., price, province, region_2, \"title\" - name on the bottle, winery.\n",
    "# Dropped lat and long\n",
    "\n",
    "US_wine_data_df_ml = US_wine_data_df.drop(columns=[\"description\", \"price\", \"region\", \"province\", \"region_2\", \"title\", \"winery\", \"Latitude\", \"Longitude\", \"Place_id\"], axis=1)\n",
    "print(US_wine_data_df_ml.shape)\n",
    "US_wine_data_df_ml.head()"
   ]
  },
  {
   "cell_type": "code",
   "execution_count": 86,
   "metadata": {},
   "outputs": [],
   "source": [
    "# Delete This \n",
    "#Save preprocessed dataframe (columns for machine learning: \"points\",\"region_1\",\"\"variety\",\"price_bins\")\n",
    "US_wine_data_df_ml.to_csv(\"Data/US_wine_data_ml.csv\", index=False)"
   ]
  },
  {
   "cell_type": "code",
   "execution_count": 88,
   "metadata": {},
   "outputs": [],
   "source": [
    "# Export data for ML: (columns for machine learning: \"points\",\"region_1\",\"\"variety\",\"price_bins\")\n",
    "US_wine_data_df_ml.to_sql(name='winedata_ml', con=engine)"
   ]
  },
  {
   "cell_type": "markdown",
   "metadata": {},
   "source": [
    "### Checkpoint"
   ]
  },
  {
   "cell_type": "code",
   "execution_count": 89,
   "metadata": {},
   "outputs": [],
   "source": [
    "# # Import data\n",
    "# US_wine_data_df_ml = pd.read_csv(\"Data/US_wine_data_ml.csv\")\n",
    "# print(US_wine_data_df_ml.shape)\n",
    "# US_wine_data_df_ml.head()"
   ]
  },
  {
   "cell_type": "code",
   "execution_count": 90,
   "metadata": {},
   "outputs": [
    {
     "data": {
      "text/plain": [
       "points         21\n",
       "region_1      247\n",
       "variety       256\n",
       "price_bins      6\n",
       "dtype: int64"
      ]
     },
     "execution_count": 90,
     "metadata": {},
     "output_type": "execute_result"
    }
   ],
   "source": [
    "# Look at unique values to see if categorical data requires binning\n",
    "US_wine_data_df_ml.nunique()"
   ]
  },
  {
   "cell_type": "code",
   "execution_count": 91,
   "metadata": {},
   "outputs": [
    {
     "data": {
      "text/plain": [
       "Pinot Noir                        9847\n",
       "Cabernet Sauvignon                7049\n",
       "Chardonnay                        6674\n",
       "Syrah                             3140\n",
       "Red Blend                         2872\n",
       "                                  ... \n",
       "Touriga Nacional Blend               1\n",
       "Malvasia                             1\n",
       "Cabernet Sauvignon-Tempranillo       1\n",
       "Chardonnay-Riesling                  1\n",
       "Riesling-Chardonnay                  1\n",
       "Name: variety, Length: 256, dtype: int64"
      ]
     },
     "execution_count": 91,
     "metadata": {},
     "output_type": "execute_result"
    }
   ],
   "source": [
    "# Determine value_counts for binning\n",
    "variety_counts = US_wine_data_df_ml.variety.value_counts()\n",
    "variety_counts"
   ]
  },
  {
   "cell_type": "code",
   "execution_count": 92,
   "metadata": {},
   "outputs": [
    {
     "data": {
      "text/plain": [
       "<AxesSubplot:ylabel='Density'>"
      ]
     },
     "execution_count": 92,
     "metadata": {},
     "output_type": "execute_result"
    },
    {
     "data": {
      "image/png": "[encoded data removed]",
      "text/plain": [
       "<Figure size 432x288 with 1 Axes>"
      ]
     },
     "metadata": {
      "needs_background": "light"
     },
     "output_type": "display_data"
    }
   ],
   "source": [
    "# Visualize the value counts of variety\n",
    "variety_counts.plot.density()"
   ]
  },
  {
   "cell_type": "code",
   "execution_count": 93,
   "metadata": {},
   "outputs": [
    {
     "data": {
      "text/plain": [
       "Pinot Noir                  9847\n",
       "Cabernet Sauvignon          7049\n",
       "Chardonnay                  6674\n",
       "Other                       4435\n",
       "Syrah                       3140\n",
       "Red Blend                   2872\n",
       "Merlot                      2245\n",
       "Zinfandel                   2235\n",
       "Sauvignon Blanc             2053\n",
       "Bordeaux-style Red Blend    1791\n",
       "Riesling                    1742\n",
       "Cabernet Franc               961\n",
       "Rosé                         874\n",
       "Pinot Gris                   858\n",
       "Viognier                     773\n",
       "Sparkling Blend              674\n",
       "Rhône-style Red Blend        671\n",
       "Petite Sirah                 639\n",
       "White Blend                  615\n",
       "Malbec                       510\n",
       "Grenache                     497\n",
       "Sangiovese                   418\n",
       "Gewürztraminer               403\n",
       "Pinot Grigio                 358\n",
       "Tempranillo                  334\n",
       "Name: variety, dtype: int64"
      ]
     },
     "execution_count": 93,
     "metadata": {},
     "output_type": "execute_result"
    }
   ],
   "source": [
    "# Determine which values to replace.  Per the plot, we tried <500 but after looking\n",
    "# results we decided that we wanted to be more inclusive since some mainstream wines\n",
    "# would be binned in \"other\".  Therefore we lowered the threshold for other to 300.\n",
    "replace_variety = list(variety_counts[variety_counts <= 300].index)\n",
    "\n",
    "# Replace in dataframe\n",
    "for variety in replace_variety:\n",
    "    US_wine_data_df_ml.variety = US_wine_data_df_ml.variety.replace(variety,\"Other\")\n",
    "    \n",
    "# Check to make sure binning was successful\n",
    "US_wine_data_df_ml.variety.value_counts()"
   ]
  },
  {
   "cell_type": "code",
   "execution_count": 94,
   "metadata": {},
   "outputs": [
    {
     "data": {
      "text/plain": [
       "Napa Valley                           4475\n",
       "Columbia Valley (WA)                  4109\n",
       "Russian River Valley                  3090\n",
       "California                            2629\n",
       "Paso Robles                           2327\n",
       "                                      ... \n",
       "Hawaii                                   1\n",
       "Sonoma-Napa-Lake                         1\n",
       "Sonoma County-Santa Barbara County       1\n",
       "Ohio                                     1\n",
       "California-Oregon                        1\n",
       "Name: region_1, Length: 247, dtype: int64"
      ]
     },
     "execution_count": 94,
     "metadata": {},
     "output_type": "execute_result"
    }
   ],
   "source": [
    "# Determine value_counts for binning\n",
    "region_1_counts = US_wine_data_df_ml.region_1.value_counts()\n",
    "region_1_counts"
   ]
  },
  {
   "cell_type": "code",
   "execution_count": 95,
   "metadata": {},
   "outputs": [
    {
     "data": {
      "text/plain": [
       "<AxesSubplot:ylabel='Density'>"
      ]
     },
     "execution_count": 95,
     "metadata": {},
     "output_type": "execute_result"
    },
    {
     "data": {
      "image/png": "[encoded data removed]",
      "text/plain": [
       "<Figure size 432x288 with 1 Axes>"
      ]
     },
     "metadata": {
      "needs_background": "light"
     },
     "output_type": "display_data"
    }
   ],
   "source": [
    "# Visualize the value counts of region_1\n",
    "region_1_counts.plot.density()"
   ]
  },
  {
   "cell_type": "code",
   "execution_count": 96,
   "metadata": {},
   "outputs": [
    {
     "data": {
      "text/plain": [
       "Other                        9355\n",
       "Napa Valley                  4475\n",
       "Columbia Valley (WA)         4109\n",
       "Russian River Valley         3090\n",
       "California                   2629\n",
       "Paso Robles                  2327\n",
       "Willamette Valley            2296\n",
       "Finger Lakes                 1556\n",
       "Sonoma Coast                 1467\n",
       "Sonoma County                1245\n",
       "Walla Walla Valley (WA)      1061\n",
       "Carneros                      999\n",
       "Santa Barbara County          994\n",
       "Yakima Valley                 984\n",
       "Sta. Rita Hills               971\n",
       "Santa Ynez Valley             806\n",
       "Santa Lucia Highlands         802\n",
       "Lodi                          799\n",
       "Alexander Valley              780\n",
       "Central Coast                 737\n",
       "Red Mountain                  719\n",
       "Santa Maria Valley            701\n",
       "Sonoma Valley                 660\n",
       "Anderson Valley               646\n",
       "North Fork of Long Island     596\n",
       "Horse Heaven Hills            554\n",
       "Dundee Hills                  554\n",
       "Virginia                      552\n",
       "Santa Cruz Mountains          547\n",
       "Oregon                        460\n",
       "Washington                    432\n",
       "Rutherford                    409\n",
       "Edna Valley                   404\n",
       "Sierra Foothills              399\n",
       "Amador County                 396\n",
       "Mendocino County              390\n",
       "Rogue Valley                  383\n",
       "Mendocino                     365\n",
       "North Coast                   356\n",
       "Wahluke Slope                 345\n",
       "Monterey                      338\n",
       "Monterey County               336\n",
       "Chehalem Mountains            334\n",
       "El Dorado                     310\n",
       "Name: region_1, dtype: int64"
      ]
     },
     "execution_count": 96,
     "metadata": {},
     "output_type": "execute_result"
    }
   ],
   "source": [
    "# From the plot the curve breaks around 500.\n",
    "replace_region_1 = list(region_1_counts[region_1_counts <= 300].index)\n",
    "\n",
    "# Replace in dataframe\n",
    "for region_1 in replace_region_1:\n",
    "    US_wine_data_df_ml.region_1 = US_wine_data_df_ml.region_1.replace(region_1,\"Other\")\n",
    "    \n",
    "# Check to make sure binning was successful\n",
    "US_wine_data_df_ml.region_1.value_counts()"
   ]
  },
  {
   "cell_type": "markdown",
   "metadata": {},
   "source": [
    "### Encode categorical data"
   ]
  },
  {
   "cell_type": "code",
   "execution_count": 97,
   "metadata": {},
   "outputs": [],
   "source": [
    "# Create variable to hold categorical columns for OneHotEncoder\n",
    "wine_cat = [\"variety\", \"region_1\"]"
   ]
  },
  {
   "cell_type": "code",
   "execution_count": 98,
   "metadata": {},
   "outputs": [
    {
     "data": {
      "text/html": [
       "<div>\n",
       "<style scoped>\n",
       "    .dataframe tbody tr th:only-of-type {\n",
       "        vertical-align: middle;\n",
       "    }\n",
       "\n",
       "    .dataframe tbody tr th {\n",
       "        vertical-align: top;\n",
       "    }\n",
       "\n",
       "    .dataframe thead th {\n",
       "        text-align: right;\n",
       "    }\n",
       "</style>\n",
       "<table border=\"1\" class=\"dataframe\">\n",
       "  <thead>\n",
       "    <tr style=\"text-align: right;\">\n",
       "      <th></th>\n",
       "      <th>variety_Bordeaux-style Red Blend</th>\n",
       "      <th>variety_Cabernet Franc</th>\n",
       "      <th>variety_Cabernet Sauvignon</th>\n",
       "      <th>variety_Chardonnay</th>\n",
       "      <th>variety_Gewürztraminer</th>\n",
       "      <th>variety_Grenache</th>\n",
       "      <th>variety_Malbec</th>\n",
       "      <th>variety_Merlot</th>\n",
       "      <th>variety_Other</th>\n",
       "      <th>variety_Petite Sirah</th>\n",
       "      <th>...</th>\n",
       "      <th>region_1_Sonoma Coast</th>\n",
       "      <th>region_1_Sonoma County</th>\n",
       "      <th>region_1_Sonoma Valley</th>\n",
       "      <th>region_1_Sta. Rita Hills</th>\n",
       "      <th>region_1_Virginia</th>\n",
       "      <th>region_1_Wahluke Slope</th>\n",
       "      <th>region_1_Walla Walla Valley (WA)</th>\n",
       "      <th>region_1_Washington</th>\n",
       "      <th>region_1_Willamette Valley</th>\n",
       "      <th>region_1_Yakima Valley</th>\n",
       "    </tr>\n",
       "  </thead>\n",
       "  <tbody>\n",
       "    <tr>\n",
       "      <th>0</th>\n",
       "      <td>0.0</td>\n",
       "      <td>0.0</td>\n",
       "      <td>0.0</td>\n",
       "      <td>0.0</td>\n",
       "      <td>0.0</td>\n",
       "      <td>0.0</td>\n",
       "      <td>0.0</td>\n",
       "      <td>0.0</td>\n",
       "      <td>0.0</td>\n",
       "      <td>0.0</td>\n",
       "      <td>...</td>\n",
       "      <td>0.0</td>\n",
       "      <td>0.0</td>\n",
       "      <td>0.0</td>\n",
       "      <td>0.0</td>\n",
       "      <td>0.0</td>\n",
       "      <td>0.0</td>\n",
       "      <td>0.0</td>\n",
       "      <td>0.0</td>\n",
       "      <td>1.0</td>\n",
       "      <td>0.0</td>\n",
       "    </tr>\n",
       "    <tr>\n",
       "      <th>1</th>\n",
       "      <td>0.0</td>\n",
       "      <td>0.0</td>\n",
       "      <td>0.0</td>\n",
       "      <td>0.0</td>\n",
       "      <td>0.0</td>\n",
       "      <td>0.0</td>\n",
       "      <td>0.0</td>\n",
       "      <td>0.0</td>\n",
       "      <td>0.0</td>\n",
       "      <td>0.0</td>\n",
       "      <td>...</td>\n",
       "      <td>0.0</td>\n",
       "      <td>0.0</td>\n",
       "      <td>0.0</td>\n",
       "      <td>0.0</td>\n",
       "      <td>0.0</td>\n",
       "      <td>0.0</td>\n",
       "      <td>0.0</td>\n",
       "      <td>0.0</td>\n",
       "      <td>0.0</td>\n",
       "      <td>0.0</td>\n",
       "    </tr>\n",
       "    <tr>\n",
       "      <th>2</th>\n",
       "      <td>0.0</td>\n",
       "      <td>0.0</td>\n",
       "      <td>0.0</td>\n",
       "      <td>0.0</td>\n",
       "      <td>0.0</td>\n",
       "      <td>0.0</td>\n",
       "      <td>0.0</td>\n",
       "      <td>0.0</td>\n",
       "      <td>0.0</td>\n",
       "      <td>0.0</td>\n",
       "      <td>...</td>\n",
       "      <td>0.0</td>\n",
       "      <td>0.0</td>\n",
       "      <td>0.0</td>\n",
       "      <td>0.0</td>\n",
       "      <td>0.0</td>\n",
       "      <td>0.0</td>\n",
       "      <td>0.0</td>\n",
       "      <td>0.0</td>\n",
       "      <td>1.0</td>\n",
       "      <td>0.0</td>\n",
       "    </tr>\n",
       "    <tr>\n",
       "      <th>3</th>\n",
       "      <td>0.0</td>\n",
       "      <td>0.0</td>\n",
       "      <td>1.0</td>\n",
       "      <td>0.0</td>\n",
       "      <td>0.0</td>\n",
       "      <td>0.0</td>\n",
       "      <td>0.0</td>\n",
       "      <td>0.0</td>\n",
       "      <td>0.0</td>\n",
       "      <td>0.0</td>\n",
       "      <td>...</td>\n",
       "      <td>0.0</td>\n",
       "      <td>0.0</td>\n",
       "      <td>0.0</td>\n",
       "      <td>0.0</td>\n",
       "      <td>0.0</td>\n",
       "      <td>0.0</td>\n",
       "      <td>0.0</td>\n",
       "      <td>0.0</td>\n",
       "      <td>0.0</td>\n",
       "      <td>0.0</td>\n",
       "    </tr>\n",
       "    <tr>\n",
       "      <th>4</th>\n",
       "      <td>0.0</td>\n",
       "      <td>0.0</td>\n",
       "      <td>1.0</td>\n",
       "      <td>0.0</td>\n",
       "      <td>0.0</td>\n",
       "      <td>0.0</td>\n",
       "      <td>0.0</td>\n",
       "      <td>0.0</td>\n",
       "      <td>0.0</td>\n",
       "      <td>0.0</td>\n",
       "      <td>...</td>\n",
       "      <td>0.0</td>\n",
       "      <td>0.0</td>\n",
       "      <td>0.0</td>\n",
       "      <td>0.0</td>\n",
       "      <td>0.0</td>\n",
       "      <td>0.0</td>\n",
       "      <td>0.0</td>\n",
       "      <td>0.0</td>\n",
       "      <td>0.0</td>\n",
       "      <td>0.0</td>\n",
       "    </tr>\n",
       "  </tbody>\n",
       "</table>\n",
       "<p>5 rows × 69 columns</p>\n",
       "</div>"
      ],
      "text/plain": [
       "   variety_Bordeaux-style Red Blend  variety_Cabernet Franc  \\\n",
       "0                               0.0                     0.0   \n",
       "1                               0.0                     0.0   \n",
       "2                               0.0                     0.0   \n",
       "3                               0.0                     0.0   \n",
       "4                               0.0                     0.0   \n",
       "\n",
       "   variety_Cabernet Sauvignon  variety_Chardonnay  variety_Gewürztraminer  \\\n",
       "0                         0.0                 0.0                     0.0   \n",
       "1                         0.0                 0.0                     0.0   \n",
       "2                         0.0                 0.0                     0.0   \n",
       "3                         1.0                 0.0                     0.0   \n",
       "4                         1.0                 0.0                     0.0   \n",
       "\n",
       "   variety_Grenache  variety_Malbec  variety_Merlot  variety_Other  \\\n",
       "0               0.0             0.0             0.0            0.0   \n",
       "1               0.0             0.0             0.0            0.0   \n",
       "2               0.0             0.0             0.0            0.0   \n",
       "3               0.0             0.0             0.0            0.0   \n",
       "4               0.0             0.0             0.0            0.0   \n",
       "\n",
       "   variety_Petite Sirah  ...  region_1_Sonoma Coast  region_1_Sonoma County  \\\n",
       "0                   0.0  ...                    0.0                     0.0   \n",
       "1                   0.0  ...                    0.0                     0.0   \n",
       "2                   0.0  ...                    0.0                     0.0   \n",
       "3                   0.0  ...                    0.0                     0.0   \n",
       "4                   0.0  ...                    0.0                     0.0   \n",
       "\n",
       "   region_1_Sonoma Valley  region_1_Sta. Rita Hills  region_1_Virginia  \\\n",
       "0                     0.0                       0.0                0.0   \n",
       "1                     0.0                       0.0                0.0   \n",
       "2                     0.0                       0.0                0.0   \n",
       "3                     0.0                       0.0                0.0   \n",
       "4                     0.0                       0.0                0.0   \n",
       "\n",
       "   region_1_Wahluke Slope  region_1_Walla Walla Valley (WA)  \\\n",
       "0                     0.0                               0.0   \n",
       "1                     0.0                               0.0   \n",
       "2                     0.0                               0.0   \n",
       "3                     0.0                               0.0   \n",
       "4                     0.0                               0.0   \n",
       "\n",
       "   region_1_Washington  region_1_Willamette Valley  region_1_Yakima Valley  \n",
       "0                  0.0                         1.0                     0.0  \n",
       "1                  0.0                         0.0                     0.0  \n",
       "2                  0.0                         1.0                     0.0  \n",
       "3                  0.0                         0.0                     0.0  \n",
       "4                  0.0                         0.0                     0.0  \n",
       "\n",
       "[5 rows x 69 columns]"
      ]
     },
     "execution_count": 98,
     "metadata": {},
     "output_type": "execute_result"
    }
   ],
   "source": [
    "# from sklearn.preprocessing import OneHotEncoder\n",
    "# Create a OneHotEncoder instance\n",
    "enc = OneHotEncoder(sparse=False)\n",
    "\n",
    "# Fit and transform the OneHotEncoder using the categorical variable list\n",
    "encode_df = pd.DataFrame(enc.fit_transform(US_wine_data_df_ml[wine_cat]))\n",
    "\n",
    "# Add the encoded variable names to the dataframe\n",
    "encode_df.columns = enc.get_feature_names(wine_cat)\n",
    "encode_df.shape\n",
    "encode_df.head()"
   ]
  },
  {
   "cell_type": "code",
   "execution_count": 99,
   "metadata": {},
   "outputs": [
    {
     "name": "stdout",
     "output_type": "stream",
     "text": [
      "(52668, 71)\n"
     ]
    },
    {
     "data": {
      "text/html": [
       "<div>\n",
       "<style scoped>\n",
       "    .dataframe tbody tr th:only-of-type {\n",
       "        vertical-align: middle;\n",
       "    }\n",
       "\n",
       "    .dataframe tbody tr th {\n",
       "        vertical-align: top;\n",
       "    }\n",
       "\n",
       "    .dataframe thead th {\n",
       "        text-align: right;\n",
       "    }\n",
       "</style>\n",
       "<table border=\"1\" class=\"dataframe\">\n",
       "  <thead>\n",
       "    <tr style=\"text-align: right;\">\n",
       "      <th></th>\n",
       "      <th>points</th>\n",
       "      <th>price_bins</th>\n",
       "      <th>variety_Bordeaux-style Red Blend</th>\n",
       "      <th>variety_Cabernet Franc</th>\n",
       "      <th>variety_Cabernet Sauvignon</th>\n",
       "      <th>variety_Chardonnay</th>\n",
       "      <th>variety_Gewürztraminer</th>\n",
       "      <th>variety_Grenache</th>\n",
       "      <th>variety_Malbec</th>\n",
       "      <th>variety_Merlot</th>\n",
       "      <th>...</th>\n",
       "      <th>region_1_Sonoma Coast</th>\n",
       "      <th>region_1_Sonoma County</th>\n",
       "      <th>region_1_Sonoma Valley</th>\n",
       "      <th>region_1_Sta. Rita Hills</th>\n",
       "      <th>region_1_Virginia</th>\n",
       "      <th>region_1_Wahluke Slope</th>\n",
       "      <th>region_1_Walla Walla Valley (WA)</th>\n",
       "      <th>region_1_Washington</th>\n",
       "      <th>region_1_Willamette Valley</th>\n",
       "      <th>region_1_Yakima Valley</th>\n",
       "    </tr>\n",
       "  </thead>\n",
       "  <tbody>\n",
       "    <tr>\n",
       "      <th>0</th>\n",
       "      <td>87</td>\n",
       "      <td>&lt;$15</td>\n",
       "      <td>0.0</td>\n",
       "      <td>0.0</td>\n",
       "      <td>0.0</td>\n",
       "      <td>0.0</td>\n",
       "      <td>0.0</td>\n",
       "      <td>0.0</td>\n",
       "      <td>0.0</td>\n",
       "      <td>0.0</td>\n",
       "      <td>...</td>\n",
       "      <td>0.0</td>\n",
       "      <td>0.0</td>\n",
       "      <td>0.0</td>\n",
       "      <td>0.0</td>\n",
       "      <td>0.0</td>\n",
       "      <td>0.0</td>\n",
       "      <td>0.0</td>\n",
       "      <td>0.0</td>\n",
       "      <td>1.0</td>\n",
       "      <td>0.0</td>\n",
       "    </tr>\n",
       "    <tr>\n",
       "      <th>1</th>\n",
       "      <td>87</td>\n",
       "      <td>&lt;$15</td>\n",
       "      <td>0.0</td>\n",
       "      <td>0.0</td>\n",
       "      <td>0.0</td>\n",
       "      <td>0.0</td>\n",
       "      <td>0.0</td>\n",
       "      <td>0.0</td>\n",
       "      <td>0.0</td>\n",
       "      <td>0.0</td>\n",
       "      <td>...</td>\n",
       "      <td>0.0</td>\n",
       "      <td>0.0</td>\n",
       "      <td>0.0</td>\n",
       "      <td>0.0</td>\n",
       "      <td>0.0</td>\n",
       "      <td>0.0</td>\n",
       "      <td>0.0</td>\n",
       "      <td>0.0</td>\n",
       "      <td>0.0</td>\n",
       "      <td>0.0</td>\n",
       "    </tr>\n",
       "    <tr>\n",
       "      <th>2</th>\n",
       "      <td>87</td>\n",
       "      <td>$60-100</td>\n",
       "      <td>0.0</td>\n",
       "      <td>0.0</td>\n",
       "      <td>0.0</td>\n",
       "      <td>0.0</td>\n",
       "      <td>0.0</td>\n",
       "      <td>0.0</td>\n",
       "      <td>0.0</td>\n",
       "      <td>0.0</td>\n",
       "      <td>...</td>\n",
       "      <td>0.0</td>\n",
       "      <td>0.0</td>\n",
       "      <td>0.0</td>\n",
       "      <td>0.0</td>\n",
       "      <td>0.0</td>\n",
       "      <td>0.0</td>\n",
       "      <td>0.0</td>\n",
       "      <td>0.0</td>\n",
       "      <td>1.0</td>\n",
       "      <td>0.0</td>\n",
       "    </tr>\n",
       "    <tr>\n",
       "      <th>3</th>\n",
       "      <td>87</td>\n",
       "      <td>$15-30</td>\n",
       "      <td>0.0</td>\n",
       "      <td>0.0</td>\n",
       "      <td>1.0</td>\n",
       "      <td>0.0</td>\n",
       "      <td>0.0</td>\n",
       "      <td>0.0</td>\n",
       "      <td>0.0</td>\n",
       "      <td>0.0</td>\n",
       "      <td>...</td>\n",
       "      <td>0.0</td>\n",
       "      <td>0.0</td>\n",
       "      <td>0.0</td>\n",
       "      <td>0.0</td>\n",
       "      <td>0.0</td>\n",
       "      <td>0.0</td>\n",
       "      <td>0.0</td>\n",
       "      <td>0.0</td>\n",
       "      <td>0.0</td>\n",
       "      <td>0.0</td>\n",
       "    </tr>\n",
       "    <tr>\n",
       "      <th>4</th>\n",
       "      <td>87</td>\n",
       "      <td>$30-60</td>\n",
       "      <td>0.0</td>\n",
       "      <td>0.0</td>\n",
       "      <td>1.0</td>\n",
       "      <td>0.0</td>\n",
       "      <td>0.0</td>\n",
       "      <td>0.0</td>\n",
       "      <td>0.0</td>\n",
       "      <td>0.0</td>\n",
       "      <td>...</td>\n",
       "      <td>0.0</td>\n",
       "      <td>0.0</td>\n",
       "      <td>0.0</td>\n",
       "      <td>0.0</td>\n",
       "      <td>0.0</td>\n",
       "      <td>0.0</td>\n",
       "      <td>0.0</td>\n",
       "      <td>0.0</td>\n",
       "      <td>0.0</td>\n",
       "      <td>0.0</td>\n",
       "    </tr>\n",
       "  </tbody>\n",
       "</table>\n",
       "<p>5 rows × 71 columns</p>\n",
       "</div>"
      ],
      "text/plain": [
       "  points price_bins  variety_Bordeaux-style Red Blend  variety_Cabernet Franc  \\\n",
       "0     87       <$15                               0.0                     0.0   \n",
       "1     87       <$15                               0.0                     0.0   \n",
       "2     87    $60-100                               0.0                     0.0   \n",
       "3     87     $15-30                               0.0                     0.0   \n",
       "4     87     $30-60                               0.0                     0.0   \n",
       "\n",
       "   variety_Cabernet Sauvignon  variety_Chardonnay  variety_Gewürztraminer  \\\n",
       "0                         0.0                 0.0                     0.0   \n",
       "1                         0.0                 0.0                     0.0   \n",
       "2                         0.0                 0.0                     0.0   \n",
       "3                         1.0                 0.0                     0.0   \n",
       "4                         1.0                 0.0                     0.0   \n",
       "\n",
       "   variety_Grenache  variety_Malbec  variety_Merlot  ...  \\\n",
       "0               0.0             0.0             0.0  ...   \n",
       "1               0.0             0.0             0.0  ...   \n",
       "2               0.0             0.0             0.0  ...   \n",
       "3               0.0             0.0             0.0  ...   \n",
       "4               0.0             0.0             0.0  ...   \n",
       "\n",
       "   region_1_Sonoma Coast  region_1_Sonoma County  region_1_Sonoma Valley  \\\n",
       "0                    0.0                     0.0                     0.0   \n",
       "1                    0.0                     0.0                     0.0   \n",
       "2                    0.0                     0.0                     0.0   \n",
       "3                    0.0                     0.0                     0.0   \n",
       "4                    0.0                     0.0                     0.0   \n",
       "\n",
       "   region_1_Sta. Rita Hills  region_1_Virginia  region_1_Wahluke Slope  \\\n",
       "0                       0.0                0.0                     0.0   \n",
       "1                       0.0                0.0                     0.0   \n",
       "2                       0.0                0.0                     0.0   \n",
       "3                       0.0                0.0                     0.0   \n",
       "4                       0.0                0.0                     0.0   \n",
       "\n",
       "   region_1_Walla Walla Valley (WA)  region_1_Washington  \\\n",
       "0                               0.0                  0.0   \n",
       "1                               0.0                  0.0   \n",
       "2                               0.0                  0.0   \n",
       "3                               0.0                  0.0   \n",
       "4                               0.0                  0.0   \n",
       "\n",
       "   region_1_Willamette Valley  region_1_Yakima Valley  \n",
       "0                         1.0                     0.0  \n",
       "1                         0.0                     0.0  \n",
       "2                         1.0                     0.0  \n",
       "3                         0.0                     0.0  \n",
       "4                         0.0                     0.0  \n",
       "\n",
       "[5 rows x 71 columns]"
      ]
     },
     "execution_count": 99,
     "metadata": {},
     "output_type": "execute_result"
    }
   ],
   "source": [
    "# Merge one-hot encoded features and drop the originals\n",
    "US_wine_data_df_ml = US_wine_data_df_ml.merge(encode_df,left_index=True, right_index=True)\n",
    "US_wine_data_df_ml = US_wine_data_df_ml.drop(wine_cat,axis=1)\n",
    "print(US_wine_data_df_ml.shape)\n",
    "US_wine_data_df_ml.head()"
   ]
  },
  {
   "cell_type": "code",
   "execution_count": 100,
   "metadata": {},
   "outputs": [],
   "source": [
    "# Save preprocessed dataframe to csv for future reference.\n",
    "US_wine_data_df_ml.to_csv(\"Data/US_wine_data_enc.csv\", index=False)"
   ]
  },
  {
   "cell_type": "code",
   "execution_count": 78,
   "metadata": {},
   "outputs": [],
   "source": [
    "# # Import data\n",
    "# US_wine_data_df_ml = pd.read_csv(\"Data/US_wine_data_enc.csv\")"
   ]
  },
  {
   "cell_type": "markdown",
   "metadata": {},
   "source": [
    "### Split preprocessed data "
   ]
  },
  {
   "cell_type": "code",
   "execution_count": 101,
   "metadata": {},
   "outputs": [],
   "source": [
    "# from sklearn.model_selection import train_test_split\n",
    "# Split preprocessed data into our features and target arrays\n",
    "#  Target\n",
    "y = US_wine_data_df_ml[\"price_bins\"].values\n",
    "# Features\n",
    "X = US_wine_data_df_ml.drop([\"price_bins\"],axis=1).values"
   ]
  },
  {
   "cell_type": "code",
   "execution_count": 102,
   "metadata": {},
   "outputs": [],
   "source": [
    "# Split the preprocessed data into a training and testing dataset\n",
    "X_train, X_test, y_train, y_test = train_test_split(X, y, random_state=42)"
   ]
  },
  {
   "cell_type": "code",
   "execution_count": 103,
   "metadata": {},
   "outputs": [],
   "source": [
    "# from sklearn.preprocessing import StandardScaler\n",
    "# Create a StandardScaler instances\n",
    "scaler = StandardScaler()\n",
    "\n",
    "# Fit the StandardScaler\n",
    "X_scaler = scaler.fit(X_train)\n",
    "\n",
    "# Scale the data\n",
    "X_train_scaled = X_scaler.transform(X_train)\n",
    "X_test_scaled = X_scaler.transform(X_test)"
   ]
  },
  {
   "cell_type": "code",
   "execution_count": 104,
   "metadata": {},
   "outputs": [
    {
     "name": "stdout",
     "output_type": "stream",
     "text": [
      "[[-0.18766944 -0.18314892 -0.137695   -0.39438636 -0.3798594  -0.08777402\n",
      "  -0.09750392 -0.09750392 -0.20977538 -0.30366706 -0.11288172 -0.08418835\n",
      "  -0.12843329 -0.48020733 -0.2396848  -0.11516011  5.35099601 -0.12944789\n",
      "  -0.09094041 -0.20127874 -0.11242079 -0.25150619 -0.07900053 -0.12324325\n",
      "  -0.1079487  -0.21069445 -0.12271292 -0.08937079 -0.11137706 -0.22898441\n",
      "  -0.13779042 -0.12078562 -0.07932435  3.43331233 -0.09920947 -0.0883579\n",
      "  -0.07802122 -0.1754013  -0.10329244 -0.12440248 -0.08218273 -0.08479618\n",
      "  -0.08012831 -0.07900053 -0.30292057 -0.08202648 -0.1079487  -0.09248425\n",
      "  -0.46348389 -0.2164614  -0.11661842 -0.08703883 -0.25144929 -0.08893806\n",
      "  -0.13548328 -0.1012707  -0.12482151 -0.11661842 -0.12471687 -0.08821228\n",
      "  -0.1692486  -0.15587582 -0.11379827 -0.13673746 -0.10316719 -0.08124082\n",
      "  -0.14248582 -0.09065698 -0.21556268 -0.14025013]\n",
      " [-1.47071742 -0.18314892  7.26242777 -0.39438636 -0.3798594  -0.08777402\n",
      "  -0.09750392 -0.09750392 -0.20977538 -0.30366706 -0.11288172 -0.08418835\n",
      "  -0.12843329 -0.48020733 -0.2396848  -0.11516011 -0.1868811  -0.12944789\n",
      "  -0.09094041 -0.20127874 -0.11242079 -0.25150619 -0.07900053 -0.12324325\n",
      "  -0.1079487  -0.21069445 -0.12271292 -0.08937079 -0.11137706 -0.22898441\n",
      "  -0.13779042 -0.12078562 -0.07932435 -0.29126392 -0.09920947 -0.0883579\n",
      "  -0.07802122 -0.1754013  -0.10329244 -0.12440248 -0.08218273 -0.08479618\n",
      "  -0.08012831 -0.07900053 -0.30292057 -0.08202648 -0.1079487  -0.09248425\n",
      "   2.15757227 -0.2164614  -0.11661842 -0.08703883 -0.25144929 -0.08893806\n",
      "  -0.13548328 -0.1012707  -0.12482151 -0.11661842 -0.12471687 -0.08821228\n",
      "  -0.1692486  -0.15587582 -0.11379827 -0.13673746 -0.10316719 -0.08124082\n",
      "  -0.14248582 -0.09065698 -0.21556268 -0.14025013]\n",
      " [-1.79147942 -0.18314892 -0.137695   -0.39438636 -0.3798594  -0.08777402\n",
      "  -0.09750392 -0.09750392 -0.20977538 -0.30366706 -0.11288172 -0.08418835\n",
      "  -0.12843329 -0.48020733 -0.2396848  -0.11516011 -0.1868811  -0.12944789\n",
      "  -0.09094041 -0.20127874 -0.11242079  3.97604529 -0.07900053 -0.12324325\n",
      "  -0.1079487  -0.21069445 -0.12271292 -0.08937079 -0.11137706 -0.22898441\n",
      "  -0.13779042 -0.12078562 -0.07932435  3.43331233 -0.09920947 -0.0883579\n",
      "  -0.07802122 -0.1754013  -0.10329244 -0.12440248 -0.08218273 -0.08479618\n",
      "  -0.08012831 -0.07900053 -0.30292057 -0.08202648 -0.1079487  -0.09248425\n",
      "  -0.46348389 -0.2164614  -0.11661842 -0.08703883 -0.25144929 -0.08893806\n",
      "  -0.13548328 -0.1012707  -0.12482151 -0.11661842 -0.12471687 -0.08821228\n",
      "  -0.1692486  -0.15587582 -0.11379827 -0.13673746 -0.10316719 -0.08124082\n",
      "  -0.14248582 -0.09065698 -0.21556268 -0.14025013]\n",
      " [ 0.13309256 -0.18314892 -0.137695   -0.39438636 -0.3798594  -0.08777402\n",
      "  -0.09750392 -0.09750392 -0.20977538 -0.30366706 -0.11288172 -0.08418835\n",
      "  -0.12843329 -0.48020733 -0.2396848  -0.11516011 -0.1868811  -0.12944789\n",
      "  -0.09094041 -0.20127874 -0.11242079  3.97604529 -0.07900053 -0.12324325\n",
      "  -0.1079487  -0.21069445 -0.12271292 -0.08937079 -0.11137706 -0.22898441\n",
      "  -0.13779042 -0.12078562 -0.07932435 -0.29126392 -0.09920947 -0.0883579\n",
      "  -0.07802122 -0.1754013  -0.10329244 -0.12440248 -0.08218273 -0.08479618\n",
      "  -0.08012831 -0.07900053 -0.30292057 -0.08202648 -0.1079487  -0.09248425\n",
      "  -0.46348389  4.61976131 -0.11661842 -0.08703883 -0.25144929 -0.08893806\n",
      "  -0.13548328 -0.1012707  -0.12482151 -0.11661842 -0.12471687 -0.08821228\n",
      "  -0.1692486  -0.15587582 -0.11379827 -0.13673746 -0.10316719 -0.08124082\n",
      "  -0.14248582 -0.09065698 -0.21556268 -0.14025013]\n",
      " [-1.14995543 -0.18314892 -0.137695    2.53558463 -0.3798594  -0.08777402\n",
      "  -0.09750392 -0.09750392 -0.20977538 -0.30366706 -0.11288172 -0.08418835\n",
      "  -0.12843329 -0.48020733 -0.2396848  -0.11516011 -0.1868811  -0.12944789\n",
      "  -0.09094041 -0.20127874 -0.11242079 -0.25150619 -0.07900053 -0.12324325\n",
      "  -0.1079487  -0.21069445 -0.12271292 -0.08937079 -0.11137706 -0.22898441\n",
      "  -0.13779042 -0.12078562 -0.07932435 -0.29126392 -0.09920947 -0.0883579\n",
      "  -0.07802122 -0.1754013  -0.10329244 -0.12440248 -0.08218273 -0.08479618\n",
      "  -0.08012831 -0.07900053 -0.30292057 -0.08202648 -0.1079487  -0.09248425\n",
      "   2.15757227 -0.2164614  -0.11661842 -0.08703883 -0.25144929 -0.08893806\n",
      "  -0.13548328 -0.1012707  -0.12482151 -0.11661842 -0.12471687 -0.08821228\n",
      "  -0.1692486  -0.15587582 -0.11379827 -0.13673746 -0.10316719 -0.08124082\n",
      "  -0.14248582 -0.09065698 -0.21556268 -0.14025013]]\n"
     ]
    }
   ],
   "source": [
    "print(X_train_scaled [0:5])"
   ]
  },
  {
   "cell_type": "markdown",
   "metadata": {},
   "source": [
    "## Machine Learning"
   ]
  },
  {
   "cell_type": "markdown",
   "metadata": {},
   "source": [
    "### Try RandomForestClassifier"
   ]
  },
  {
   "cell_type": "code",
   "execution_count": 105,
   "metadata": {},
   "outputs": [],
   "source": [
    "# from sklearn.ensemble import RandomForestClassifier\n",
    "# from sklearn.metrics import confusion_matrix, accuracy_score, classification_report\n",
    "# Create a random forest classifier. \n",
    "rf_model = RandomForestClassifier(n_estimators=500, random_state=1) "
   ]
  },
  {
   "cell_type": "code",
   "execution_count": 106,
   "metadata": {},
   "outputs": [],
   "source": [
    "# Fitting the model\n",
    "rf_model = rf_model.fit(X_train_scaled, y_train)"
   ]
  },
  {
   "cell_type": "code",
   "execution_count": 107,
   "metadata": {},
   "outputs": [],
   "source": [
    "# Making predictions using the testing data.\n",
    "y_pred = rf_model.predict(X_test_scaled)"
   ]
  },
  {
   "cell_type": "code",
   "execution_count": 108,
   "metadata": {},
   "outputs": [
    {
     "data": {
      "text/plain": [
       "array([[3449, 1255,   38,    1,  439,    0],\n",
       "       [1228, 3336,  225,   17,   58,    0],\n",
       "       [  86,  728,  313,   43,    3,    0],\n",
       "       [   3,   63,  123,   77,    0,    0],\n",
       "       [ 760,   95,    2,    0,  823,    0],\n",
       "       [   0,    1,    0,    1,    0,    0]], dtype=int64)"
      ]
     },
     "execution_count": 108,
     "metadata": {},
     "output_type": "execute_result"
    }
   ],
   "source": [
    "# Display the confustion matrix\n",
    "# from sklearn.metrics import confusion_matrix\n",
    "confusion_matrix(y_test, y_pred)"
   ]
  },
  {
   "cell_type": "code",
   "execution_count": 109,
   "metadata": {},
   "outputs": [],
   "source": [
    "# Calculate the accuracy score\n",
    "# from sklearn.metrics import accuracy_score, classification_report\n",
    "acc_score = accuracy_score(y_test, y_pred)"
   ]
  },
  {
   "cell_type": "code",
   "execution_count": 110,
   "metadata": {},
   "outputs": [
    {
     "name": "stdout",
     "output_type": "stream",
     "text": [
      "Accuracy Score : 0.607427660059239\n",
      "Classification Report\n",
      "              precision    recall  f1-score   support\n",
      "\n",
      "      $15-30       0.62      0.67      0.64      5182\n",
      "      $30-60       0.61      0.69      0.65      4864\n",
      "     $60-100       0.45      0.27      0.33      1173\n",
      "     100-500       0.55      0.29      0.38       266\n",
      "        <$15       0.62      0.49      0.55      1680\n",
      "    too much       0.00      0.00      0.00         2\n",
      "\n",
      "    accuracy                           0.61     13167\n",
      "   macro avg       0.48      0.40      0.43     13167\n",
      "weighted avg       0.60      0.61      0.60     13167\n",
      "\n"
     ]
    },
    {
     "name": "stderr",
     "output_type": "stream",
     "text": [
      "C:\\Users\\rebek\\anaconda3\\envs\\mlenv\\lib\\site-packages\\sklearn\\metrics\\_classification.py:1245: UndefinedMetricWarning: Precision and F-score are ill-defined and being set to 0.0 in labels with no predicted samples. Use `zero_division` parameter to control this behavior.\n",
      "  _warn_prf(average, modifier, msg_start, len(result))\n",
      "C:\\Users\\rebek\\anaconda3\\envs\\mlenv\\lib\\site-packages\\sklearn\\metrics\\_classification.py:1245: UndefinedMetricWarning: Precision and F-score are ill-defined and being set to 0.0 in labels with no predicted samples. Use `zero_division` parameter to control this behavior.\n",
      "  _warn_prf(average, modifier, msg_start, len(result))\n",
      "C:\\Users\\rebek\\anaconda3\\envs\\mlenv\\lib\\site-packages\\sklearn\\metrics\\_classification.py:1245: UndefinedMetricWarning: Precision and F-score are ill-defined and being set to 0.0 in labels with no predicted samples. Use `zero_division` parameter to control this behavior.\n",
      "  _warn_prf(average, modifier, msg_start, len(result))\n"
     ]
    }
   ],
   "source": [
    "# Displaying results\n",
    "print(f\"Accuracy Score : {acc_score}\")\n",
    "print(\"Classification Report\")\n",
    "print(classification_report(y_test, y_pred))"
   ]
  },
  {
   "cell_type": "code",
   "execution_count": null,
   "metadata": {},
   "outputs": [],
   "source": []
  },
  {
   "cell_type": "code",
   "execution_count": null,
   "metadata": {},
   "outputs": [],
   "source": []
  }
 ],
 "metadata": {
  "kernelspec": {
   "display_name": "mlenv",
   "language": "python",
   "name": "mlenv"
  },
  "language_info": {
   "codemirror_mode": {
    "name": "ipython",
    "version": 3
   },
   "file_extension": ".py",
   "mimetype": "text/x-python",
   "name": "python",
   "nbconvert_exporter": "python",
   "pygments_lexer": "ipython3",
   "version": "3.7.7"
  }
 },
 "nbformat": 4,
 "nbformat_minor": 5
}
