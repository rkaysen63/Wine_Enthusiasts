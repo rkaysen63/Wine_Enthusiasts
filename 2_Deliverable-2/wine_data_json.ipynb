{
 "cells": [
  {
   "cell_type": "markdown",
   "id": "f41ce819",
   "metadata": {},
   "source": [
    "# Wine_data_json"
   ]
  },
  {
   "cell_type": "code",
   "execution_count": 1,
   "id": "713f5153",
   "metadata": {},
   "outputs": [],
   "source": [
    "# Import dependencies\n",
    "import pandas as pd\n",
    "import json"
   ]
  },
  {
   "cell_type": "code",
   "execution_count": 2,
   "id": "cbe6904f",
   "metadata": {},
   "outputs": [
    {
     "name": "stdout",
     "output_type": "stream",
     "text": [
      "(54265, 9)\n"
     ]
    },
    {
     "data": {
      "text/html": [
       "<div>\n",
       "<style scoped>\n",
       "    .dataframe tbody tr th:only-of-type {\n",
       "        vertical-align: middle;\n",
       "    }\n",
       "\n",
       "    .dataframe tbody tr th {\n",
       "        vertical-align: top;\n",
       "    }\n",
       "\n",
       "    .dataframe thead th {\n",
       "        text-align: right;\n",
       "    }\n",
       "</style>\n",
       "<table border=\"1\" class=\"dataframe\">\n",
       "  <thead>\n",
       "    <tr style=\"text-align: right;\">\n",
       "      <th></th>\n",
       "      <th>description</th>\n",
       "      <th>points</th>\n",
       "      <th>price</th>\n",
       "      <th>province</th>\n",
       "      <th>region_1</th>\n",
       "      <th>region_2</th>\n",
       "      <th>title</th>\n",
       "      <th>variety</th>\n",
       "      <th>winery</th>\n",
       "    </tr>\n",
       "  </thead>\n",
       "  <tbody>\n",
       "    <tr>\n",
       "      <th>0</th>\n",
       "      <td>Tart and snappy, the flavors of lime flesh and...</td>\n",
       "      <td>87</td>\n",
       "      <td>14.0</td>\n",
       "      <td>Oregon</td>\n",
       "      <td>Willamette Valley</td>\n",
       "      <td>Willamette Valley</td>\n",
       "      <td>Rainstorm 2013 Pinot Gris (Willamette Valley)</td>\n",
       "      <td>Pinot Gris</td>\n",
       "      <td>Rainstorm</td>\n",
       "    </tr>\n",
       "    <tr>\n",
       "      <th>1</th>\n",
       "      <td>Pineapple rind, lemon pith and orange blossom ...</td>\n",
       "      <td>87</td>\n",
       "      <td>13.0</td>\n",
       "      <td>Michigan</td>\n",
       "      <td>Lake Michigan Shore</td>\n",
       "      <td>Lake Michigan Shore</td>\n",
       "      <td>St. Julian 2013 Reserve Late Harvest Riesling ...</td>\n",
       "      <td>Riesling</td>\n",
       "      <td>St. Julian</td>\n",
       "    </tr>\n",
       "    <tr>\n",
       "      <th>2</th>\n",
       "      <td>Much like the regular bottling from 2012, this...</td>\n",
       "      <td>87</td>\n",
       "      <td>65.0</td>\n",
       "      <td>Oregon</td>\n",
       "      <td>Willamette Valley</td>\n",
       "      <td>Willamette Valley</td>\n",
       "      <td>Sweet Cheeks 2012 Vintner's Reserve Wild Child...</td>\n",
       "      <td>Pinot Noir</td>\n",
       "      <td>Sweet Cheeks</td>\n",
       "    </tr>\n",
       "    <tr>\n",
       "      <th>3</th>\n",
       "      <td>Soft, supple plum envelopes an oaky structure ...</td>\n",
       "      <td>87</td>\n",
       "      <td>19.0</td>\n",
       "      <td>California</td>\n",
       "      <td>Napa Valley</td>\n",
       "      <td>Napa</td>\n",
       "      <td>Kirkland Signature 2011 Mountain Cuvée Caberne...</td>\n",
       "      <td>Cabernet Sauvignon</td>\n",
       "      <td>Kirkland Signature</td>\n",
       "    </tr>\n",
       "    <tr>\n",
       "      <th>4</th>\n",
       "      <td>Slightly reduced, this wine offers a chalky, t...</td>\n",
       "      <td>87</td>\n",
       "      <td>34.0</td>\n",
       "      <td>California</td>\n",
       "      <td>Alexander Valley</td>\n",
       "      <td>Sonoma</td>\n",
       "      <td>Louis M. Martini 2012 Cabernet Sauvignon (Alex...</td>\n",
       "      <td>Cabernet Sauvignon</td>\n",
       "      <td>Louis M. Martini</td>\n",
       "    </tr>\n",
       "  </tbody>\n",
       "</table>\n",
       "</div>"
      ],
      "text/plain": [
       "                                         description  points  price  \\\n",
       "0  Tart and snappy, the flavors of lime flesh and...      87   14.0   \n",
       "1  Pineapple rind, lemon pith and orange blossom ...      87   13.0   \n",
       "2  Much like the regular bottling from 2012, this...      87   65.0   \n",
       "3  Soft, supple plum envelopes an oaky structure ...      87   19.0   \n",
       "4  Slightly reduced, this wine offers a chalky, t...      87   34.0   \n",
       "\n",
       "     province             region_1             region_2  \\\n",
       "0      Oregon    Willamette Valley    Willamette Valley   \n",
       "1    Michigan  Lake Michigan Shore  Lake Michigan Shore   \n",
       "2      Oregon    Willamette Valley    Willamette Valley   \n",
       "3  California          Napa Valley                 Napa   \n",
       "4  California     Alexander Valley               Sonoma   \n",
       "\n",
       "                                               title             variety  \\\n",
       "0      Rainstorm 2013 Pinot Gris (Willamette Valley)          Pinot Gris   \n",
       "1  St. Julian 2013 Reserve Late Harvest Riesling ...            Riesling   \n",
       "2  Sweet Cheeks 2012 Vintner's Reserve Wild Child...          Pinot Noir   \n",
       "3  Kirkland Signature 2011 Mountain Cuvée Caberne...  Cabernet Sauvignon   \n",
       "4  Louis M. Martini 2012 Cabernet Sauvignon (Alex...  Cabernet Sauvignon   \n",
       "\n",
       "               winery  \n",
       "0           Rainstorm  \n",
       "1          St. Julian  \n",
       "2        Sweet Cheeks  \n",
       "3  Kirkland Signature  \n",
       "4    Louis M. Martini  "
      ]
     },
     "execution_count": 2,
     "metadata": {},
     "output_type": "execute_result"
    }
   ],
   "source": [
    "# Import cleaned US data\n",
    "US_wine_data_df= pd.read_csv(\"Data/US_wine_data.csv\")\n",
    "print(US_wine_data_df.shape)\n",
    "US_wine_data_df.head()"
   ]
  },
  {
   "cell_type": "markdown",
   "id": "be7b06d2",
   "metadata": {},
   "source": [
    "## Create json file"
   ]
  },
  {
   "cell_type": "code",
   "execution_count": 3,
   "id": "838a72ab",
   "metadata": {},
   "outputs": [],
   "source": [
    "# Export Pandas DataFrame to JSON File\n",
    "# https://datatofish.com/export-pandas-dataframe-json/\n",
    "# US_wine_data_df.to_json(r'Data\\US_wine_data.json', orient='records')"
   ]
  },
  {
   "cell_type": "code",
   "execution_count": 5,
   "id": "4763fc1f",
   "metadata": {},
   "outputs": [
    {
     "name": "stdout",
     "output_type": "stream",
     "text": [
      "(15, 9)\n"
     ]
    },
    {
     "data": {
      "text/html": [
       "<div>\n",
       "<style scoped>\n",
       "    .dataframe tbody tr th:only-of-type {\n",
       "        vertical-align: middle;\n",
       "    }\n",
       "\n",
       "    .dataframe tbody tr th {\n",
       "        vertical-align: top;\n",
       "    }\n",
       "\n",
       "    .dataframe thead th {\n",
       "        text-align: right;\n",
       "    }\n",
       "</style>\n",
       "<table border=\"1\" class=\"dataframe\">\n",
       "  <thead>\n",
       "    <tr style=\"text-align: right;\">\n",
       "      <th></th>\n",
       "      <th>description</th>\n",
       "      <th>points</th>\n",
       "      <th>price</th>\n",
       "      <th>province</th>\n",
       "      <th>region_1</th>\n",
       "      <th>region_2</th>\n",
       "      <th>title</th>\n",
       "      <th>variety</th>\n",
       "      <th>winery</th>\n",
       "    </tr>\n",
       "  </thead>\n",
       "  <tbody>\n",
       "    <tr>\n",
       "      <th>8000</th>\n",
       "      <td>This 100% varietal wine conveys notes of morta...</td>\n",
       "      <td>89</td>\n",
       "      <td>100.0</td>\n",
       "      <td>Washington</td>\n",
       "      <td>Horse Heaven Hills</td>\n",
       "      <td>Columbia Valley</td>\n",
       "      <td>Mercer 2012 Eagle &amp; Plow Block 93 Cabernet Sau...</td>\n",
       "      <td>Cabernet Sauvignon</td>\n",
       "      <td>Mercer</td>\n",
       "    </tr>\n",
       "    <tr>\n",
       "      <th>9000</th>\n",
       "      <td>Unmistakably Riesling from the petrol notes th...</td>\n",
       "      <td>88</td>\n",
       "      <td>25.0</td>\n",
       "      <td>California</td>\n",
       "      <td>Arroyo Seco</td>\n",
       "      <td>Central Coast</td>\n",
       "      <td>Scratch 2011 Riesling (Arroyo Seco)</td>\n",
       "      <td>Riesling</td>\n",
       "      <td>Scratch</td>\n",
       "    </tr>\n",
       "    <tr>\n",
       "      <th>12000</th>\n",
       "      <td>This starts with concentrated boysenberry and ...</td>\n",
       "      <td>85</td>\n",
       "      <td>50.0</td>\n",
       "      <td>Washington</td>\n",
       "      <td>Columbia Valley (WA)</td>\n",
       "      <td>Columbia Valley</td>\n",
       "      <td>Woodinville Wine Cellars 2012 Reserve Syrah (C...</td>\n",
       "      <td>Syrah</td>\n",
       "      <td>Woodinville Wine Cellars</td>\n",
       "    </tr>\n",
       "  </tbody>\n",
       "</table>\n",
       "</div>"
      ],
      "text/plain": [
       "                                             description  points  price  \\\n",
       "8000   This 100% varietal wine conveys notes of morta...      89  100.0   \n",
       "9000   Unmistakably Riesling from the petrol notes th...      88   25.0   \n",
       "12000  This starts with concentrated boysenberry and ...      85   50.0   \n",
       "\n",
       "         province              region_1         region_2  \\\n",
       "8000   Washington    Horse Heaven Hills  Columbia Valley   \n",
       "9000   California           Arroyo Seco    Central Coast   \n",
       "12000  Washington  Columbia Valley (WA)  Columbia Valley   \n",
       "\n",
       "                                                   title             variety  \\\n",
       "8000   Mercer 2012 Eagle & Plow Block 93 Cabernet Sau...  Cabernet Sauvignon   \n",
       "9000                 Scratch 2011 Riesling (Arroyo Seco)            Riesling   \n",
       "12000  Woodinville Wine Cellars 2012 Reserve Syrah (C...               Syrah   \n",
       "\n",
       "                         winery  \n",
       "8000                     Mercer  \n",
       "9000                    Scratch  \n",
       "12000  Woodinville Wine Cellars  "
      ]
     },
     "execution_count": 5,
     "metadata": {},
     "output_type": "execute_result"
    }
   ],
   "source": [
    "# create small test set for website testing\n",
    "US_wine_data_test_df = pd.DataFrame(US_wine_data_df, index =[0,1,2,3,4,100,200,300,400,500,6000,7000,8000,9000,12000])\n",
    "print(US_wine_data_test_df.shape)\n",
    "US_wine_data_test_df.tail(3)"
   ]
  },
  {
   "cell_type": "code",
   "execution_count": 6,
   "id": "34478ca0",
   "metadata": {},
   "outputs": [],
   "source": [
    "US_wine_data_test_df.to_json(r'Data\\US_wine_data_test.json', orient='records')"
   ]
  },
  {
   "cell_type": "code",
   "execution_count": null,
   "id": "1c4f1d93",
   "metadata": {},
   "outputs": [],
   "source": []
  }
 ],
 "metadata": {
  "kernelspec": {
   "display_name": "mlenv",
   "language": "python",
   "name": "mlenv"
  },
  "language_info": {
   "codemirror_mode": {
    "name": "ipython",
    "version": 3
   },
   "file_extension": ".py",
   "mimetype": "text/x-python",
   "name": "python",
   "nbconvert_exporter": "python",
   "pygments_lexer": "ipython3",
   "version": "3.7.10"
  }
 },
 "nbformat": 4,
 "nbformat_minor": 5
}
