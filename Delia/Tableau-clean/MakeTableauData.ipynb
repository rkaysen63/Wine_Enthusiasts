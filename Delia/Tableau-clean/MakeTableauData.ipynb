{
 "cells": [
  {
   "cell_type": "code",
   "execution_count": 1,
   "id": "588fc688",
   "metadata": {},
   "outputs": [],
   "source": [
    "# Import dependencies\n",
    "import pandas as pd"
   ]
  },
  {
   "cell_type": "code",
   "execution_count": 2,
   "id": "42c74138",
   "metadata": {},
   "outputs": [
    {
     "name": "stdout",
     "output_type": "stream",
     "text": [
      "(40345, 12)\n"
     ]
    }
   ],
   "source": [
    "# Import data\n",
    "wine_data_df = pd.read_csv(\"Data/dashboard_wine_data.csv\")  \n",
    "print(wine_data_df.shape)"
   ]
  },
  {
   "cell_type": "code",
   "execution_count": 3,
   "id": "c6aff35f",
   "metadata": {},
   "outputs": [
    {
     "data": {
      "text/html": [
       "<div>\n",
       "<style scoped>\n",
       "    .dataframe tbody tr th:only-of-type {\n",
       "        vertical-align: middle;\n",
       "    }\n",
       "\n",
       "    .dataframe tbody tr th {\n",
       "        vertical-align: top;\n",
       "    }\n",
       "\n",
       "    .dataframe thead th {\n",
       "        text-align: right;\n",
       "    }\n",
       "</style>\n",
       "<table border=\"1\" class=\"dataframe\">\n",
       "  <thead>\n",
       "    <tr style=\"text-align: right;\">\n",
       "      <th></th>\n",
       "      <th>province</th>\n",
       "      <th>region</th>\n",
       "      <th>Latitude</th>\n",
       "      <th>Longitude</th>\n",
       "      <th>winery</th>\n",
       "      <th>variety</th>\n",
       "      <th>type</th>\n",
       "      <th>title</th>\n",
       "      <th>points</th>\n",
       "      <th>price</th>\n",
       "      <th>price_bins</th>\n",
       "      <th>description</th>\n",
       "    </tr>\n",
       "  </thead>\n",
       "  <tbody>\n",
       "    <tr>\n",
       "      <th>0</th>\n",
       "      <td>Oregon</td>\n",
       "      <td>Willamette Valley</td>\n",
       "      <td>44.942554</td>\n",
       "      <td>-122.933762</td>\n",
       "      <td>Rainstorm</td>\n",
       "      <td>Pinot Gris</td>\n",
       "      <td>White</td>\n",
       "      <td>Rainstorm 2013 Pinot Gris (Willamette Valley)</td>\n",
       "      <td>87</td>\n",
       "      <td>14</td>\n",
       "      <td>&lt;$15</td>\n",
       "      <td>Tart and snappy, the flavors of lime flesh and...</td>\n",
       "    </tr>\n",
       "    <tr>\n",
       "      <th>1</th>\n",
       "      <td>Oregon</td>\n",
       "      <td>Willamette Valley</td>\n",
       "      <td>44.942554</td>\n",
       "      <td>-122.933762</td>\n",
       "      <td>Sweet Cheeks</td>\n",
       "      <td>Pinot Noir</td>\n",
       "      <td>Red</td>\n",
       "      <td>Sweet Cheeks 2012 Vintner's Reserve Wild Child...</td>\n",
       "      <td>87</td>\n",
       "      <td>65</td>\n",
       "      <td>$60-100</td>\n",
       "      <td>Much like the regular bottling from 2012, this...</td>\n",
       "    </tr>\n",
       "  </tbody>\n",
       "</table>\n",
       "</div>"
      ],
      "text/plain": [
       "  province             region   Latitude   Longitude        winery  \\\n",
       "0   Oregon  Willamette Valley  44.942554 -122.933762     Rainstorm   \n",
       "1   Oregon  Willamette Valley  44.942554 -122.933762  Sweet Cheeks   \n",
       "\n",
       "      variety   type                                              title  \\\n",
       "0  Pinot Gris  White      Rainstorm 2013 Pinot Gris (Willamette Valley)   \n",
       "1  Pinot Noir    Red  Sweet Cheeks 2012 Vintner's Reserve Wild Child...   \n",
       "\n",
       "   points  price price_bins                                        description  \n",
       "0      87     14       <$15  Tart and snappy, the flavors of lime flesh and...  \n",
       "1      87     65    $60-100  Much like the regular bottling from 2012, this...  "
      ]
     },
     "execution_count": 3,
     "metadata": {},
     "output_type": "execute_result"
    }
   ],
   "source": [
    "wine_data_df.head(2)"
   ]
  },
  {
   "cell_type": "code",
   "execution_count": 4,
   "id": "17f8e84f",
   "metadata": {},
   "outputs": [
    {
     "name": "stdout",
     "output_type": "stream",
     "text": [
      "(40345, 11)\n"
     ]
    }
   ],
   "source": [
    "#dropping description, not needed for Tableau data\n",
    "\n",
    "wine_data_df = wine_data_df.drop(columns=[\"description\"], axis=1)\n",
    "\n",
    "print(wine_data_df.shape)\n",
    "# wine_data_df.head()\n"
   ]
  },
  {
   "cell_type": "code",
   "execution_count": 5,
   "id": "e6cd0be8",
   "metadata": {},
   "outputs": [],
   "source": [
    "tableau_df = wine_data_df"
   ]
  },
  {
   "cell_type": "markdown",
   "id": "93ffcb97",
   "metadata": {},
   "source": [
    "### Dropping rows to pare down size\n"
   ]
  },
  {
   "cell_type": "code",
   "execution_count": 6,
   "id": "5f59e67e",
   "metadata": {},
   "outputs": [
    {
     "data": {
      "text/plain": [
       "(38410, 11)"
      ]
     },
     "execution_count": 6,
     "metadata": {},
     "output_type": "execute_result"
    }
   ],
   "source": [
    "tableau_df.drop(tableau_df.loc[tableau_df['province']==\"New York\"].index, inplace=True)\n",
    "tableau_df.shape"
   ]
  },
  {
   "cell_type": "code",
   "execution_count": 7,
   "id": "b80f8974",
   "metadata": {},
   "outputs": [
    {
     "data": {
      "text/plain": [
       "(37981, 11)"
      ]
     },
     "execution_count": 7,
     "metadata": {},
     "output_type": "execute_result"
    }
   ],
   "source": [
    "tableau_df.drop(tableau_df.loc[tableau_df['province']==\"Virginia\"].index, inplace=True)\n",
    "tableau_df.shape"
   ]
  },
  {
   "cell_type": "code",
   "execution_count": 8,
   "id": "08322b63",
   "metadata": {},
   "outputs": [
    {
     "data": {
      "text/plain": [
       "(32948, 11)"
      ]
     },
     "execution_count": 8,
     "metadata": {},
     "output_type": "execute_result"
    }
   ],
   "source": [
    "tableau_df.drop(tableau_df.loc[tableau_df['price_bins']==\"<$15\"].index, inplace=True)\n",
    "tableau_df.shape"
   ]
  },
  {
   "cell_type": "code",
   "execution_count": 9,
   "id": "cbf83442",
   "metadata": {},
   "outputs": [
    {
     "data": {
      "text/plain": [
       "(32944, 11)"
      ]
     },
     "execution_count": 9,
     "metadata": {},
     "output_type": "execute_result"
    }
   ],
   "source": [
    "tableau_df.drop(tableau_df.loc[tableau_df['price_bins']==\"too much\"].index, inplace=True)\n",
    "tableau_df.shape"
   ]
  },
  {
   "cell_type": "code",
   "execution_count": 10,
   "id": "1b927192",
   "metadata": {},
   "outputs": [
    {
     "data": {
      "text/plain": [
       "(32293, 11)"
      ]
     },
     "execution_count": 10,
     "metadata": {},
     "output_type": "execute_result"
    }
   ],
   "source": [
    "tableau_df.drop(tableau_df.loc[tableau_df['price_bins']==\"100-500\"].index, inplace=True)\n",
    "tableau_df.shape"
   ]
  },
  {
   "cell_type": "code",
   "execution_count": 11,
   "id": "ea289ec8",
   "metadata": {},
   "outputs": [],
   "source": [
    "tableau_df = tableau_df.rename(columns={'province': 'state'})"
   ]
  },
  {
   "cell_type": "code",
   "execution_count": 12,
   "id": "bd749576",
   "metadata": {},
   "outputs": [
    {
     "data": {
      "text/html": [
       "<div>\n",
       "<style scoped>\n",
       "    .dataframe tbody tr th:only-of-type {\n",
       "        vertical-align: middle;\n",
       "    }\n",
       "\n",
       "    .dataframe tbody tr th {\n",
       "        vertical-align: top;\n",
       "    }\n",
       "\n",
       "    .dataframe thead th {\n",
       "        text-align: right;\n",
       "    }\n",
       "</style>\n",
       "<table border=\"1\" class=\"dataframe\">\n",
       "  <thead>\n",
       "    <tr style=\"text-align: right;\">\n",
       "      <th></th>\n",
       "      <th>state</th>\n",
       "      <th>region</th>\n",
       "      <th>Latitude</th>\n",
       "      <th>Longitude</th>\n",
       "      <th>winery</th>\n",
       "      <th>variety</th>\n",
       "      <th>type</th>\n",
       "      <th>title</th>\n",
       "      <th>points</th>\n",
       "      <th>price</th>\n",
       "      <th>price_bins</th>\n",
       "    </tr>\n",
       "  </thead>\n",
       "  <tbody>\n",
       "    <tr>\n",
       "      <th>1</th>\n",
       "      <td>Oregon</td>\n",
       "      <td>Willamette Valley</td>\n",
       "      <td>44.942554</td>\n",
       "      <td>-122.933762</td>\n",
       "      <td>Sweet Cheeks</td>\n",
       "      <td>Pinot Noir</td>\n",
       "      <td>Red</td>\n",
       "      <td>Sweet Cheeks 2012 Vintner's Reserve Wild Child...</td>\n",
       "      <td>87</td>\n",
       "      <td>65</td>\n",
       "      <td>$60-100</td>\n",
       "    </tr>\n",
       "    <tr>\n",
       "      <th>2</th>\n",
       "      <td>California</td>\n",
       "      <td>Napa Valley</td>\n",
       "      <td>38.502469</td>\n",
       "      <td>-122.265389</td>\n",
       "      <td>Kirkland Signature</td>\n",
       "      <td>Cabernet Sauvignon</td>\n",
       "      <td>Red</td>\n",
       "      <td>Kirkland Signature 2011 Mountain Cuvée Caberne...</td>\n",
       "      <td>87</td>\n",
       "      <td>19</td>\n",
       "      <td>$15-30</td>\n",
       "    </tr>\n",
       "    <tr>\n",
       "      <th>3</th>\n",
       "      <td>California</td>\n",
       "      <td>Alexander Valley</td>\n",
       "      <td>38.612965</td>\n",
       "      <td>-122.769435</td>\n",
       "      <td>Louis M. Martini</td>\n",
       "      <td>Cabernet Sauvignon</td>\n",
       "      <td>Red</td>\n",
       "      <td>Louis M. Martini 2012 Cabernet Sauvignon (Alex...</td>\n",
       "      <td>87</td>\n",
       "      <td>34</td>\n",
       "      <td>$30-60</td>\n",
       "    </tr>\n",
       "    <tr>\n",
       "      <th>6</th>\n",
       "      <td>Oregon</td>\n",
       "      <td>Oregon</td>\n",
       "      <td>43.804133</td>\n",
       "      <td>-120.554201</td>\n",
       "      <td>Acrobat</td>\n",
       "      <td>Pinot Noir</td>\n",
       "      <td>Red</td>\n",
       "      <td>Acrobat 2013 Pinot Noir (Oregon)</td>\n",
       "      <td>87</td>\n",
       "      <td>20</td>\n",
       "      <td>$15-30</td>\n",
       "    </tr>\n",
       "    <tr>\n",
       "      <th>7</th>\n",
       "      <td>California</td>\n",
       "      <td>Paso Robles</td>\n",
       "      <td>35.636876</td>\n",
       "      <td>-120.654502</td>\n",
       "      <td>Bianchi</td>\n",
       "      <td>Merlot</td>\n",
       "      <td>Red</td>\n",
       "      <td>Bianchi 2011 Signature Selection Merlot (Paso ...</td>\n",
       "      <td>87</td>\n",
       "      <td>22</td>\n",
       "      <td>$15-30</td>\n",
       "    </tr>\n",
       "  </tbody>\n",
       "</table>\n",
       "</div>"
      ],
      "text/plain": [
       "        state             region   Latitude   Longitude              winery  \\\n",
       "1      Oregon  Willamette Valley  44.942554 -122.933762        Sweet Cheeks   \n",
       "2  California        Napa Valley  38.502469 -122.265389  Kirkland Signature   \n",
       "3  California   Alexander Valley  38.612965 -122.769435    Louis M. Martini   \n",
       "6      Oregon             Oregon  43.804133 -120.554201             Acrobat   \n",
       "7  California        Paso Robles  35.636876 -120.654502             Bianchi   \n",
       "\n",
       "              variety type                                              title  \\\n",
       "1          Pinot Noir  Red  Sweet Cheeks 2012 Vintner's Reserve Wild Child...   \n",
       "2  Cabernet Sauvignon  Red  Kirkland Signature 2011 Mountain Cuvée Caberne...   \n",
       "3  Cabernet Sauvignon  Red  Louis M. Martini 2012 Cabernet Sauvignon (Alex...   \n",
       "6          Pinot Noir  Red                   Acrobat 2013 Pinot Noir (Oregon)   \n",
       "7              Merlot  Red  Bianchi 2011 Signature Selection Merlot (Paso ...   \n",
       "\n",
       "   points  price price_bins  \n",
       "1      87     65    $60-100  \n",
       "2      87     19     $15-30  \n",
       "3      87     34     $30-60  \n",
       "6      87     20     $15-30  \n",
       "7      87     22     $15-30  "
      ]
     },
     "execution_count": 12,
     "metadata": {},
     "output_type": "execute_result"
    }
   ],
   "source": [
    "tableau_df.head()"
   ]
  },
  {
   "cell_type": "code",
   "execution_count": 13,
   "id": "e25db261",
   "metadata": {},
   "outputs": [],
   "source": [
    "# Save new dataframe\n",
    "tableau_df.to_csv(\"Data/tableau_data.csv\", index=False)"
   ]
  },
  {
   "cell_type": "code",
   "execution_count": null,
   "id": "55fff469",
   "metadata": {},
   "outputs": [],
   "source": []
  }
 ],
 "metadata": {
  "kernelspec": {
   "display_name": "mlenv",
   "language": "python",
   "name": "mlenv"
  },
  "language_info": {
   "codemirror_mode": {
    "name": "ipython",
    "version": 3
   },
   "file_extension": ".py",
   "mimetype": "text/x-python",
   "name": "python",
   "nbconvert_exporter": "python",
   "pygments_lexer": "ipython3",
   "version": "3.7.10"
  }
 },
 "nbformat": 4,
 "nbformat_minor": 5
}
